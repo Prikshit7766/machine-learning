{
 "cells": [
  {
   "cell_type": "code",
   "execution_count": 1,
   "id": "9c2185ec",
   "metadata": {},
   "outputs": [],
   "source": [
    "import pandas as pd\n",
    "import seaborn as sns\n",
    "import numpy as np\n",
    "from statistics import mean\n",
    "import matplotlib.pyplot as plt\n",
    "import warnings\n",
    "from sklearn.preprocessing import PowerTransformer\n",
    "import numpy as np\n",
    "from sklearn.preprocessing import LabelEncoder\n",
    "from sklearn.pipeline import Pipeline\n",
    "from sklearn.utils import resample\n",
    "\n",
    "from sklearn.linear_model import LogisticRegression\n",
    "from sklearn.ensemble import RandomForestClassifier, AdaBoostClassifier, GradientBoostingClassifier\n",
    "from sklearn.neighbors import KNeighborsClassifier\n",
    "from sklearn.tree import DecisionTreeClassifier\n",
    "from sklearn.svm import SVC\n",
    "from sklearn.metrics import accuracy_score, classification_report,ConfusionMatrixDisplay, \\\n",
    "                            precision_score, recall_score, f1_score, roc_auc_score,roc_curve,confusion_matrix\n",
    "\n",
    "\n",
    "from sklearn import metrics \n",
    "from sklearn.model_selection import  train_test_split, RepeatedStratifiedKFold, cross_val_score\n",
    "from sklearn.preprocessing import OneHotEncoder, MinMaxScaler\n",
    "from sklearn.compose import ColumnTransformer\n",
    "from sklearn.impute import SimpleImputer, KNNImputer\n",
    "from xgboost import XGBClassifier\n",
    "from sklearn.preprocessing import StandardScaler, MinMaxScaler,RobustScaler\n",
    "from sklearn.compose import ColumnTransformer\n",
    "from catboost import CatBoostClassifier\n",
    "from sklearn.model_selection import StratifiedKFold\n",
    "from sklearn.model_selection import GridSearchCV\n",
    "\n",
    "warnings.filterwarnings(\"ignore\")\n",
    "%matplotlib inline"
   ]
  },
  {
   "cell_type": "code",
   "execution_count": 2,
   "id": "826c4a1b",
   "metadata": {},
   "outputs": [],
   "source": [
    "df=pd.read_csv(\"Fraud.csv\")"
   ]
  },
  {
   "cell_type": "markdown",
   "id": "f4cae828",
   "metadata": {},
   "source": [
    "### Show Top 5 Records"
   ]
  },
  {
   "cell_type": "code",
   "execution_count": 3,
   "id": "ac46e448",
   "metadata": {},
   "outputs": [
    {
     "data": {
      "text/html": [
       "<div>\n",
       "<style scoped>\n",
       "    .dataframe tbody tr th:only-of-type {\n",
       "        vertical-align: middle;\n",
       "    }\n",
       "\n",
       "    .dataframe tbody tr th {\n",
       "        vertical-align: top;\n",
       "    }\n",
       "\n",
       "    .dataframe thead th {\n",
       "        text-align: right;\n",
       "    }\n",
       "</style>\n",
       "<table border=\"1\" class=\"dataframe\">\n",
       "  <thead>\n",
       "    <tr style=\"text-align: right;\">\n",
       "      <th></th>\n",
       "      <th>step</th>\n",
       "      <th>type</th>\n",
       "      <th>amount</th>\n",
       "      <th>nameOrig</th>\n",
       "      <th>oldbalanceOrg</th>\n",
       "      <th>newbalanceOrig</th>\n",
       "      <th>nameDest</th>\n",
       "      <th>oldbalanceDest</th>\n",
       "      <th>newbalanceDest</th>\n",
       "      <th>isFraud</th>\n",
       "      <th>isFlaggedFraud</th>\n",
       "    </tr>\n",
       "  </thead>\n",
       "  <tbody>\n",
       "    <tr>\n",
       "      <th>0</th>\n",
       "      <td>1</td>\n",
       "      <td>PAYMENT</td>\n",
       "      <td>9839.64</td>\n",
       "      <td>C1231006815</td>\n",
       "      <td>170136.0</td>\n",
       "      <td>160296.36</td>\n",
       "      <td>M1979787155</td>\n",
       "      <td>0.0</td>\n",
       "      <td>0.0</td>\n",
       "      <td>0</td>\n",
       "      <td>0</td>\n",
       "    </tr>\n",
       "    <tr>\n",
       "      <th>1</th>\n",
       "      <td>1</td>\n",
       "      <td>PAYMENT</td>\n",
       "      <td>1864.28</td>\n",
       "      <td>C1666544295</td>\n",
       "      <td>21249.0</td>\n",
       "      <td>19384.72</td>\n",
       "      <td>M2044282225</td>\n",
       "      <td>0.0</td>\n",
       "      <td>0.0</td>\n",
       "      <td>0</td>\n",
       "      <td>0</td>\n",
       "    </tr>\n",
       "    <tr>\n",
       "      <th>2</th>\n",
       "      <td>1</td>\n",
       "      <td>TRANSFER</td>\n",
       "      <td>181.00</td>\n",
       "      <td>C1305486145</td>\n",
       "      <td>181.0</td>\n",
       "      <td>0.00</td>\n",
       "      <td>C553264065</td>\n",
       "      <td>0.0</td>\n",
       "      <td>0.0</td>\n",
       "      <td>1</td>\n",
       "      <td>0</td>\n",
       "    </tr>\n",
       "    <tr>\n",
       "      <th>3</th>\n",
       "      <td>1</td>\n",
       "      <td>CASH_OUT</td>\n",
       "      <td>181.00</td>\n",
       "      <td>C840083671</td>\n",
       "      <td>181.0</td>\n",
       "      <td>0.00</td>\n",
       "      <td>C38997010</td>\n",
       "      <td>21182.0</td>\n",
       "      <td>0.0</td>\n",
       "      <td>1</td>\n",
       "      <td>0</td>\n",
       "    </tr>\n",
       "    <tr>\n",
       "      <th>4</th>\n",
       "      <td>1</td>\n",
       "      <td>PAYMENT</td>\n",
       "      <td>11668.14</td>\n",
       "      <td>C2048537720</td>\n",
       "      <td>41554.0</td>\n",
       "      <td>29885.86</td>\n",
       "      <td>M1230701703</td>\n",
       "      <td>0.0</td>\n",
       "      <td>0.0</td>\n",
       "      <td>0</td>\n",
       "      <td>0</td>\n",
       "    </tr>\n",
       "  </tbody>\n",
       "</table>\n",
       "</div>"
      ],
      "text/plain": [
       "   step      type    amount     nameOrig  oldbalanceOrg  newbalanceOrig  \\\n",
       "0     1   PAYMENT   9839.64  C1231006815       170136.0       160296.36   \n",
       "1     1   PAYMENT   1864.28  C1666544295        21249.0        19384.72   \n",
       "2     1  TRANSFER    181.00  C1305486145          181.0            0.00   \n",
       "3     1  CASH_OUT    181.00   C840083671          181.0            0.00   \n",
       "4     1   PAYMENT  11668.14  C2048537720        41554.0        29885.86   \n",
       "\n",
       "      nameDest  oldbalanceDest  newbalanceDest  isFraud  isFlaggedFraud  \n",
       "0  M1979787155             0.0             0.0        0               0  \n",
       "1  M2044282225             0.0             0.0        0               0  \n",
       "2   C553264065             0.0             0.0        1               0  \n",
       "3    C38997010         21182.0             0.0        1               0  \n",
       "4  M1230701703             0.0             0.0        0               0  "
      ]
     },
     "execution_count": 3,
     "metadata": {},
     "output_type": "execute_result"
    }
   ],
   "source": [
    "df.head()"
   ]
  },
  {
   "cell_type": "markdown",
   "id": "d757f0f5",
   "metadata": {},
   "source": [
    "### Shape of the dataset"
   ]
  },
  {
   "cell_type": "code",
   "execution_count": 4,
   "id": "749a0c13",
   "metadata": {},
   "outputs": [
    {
     "data": {
      "text/plain": [
       "(6362620, 11)"
      ]
     },
     "execution_count": 4,
     "metadata": {},
     "output_type": "execute_result"
    }
   ],
   "source": [
    "df.shape"
   ]
  },
  {
   "cell_type": "markdown",
   "id": "5c665d23",
   "metadata": {},
   "source": [
    "### Summary of the dataset"
   ]
  },
  {
   "cell_type": "code",
   "execution_count": 5,
   "id": "1b8def33",
   "metadata": {},
   "outputs": [
    {
     "data": {
      "text/html": [
       "<div>\n",
       "<style scoped>\n",
       "    .dataframe tbody tr th:only-of-type {\n",
       "        vertical-align: middle;\n",
       "    }\n",
       "\n",
       "    .dataframe tbody tr th {\n",
       "        vertical-align: top;\n",
       "    }\n",
       "\n",
       "    .dataframe thead th {\n",
       "        text-align: right;\n",
       "    }\n",
       "</style>\n",
       "<table border=\"1\" class=\"dataframe\">\n",
       "  <thead>\n",
       "    <tr style=\"text-align: right;\">\n",
       "      <th></th>\n",
       "      <th>count</th>\n",
       "      <th>mean</th>\n",
       "      <th>std</th>\n",
       "      <th>min</th>\n",
       "      <th>25%</th>\n",
       "      <th>50%</th>\n",
       "      <th>75%</th>\n",
       "      <th>max</th>\n",
       "    </tr>\n",
       "  </thead>\n",
       "  <tbody>\n",
       "    <tr>\n",
       "      <th>step</th>\n",
       "      <td>6362620.0</td>\n",
       "      <td>2.433972e+02</td>\n",
       "      <td>1.423320e+02</td>\n",
       "      <td>1.0</td>\n",
       "      <td>156.00</td>\n",
       "      <td>239.000</td>\n",
       "      <td>3.350000e+02</td>\n",
       "      <td>7.430000e+02</td>\n",
       "    </tr>\n",
       "    <tr>\n",
       "      <th>amount</th>\n",
       "      <td>6362620.0</td>\n",
       "      <td>1.798619e+05</td>\n",
       "      <td>6.038582e+05</td>\n",
       "      <td>0.0</td>\n",
       "      <td>13389.57</td>\n",
       "      <td>74871.940</td>\n",
       "      <td>2.087215e+05</td>\n",
       "      <td>9.244552e+07</td>\n",
       "    </tr>\n",
       "    <tr>\n",
       "      <th>oldbalanceOrg</th>\n",
       "      <td>6362620.0</td>\n",
       "      <td>8.338831e+05</td>\n",
       "      <td>2.888243e+06</td>\n",
       "      <td>0.0</td>\n",
       "      <td>0.00</td>\n",
       "      <td>14208.000</td>\n",
       "      <td>1.073152e+05</td>\n",
       "      <td>5.958504e+07</td>\n",
       "    </tr>\n",
       "    <tr>\n",
       "      <th>newbalanceOrig</th>\n",
       "      <td>6362620.0</td>\n",
       "      <td>8.551137e+05</td>\n",
       "      <td>2.924049e+06</td>\n",
       "      <td>0.0</td>\n",
       "      <td>0.00</td>\n",
       "      <td>0.000</td>\n",
       "      <td>1.442584e+05</td>\n",
       "      <td>4.958504e+07</td>\n",
       "    </tr>\n",
       "    <tr>\n",
       "      <th>oldbalanceDest</th>\n",
       "      <td>6362620.0</td>\n",
       "      <td>1.100702e+06</td>\n",
       "      <td>3.399180e+06</td>\n",
       "      <td>0.0</td>\n",
       "      <td>0.00</td>\n",
       "      <td>132705.665</td>\n",
       "      <td>9.430367e+05</td>\n",
       "      <td>3.560159e+08</td>\n",
       "    </tr>\n",
       "    <tr>\n",
       "      <th>newbalanceDest</th>\n",
       "      <td>6362620.0</td>\n",
       "      <td>1.224996e+06</td>\n",
       "      <td>3.674129e+06</td>\n",
       "      <td>0.0</td>\n",
       "      <td>0.00</td>\n",
       "      <td>214661.440</td>\n",
       "      <td>1.111909e+06</td>\n",
       "      <td>3.561793e+08</td>\n",
       "    </tr>\n",
       "    <tr>\n",
       "      <th>isFraud</th>\n",
       "      <td>6362620.0</td>\n",
       "      <td>1.290820e-03</td>\n",
       "      <td>3.590480e-02</td>\n",
       "      <td>0.0</td>\n",
       "      <td>0.00</td>\n",
       "      <td>0.000</td>\n",
       "      <td>0.000000e+00</td>\n",
       "      <td>1.000000e+00</td>\n",
       "    </tr>\n",
       "    <tr>\n",
       "      <th>isFlaggedFraud</th>\n",
       "      <td>6362620.0</td>\n",
       "      <td>2.514687e-06</td>\n",
       "      <td>1.585775e-03</td>\n",
       "      <td>0.0</td>\n",
       "      <td>0.00</td>\n",
       "      <td>0.000</td>\n",
       "      <td>0.000000e+00</td>\n",
       "      <td>1.000000e+00</td>\n",
       "    </tr>\n",
       "  </tbody>\n",
       "</table>\n",
       "</div>"
      ],
      "text/plain": [
       "                    count          mean           std  min       25%  \\\n",
       "step            6362620.0  2.433972e+02  1.423320e+02  1.0    156.00   \n",
       "amount          6362620.0  1.798619e+05  6.038582e+05  0.0  13389.57   \n",
       "oldbalanceOrg   6362620.0  8.338831e+05  2.888243e+06  0.0      0.00   \n",
       "newbalanceOrig  6362620.0  8.551137e+05  2.924049e+06  0.0      0.00   \n",
       "oldbalanceDest  6362620.0  1.100702e+06  3.399180e+06  0.0      0.00   \n",
       "newbalanceDest  6362620.0  1.224996e+06  3.674129e+06  0.0      0.00   \n",
       "isFraud         6362620.0  1.290820e-03  3.590480e-02  0.0      0.00   \n",
       "isFlaggedFraud  6362620.0  2.514687e-06  1.585775e-03  0.0      0.00   \n",
       "\n",
       "                       50%           75%           max  \n",
       "step               239.000  3.350000e+02  7.430000e+02  \n",
       "amount           74871.940  2.087215e+05  9.244552e+07  \n",
       "oldbalanceOrg    14208.000  1.073152e+05  5.958504e+07  \n",
       "newbalanceOrig       0.000  1.442584e+05  4.958504e+07  \n",
       "oldbalanceDest  132705.665  9.430367e+05  3.560159e+08  \n",
       "newbalanceDest  214661.440  1.111909e+06  3.561793e+08  \n",
       "isFraud              0.000  0.000000e+00  1.000000e+00  \n",
       "isFlaggedFraud       0.000  0.000000e+00  1.000000e+00  "
      ]
     },
     "execution_count": 5,
     "metadata": {},
     "output_type": "execute_result"
    }
   ],
   "source": [
    "df.describe().T"
   ]
  },
  {
   "cell_type": "markdown",
   "id": "dfede022",
   "metadata": {},
   "source": [
    "### Check Datatypes in the dataset"
   ]
  },
  {
   "cell_type": "code",
   "execution_count": 6,
   "id": "c8e91447",
   "metadata": {},
   "outputs": [
    {
     "name": "stdout",
     "output_type": "stream",
     "text": [
      "<class 'pandas.core.frame.DataFrame'>\n",
      "RangeIndex: 6362620 entries, 0 to 6362619\n",
      "Data columns (total 11 columns):\n",
      " #   Column          Dtype  \n",
      "---  ------          -----  \n",
      " 0   step            int64  \n",
      " 1   type            object \n",
      " 2   amount          float64\n",
      " 3   nameOrig        object \n",
      " 4   oldbalanceOrg   float64\n",
      " 5   newbalanceOrig  float64\n",
      " 6   nameDest        object \n",
      " 7   oldbalanceDest  float64\n",
      " 8   newbalanceDest  float64\n",
      " 9   isFraud         int64  \n",
      " 10  isFlaggedFraud  int64  \n",
      "dtypes: float64(5), int64(3), object(3)\n",
      "memory usage: 534.0+ MB\n"
     ]
    }
   ],
   "source": [
    "# Check Dtypes\n",
    "df.info()"
   ]
  },
  {
   "cell_type": "markdown",
   "id": "cc771e05",
   "metadata": {},
   "source": [
    "- dtypes: float64(5), int64(3), object(3)"
   ]
  },
  {
   "cell_type": "markdown",
   "id": "b1fee484",
   "metadata": {},
   "source": [
    "### Check Null "
   ]
  },
  {
   "cell_type": "code",
   "execution_count": 7,
   "id": "eb22ca1d",
   "metadata": {},
   "outputs": [
    {
     "data": {
      "text/plain": [
       "step              0\n",
       "type              0\n",
       "amount            0\n",
       "nameOrig          0\n",
       "oldbalanceOrg     0\n",
       "newbalanceOrig    0\n",
       "nameDest          0\n",
       "oldbalanceDest    0\n",
       "newbalanceDest    0\n",
       "isFraud           0\n",
       "isFlaggedFraud    0\n",
       "dtype: int64"
      ]
     },
     "execution_count": 7,
     "metadata": {},
     "output_type": "execute_result"
    }
   ],
   "source": [
    "df.isna().sum()"
   ]
  },
  {
   "cell_type": "markdown",
   "id": "7d63cc4e",
   "metadata": {},
   "source": [
    "- there is no null values so we are good to go"
   ]
  },
  {
   "cell_type": "markdown",
   "id": "d2bac65c",
   "metadata": {},
   "source": [
    "### EXPLORING DATA"
   ]
  },
  {
   "cell_type": "code",
   "execution_count": 8,
   "id": "426a8a49",
   "metadata": {},
   "outputs": [
    {
     "name": "stdout",
     "output_type": "stream",
     "text": [
      "We have 8 numerical features : ['step', 'amount', 'oldbalanceOrg', 'newbalanceOrig', 'oldbalanceDest', 'newbalanceDest', 'isFraud', 'isFlaggedFraud']\n",
      "\n",
      "We have 3 categorical features : ['type', 'nameOrig', 'nameDest']\n"
     ]
    }
   ],
   "source": [
    "# define numerical & categorical columns\n",
    "numeric_features = [feature for feature in df.columns if df[feature].dtype != 'O']\n",
    "categorical_features = [feature for feature in df.columns if df[feature].dtype == 'O']\n",
    "\n",
    "# print columns\n",
    "print('We have {} numerical features : {}'.format(len(numeric_features), numeric_features))\n",
    "print('\\nWe have {} categorical features : {}'.format(len(categorical_features), categorical_features))"
   ]
  },
  {
   "cell_type": "markdown",
   "id": "f3e1a027",
   "metadata": {},
   "source": [
    "## Feature Information\n",
    "\n",
    "- step - maps a unit of time in the real world. In this case 1 step is 1 hour of time. Total steps 744 (30 days simulation).\n",
    "\n",
    "- type - CASH-IN, CASH-OUT, DEBIT, PAYMENT and TRANSFER.\n",
    "\n",
    "- amount - amount of the transaction in local currency.\n",
    "\n",
    "- nameOrig - customer who started the transaction\n",
    "\n",
    "- oldbalanceOrg - initial balance before the transaction\n",
    "\n",
    "- newbalanceOrig - new balance after the transaction\n",
    "\n",
    "- nameDest - customer who is the recipient of the transaction\n",
    "\n",
    "- oldbalanceDest - initial balance recipient before the transaction. Note that there is not information for customers that start with M (Merchants).\n",
    "\n",
    "- newbalanceDest - new balance recipient after the transaction. Note that there is not information for customers that start with M (Merchants).\n",
    "\n",
    "- isFraud - This is the transactions made by the fraudulent agents inside the simulation. In this specific dataset the fraudulent behavior of the agents aims to profit by taking control or customers accounts and try to empty the funds by transferring to another account and then cashing out of the system.\n",
    "\n",
    "- isFlaggedFraud - The business model aims to control massive transfers from one account to another and flags illegal attempts. An illegal attempt in this dataset is an attempt to transfer more than 200.000 in a single transaction."
   ]
  },
  {
   "cell_type": "code",
   "execution_count": 9,
   "id": "e669caab",
   "metadata": {},
   "outputs": [
    {
     "name": "stdout",
     "output_type": "stream",
     "text": [
      "feature---> type Total categories--> 5\n",
      "CASH_OUT    35.166331\n",
      "PAYMENT     33.814608\n",
      "CASH_IN     21.992261\n",
      "TRANSFER     8.375622\n",
      "DEBIT        0.651178\n",
      "Name: type, dtype: float64\n",
      "---------------------------\n",
      "feature---> nameOrig Total categories--> 6353307\n",
      "C1902386530    0.000047\n",
      "C363736674     0.000047\n",
      "C545315117     0.000047\n",
      "C724452879     0.000047\n",
      "C1784010646    0.000047\n",
      "                 ...   \n",
      "C98968405      0.000016\n",
      "C720209255     0.000016\n",
      "C1567523029    0.000016\n",
      "C644777639     0.000016\n",
      "C1280323807    0.000016\n",
      "Name: nameOrig, Length: 6353307, dtype: float64\n",
      "---------------------------\n",
      "feature---> nameDest Total categories--> 2722362\n",
      "C1286084959    0.001776\n",
      "C985934102     0.001713\n",
      "C665576141     0.001650\n",
      "C2083562754    0.001603\n",
      "C248609774     0.001587\n",
      "                 ...   \n",
      "M1470027725    0.000016\n",
      "M1330329251    0.000016\n",
      "M1784358659    0.000016\n",
      "M2081431099    0.000016\n",
      "C2080388513    0.000016\n",
      "Name: nameDest, Length: 2722362, dtype: float64\n",
      "---------------------------\n"
     ]
    }
   ],
   "source": [
    "# proportion of count data on categorical columns\n",
    "for col in categorical_features:\n",
    "    print(\"feature--->\",col,\"Total categories-->\",len(df[col].value_counts()))\n",
    "    print(df[col].value_counts(normalize=True) * 100)\n",
    "    print('---------------------------')"
   ]
  },
  {
   "cell_type": "markdown",
   "id": "a84929ba",
   "metadata": {},
   "source": [
    "**observation**\n",
    "- we can perform categorical encoding for type feature\n",
    "- nameOrig , nameDest  have too much classes  , especially number of classes in nameOrig is same as tota record so it will not contribute in our prediction"
   ]
  },
  {
   "cell_type": "markdown",
   "id": "ef2cbe78",
   "metadata": {},
   "source": [
    "## Univariate Analysis\n",
    "\n",
    "\n",
    "The term univariate analysis refers to the analysis of one variable prefix “uni” means “one.” The purpose of univariate analysis is to understand the distribution of values for a single variable."
   ]
  },
  {
   "cell_type": "markdown",
   "id": "27095243",
   "metadata": {},
   "source": [
    "###  Numerical Features"
   ]
  },
  {
   "cell_type": "code",
   "execution_count": 10,
   "id": "aa2ba9ef",
   "metadata": {},
   "outputs": [
    {
     "data": {
      "image/png": "[encoded data removed]",
      "text/plain": [
       "<Figure size 1080x1080 with 8 Axes>"
      ]
     },
     "metadata": {
      "needs_background": "light"
     },
     "output_type": "display_data"
    }
   ],
   "source": [
    "plt.figure(figsize=(15, 15))\n",
    "plt.suptitle('Univariate Analysis of Numerical Features', fontsize=20, fontweight='bold', alpha=0.8, y=1.)\n",
    "\n",
    "for i in range(0, len(numeric_features)):\n",
    "    plt.subplot(4, 2, i+1)\n",
    "    sns.kdeplot(x=df[numeric_features[i]],shade=True, color='b')\n",
    "    plt.xlabel(numeric_features[i])\n",
    "    plt.tight_layout()"
   ]
  },
  {
   "cell_type": "code",
   "execution_count": 11,
   "id": "53c860ae",
   "metadata": {},
   "outputs": [
    {
     "data": {
      "image/png": "[encoded data removed]",
      "text/plain": [
       "<Figure size 1080x1080 with 8 Axes>"
      ]
     },
     "metadata": {
      "needs_background": "light"
     },
     "output_type": "display_data"
    }
   ],
   "source": [
    "fig = plt.figure(figsize=(15, 15))\n",
    "fig.suptitle('DISTPLOT OF DATA', fontsize=28, fontweight='bold')\n",
    "fig.subplots_adjust(top=0.92);\n",
    "fig.subplots_adjust(hspace=0.5, wspace=0.4);\n",
    "for i ,col in enumerate(numeric_features):  \n",
    "    ax1 = fig.add_subplot(6,2, i+1);\n",
    "    ax1 = sns.distplot(df[col]);\n",
    " \n",
    "    ax1.set_title(f'{col}') \n",
    "    ax1.set_xlabel(f'{col}')"
   ]
  },
  {
   "cell_type": "markdown",
   "id": "4c4cd7b0",
   "metadata": {},
   "source": [
    "**observation**\n",
    "- amount ,oldbalanceOrg ,newbalanceOrig, oldbalanceDest, newbalanceDest  features are skewed right so there may be outluers there \n",
    "- not getting much information regarding step features"
   ]
  },
  {
   "cell_type": "code",
   "execution_count": 12,
   "id": "b1ef430d",
   "metadata": {},
   "outputs": [
    {
     "data": {
      "text/plain": [
       "['step',\n",
       " 'amount',\n",
       " 'oldbalanceOrg',\n",
       " 'newbalanceOrig',\n",
       " 'oldbalanceDest',\n",
       " 'newbalanceDest',\n",
       " 'isFraud',\n",
       " 'isFlaggedFraud']"
      ]
     },
     "execution_count": 12,
     "metadata": {},
     "output_type": "execute_result"
    }
   ],
   "source": [
    "numeric_features"
   ]
  },
  {
   "cell_type": "code",
   "execution_count": 13,
   "id": "0fbd61e5",
   "metadata": {},
   "outputs": [
    {
     "data": {
      "image/png": "[encoded data removed]",
      "text/plain": [
       "<Figure size 2304x1728 with 6 Axes>"
      ]
     },
     "metadata": {
      "needs_background": "light"
     },
     "output_type": "display_data"
    }
   ],
   "source": [
    "features =['step',\n",
    " 'amount',\n",
    " 'oldbalanceOrg',\n",
    " 'newbalanceOrig',\n",
    " 'oldbalanceDest',\n",
    " 'newbalanceDest']\n",
    "fig = plt.figure(figsize=[32,24])\n",
    "fig.suptitle('BOXPLOT FOR UNIVARIATE ANALYSIS OF DATA', fontsize=28, fontweight='bold', alpha=0.8,)\n",
    "fig.subplots_adjust(top=0.92);\n",
    "fig.subplots_adjust(hspace=0.5, wspace=0.4);\n",
    "for i ,col in enumerate(features):  \n",
    "    ax1 = fig.add_subplot(3,2, i+1);\n",
    "    ax1 = sns.boxplot(data = df, x=col,);\n",
    " \n",
    "    ax1.set_title(f'{col}') \n",
    "    ax1.set_xlabel(f'{col}')"
   ]
  },
  {
   "cell_type": "markdown",
   "id": "be305bbd",
   "metadata": {},
   "source": [
    "- most of the Features are having outliers\n",
    "- but in this case outliers are important so not going to remove any outliers"
   ]
  },
  {
   "cell_type": "code",
   "execution_count": 14,
   "id": "f8a7f134",
   "metadata": {},
   "outputs": [
    {
     "data": {
      "text/plain": [
       "['step',\n",
       " 'amount',\n",
       " 'oldbalanceOrg',\n",
       " 'newbalanceOrig',\n",
       " 'oldbalanceDest',\n",
       " 'newbalanceDest',\n",
       " 'isFraud',\n",
       " 'isFlaggedFraud']"
      ]
     },
     "execution_count": 14,
     "metadata": {},
     "output_type": "execute_result"
    }
   ],
   "source": [
    "numeric_features\n"
   ]
  },
  {
   "cell_type": "markdown",
   "id": "e8dcb7e2",
   "metadata": {},
   "source": [
    "**checking   isFraud , isFlaggedFraud features**"
   ]
  },
  {
   "cell_type": "code",
   "execution_count": 15,
   "id": "c1306375",
   "metadata": {},
   "outputs": [
    {
     "data": {
      "image/png": "[encoded data removed]",
      "text/plain": [
       "<Figure size 432x288 with 1 Axes>"
      ]
     },
     "metadata": {
      "needs_background": "light"
     },
     "output_type": "display_data"
    }
   ],
   "source": [
    "sns.countplot(x=df[\"isFlaggedFraud\"])\n",
    "plt.xlabel(\"isFlaggedFraud\")\n",
    "plt.xticks(rotation=45)\n",
    "plt.tight_layout()"
   ]
  },
  {
   "cell_type": "code",
   "execution_count": 16,
   "id": "14c5a2fa",
   "metadata": {},
   "outputs": [
    {
     "data": {
      "text/plain": [
       "0    6362604\n",
       "1         16\n",
       "Name: isFlaggedFraud, dtype: int64"
      ]
     },
     "execution_count": 16,
     "metadata": {},
     "output_type": "execute_result"
    }
   ],
   "source": [
    "df[\"isFlaggedFraud\"].value_counts()"
   ]
  },
  {
   "cell_type": "markdown",
   "id": "196fee3a",
   "metadata": {},
   "source": [
    "according to the information provided\n",
    "- isFlaggedFraud - The business model aims to control massive transfers from one account to another and flags illegal attempts. An illegal attempt in this dataset is an attempt to transfer more than 200.000 in a single transaction."
   ]
  },
  {
   "cell_type": "markdown",
   "id": "33c3e264",
   "metadata": {},
   "source": [
    "**checking transfer amount for isFlaggedFraud ==1**"
   ]
  },
  {
   "cell_type": "code",
   "execution_count": 17,
   "id": "e915db03",
   "metadata": {},
   "outputs": [
    {
     "data": {
      "text/html": [
       "<div>\n",
       "<style scoped>\n",
       "    .dataframe tbody tr th:only-of-type {\n",
       "        vertical-align: middle;\n",
       "    }\n",
       "\n",
       "    .dataframe tbody tr th {\n",
       "        vertical-align: top;\n",
       "    }\n",
       "\n",
       "    .dataframe thead th {\n",
       "        text-align: right;\n",
       "    }\n",
       "</style>\n",
       "<table border=\"1\" class=\"dataframe\">\n",
       "  <thead>\n",
       "    <tr style=\"text-align: right;\">\n",
       "      <th></th>\n",
       "      <th>step</th>\n",
       "      <th>type</th>\n",
       "      <th>amount</th>\n",
       "      <th>nameOrig</th>\n",
       "      <th>oldbalanceOrg</th>\n",
       "      <th>newbalanceOrig</th>\n",
       "      <th>nameDest</th>\n",
       "      <th>oldbalanceDest</th>\n",
       "      <th>newbalanceDest</th>\n",
       "      <th>isFraud</th>\n",
       "      <th>isFlaggedFraud</th>\n",
       "    </tr>\n",
       "  </thead>\n",
       "  <tbody>\n",
       "    <tr>\n",
       "      <th>2736446</th>\n",
       "      <td>212</td>\n",
       "      <td>TRANSFER</td>\n",
       "      <td>4953893.08</td>\n",
       "      <td>C728984460</td>\n",
       "      <td>4953893.08</td>\n",
       "      <td>4953893.08</td>\n",
       "      <td>C639921569</td>\n",
       "      <td>0.0</td>\n",
       "      <td>0.0</td>\n",
       "      <td>1</td>\n",
       "      <td>1</td>\n",
       "    </tr>\n",
       "    <tr>\n",
       "      <th>3247297</th>\n",
       "      <td>250</td>\n",
       "      <td>TRANSFER</td>\n",
       "      <td>1343002.08</td>\n",
       "      <td>C1100582606</td>\n",
       "      <td>1343002.08</td>\n",
       "      <td>1343002.08</td>\n",
       "      <td>C1147517658</td>\n",
       "      <td>0.0</td>\n",
       "      <td>0.0</td>\n",
       "      <td>1</td>\n",
       "      <td>1</td>\n",
       "    </tr>\n",
       "    <tr>\n",
       "      <th>3760288</th>\n",
       "      <td>279</td>\n",
       "      <td>TRANSFER</td>\n",
       "      <td>536624.41</td>\n",
       "      <td>C1035541766</td>\n",
       "      <td>536624.41</td>\n",
       "      <td>536624.41</td>\n",
       "      <td>C1100697970</td>\n",
       "      <td>0.0</td>\n",
       "      <td>0.0</td>\n",
       "      <td>1</td>\n",
       "      <td>1</td>\n",
       "    </tr>\n",
       "    <tr>\n",
       "      <th>5563713</th>\n",
       "      <td>387</td>\n",
       "      <td>TRANSFER</td>\n",
       "      <td>4892193.09</td>\n",
       "      <td>C908544136</td>\n",
       "      <td>4892193.09</td>\n",
       "      <td>4892193.09</td>\n",
       "      <td>C891140444</td>\n",
       "      <td>0.0</td>\n",
       "      <td>0.0</td>\n",
       "      <td>1</td>\n",
       "      <td>1</td>\n",
       "    </tr>\n",
       "    <tr>\n",
       "      <th>5996407</th>\n",
       "      <td>425</td>\n",
       "      <td>TRANSFER</td>\n",
       "      <td>10000000.00</td>\n",
       "      <td>C689608084</td>\n",
       "      <td>19585040.37</td>\n",
       "      <td>19585040.37</td>\n",
       "      <td>C1392803603</td>\n",
       "      <td>0.0</td>\n",
       "      <td>0.0</td>\n",
       "      <td>1</td>\n",
       "      <td>1</td>\n",
       "    </tr>\n",
       "    <tr>\n",
       "      <th>5996409</th>\n",
       "      <td>425</td>\n",
       "      <td>TRANSFER</td>\n",
       "      <td>9585040.37</td>\n",
       "      <td>C452586515</td>\n",
       "      <td>19585040.37</td>\n",
       "      <td>19585040.37</td>\n",
       "      <td>C1109166882</td>\n",
       "      <td>0.0</td>\n",
       "      <td>0.0</td>\n",
       "      <td>1</td>\n",
       "      <td>1</td>\n",
       "    </tr>\n",
       "    <tr>\n",
       "      <th>6168499</th>\n",
       "      <td>554</td>\n",
       "      <td>TRANSFER</td>\n",
       "      <td>3576297.10</td>\n",
       "      <td>C193696150</td>\n",
       "      <td>3576297.10</td>\n",
       "      <td>3576297.10</td>\n",
       "      <td>C484597480</td>\n",
       "      <td>0.0</td>\n",
       "      <td>0.0</td>\n",
       "      <td>1</td>\n",
       "      <td>1</td>\n",
       "    </tr>\n",
       "    <tr>\n",
       "      <th>6205439</th>\n",
       "      <td>586</td>\n",
       "      <td>TRANSFER</td>\n",
       "      <td>353874.22</td>\n",
       "      <td>C1684585475</td>\n",
       "      <td>353874.22</td>\n",
       "      <td>353874.22</td>\n",
       "      <td>C1770418982</td>\n",
       "      <td>0.0</td>\n",
       "      <td>0.0</td>\n",
       "      <td>1</td>\n",
       "      <td>1</td>\n",
       "    </tr>\n",
       "    <tr>\n",
       "      <th>6266413</th>\n",
       "      <td>617</td>\n",
       "      <td>TRANSFER</td>\n",
       "      <td>2542664.27</td>\n",
       "      <td>C786455622</td>\n",
       "      <td>2542664.27</td>\n",
       "      <td>2542664.27</td>\n",
       "      <td>C661958277</td>\n",
       "      <td>0.0</td>\n",
       "      <td>0.0</td>\n",
       "      <td>1</td>\n",
       "      <td>1</td>\n",
       "    </tr>\n",
       "    <tr>\n",
       "      <th>6281482</th>\n",
       "      <td>646</td>\n",
       "      <td>TRANSFER</td>\n",
       "      <td>10000000.00</td>\n",
       "      <td>C19004745</td>\n",
       "      <td>10399045.08</td>\n",
       "      <td>10399045.08</td>\n",
       "      <td>C1806199534</td>\n",
       "      <td>0.0</td>\n",
       "      <td>0.0</td>\n",
       "      <td>1</td>\n",
       "      <td>1</td>\n",
       "    </tr>\n",
       "    <tr>\n",
       "      <th>6281484</th>\n",
       "      <td>646</td>\n",
       "      <td>TRANSFER</td>\n",
       "      <td>399045.08</td>\n",
       "      <td>C724693370</td>\n",
       "      <td>10399045.08</td>\n",
       "      <td>10399045.08</td>\n",
       "      <td>C1909486199</td>\n",
       "      <td>0.0</td>\n",
       "      <td>0.0</td>\n",
       "      <td>1</td>\n",
       "      <td>1</td>\n",
       "    </tr>\n",
       "    <tr>\n",
       "      <th>6296014</th>\n",
       "      <td>671</td>\n",
       "      <td>TRANSFER</td>\n",
       "      <td>3441041.46</td>\n",
       "      <td>C917414431</td>\n",
       "      <td>3441041.46</td>\n",
       "      <td>3441041.46</td>\n",
       "      <td>C1082139865</td>\n",
       "      <td>0.0</td>\n",
       "      <td>0.0</td>\n",
       "      <td>1</td>\n",
       "      <td>1</td>\n",
       "    </tr>\n",
       "    <tr>\n",
       "      <th>6351225</th>\n",
       "      <td>702</td>\n",
       "      <td>TRANSFER</td>\n",
       "      <td>3171085.59</td>\n",
       "      <td>C1892216157</td>\n",
       "      <td>3171085.59</td>\n",
       "      <td>3171085.59</td>\n",
       "      <td>C1308068787</td>\n",
       "      <td>0.0</td>\n",
       "      <td>0.0</td>\n",
       "      <td>1</td>\n",
       "      <td>1</td>\n",
       "    </tr>\n",
       "    <tr>\n",
       "      <th>6362460</th>\n",
       "      <td>730</td>\n",
       "      <td>TRANSFER</td>\n",
       "      <td>10000000.00</td>\n",
       "      <td>C2140038573</td>\n",
       "      <td>17316255.05</td>\n",
       "      <td>17316255.05</td>\n",
       "      <td>C1395467927</td>\n",
       "      <td>0.0</td>\n",
       "      <td>0.0</td>\n",
       "      <td>1</td>\n",
       "      <td>1</td>\n",
       "    </tr>\n",
       "    <tr>\n",
       "      <th>6362462</th>\n",
       "      <td>730</td>\n",
       "      <td>TRANSFER</td>\n",
       "      <td>7316255.05</td>\n",
       "      <td>C1869569059</td>\n",
       "      <td>17316255.05</td>\n",
       "      <td>17316255.05</td>\n",
       "      <td>C1861208726</td>\n",
       "      <td>0.0</td>\n",
       "      <td>0.0</td>\n",
       "      <td>1</td>\n",
       "      <td>1</td>\n",
       "    </tr>\n",
       "    <tr>\n",
       "      <th>6362584</th>\n",
       "      <td>741</td>\n",
       "      <td>TRANSFER</td>\n",
       "      <td>5674547.89</td>\n",
       "      <td>C992223106</td>\n",
       "      <td>5674547.89</td>\n",
       "      <td>5674547.89</td>\n",
       "      <td>C1366804249</td>\n",
       "      <td>0.0</td>\n",
       "      <td>0.0</td>\n",
       "      <td>1</td>\n",
       "      <td>1</td>\n",
       "    </tr>\n",
       "  </tbody>\n",
       "</table>\n",
       "</div>"
      ],
      "text/plain": [
       "         step      type       amount     nameOrig  oldbalanceOrg  \\\n",
       "2736446   212  TRANSFER   4953893.08   C728984460     4953893.08   \n",
       "3247297   250  TRANSFER   1343002.08  C1100582606     1343002.08   \n",
       "3760288   279  TRANSFER    536624.41  C1035541766      536624.41   \n",
       "5563713   387  TRANSFER   4892193.09   C908544136     4892193.09   \n",
       "5996407   425  TRANSFER  10000000.00   C689608084    19585040.37   \n",
       "5996409   425  TRANSFER   9585040.37   C452586515    19585040.37   \n",
       "6168499   554  TRANSFER   3576297.10   C193696150     3576297.10   \n",
       "6205439   586  TRANSFER    353874.22  C1684585475      353874.22   \n",
       "6266413   617  TRANSFER   2542664.27   C786455622     2542664.27   \n",
       "6281482   646  TRANSFER  10000000.00    C19004745    10399045.08   \n",
       "6281484   646  TRANSFER    399045.08   C724693370    10399045.08   \n",
       "6296014   671  TRANSFER   3441041.46   C917414431     3441041.46   \n",
       "6351225   702  TRANSFER   3171085.59  C1892216157     3171085.59   \n",
       "6362460   730  TRANSFER  10000000.00  C2140038573    17316255.05   \n",
       "6362462   730  TRANSFER   7316255.05  C1869569059    17316255.05   \n",
       "6362584   741  TRANSFER   5674547.89   C992223106     5674547.89   \n",
       "\n",
       "         newbalanceOrig     nameDest  oldbalanceDest  newbalanceDest  isFraud  \\\n",
       "2736446      4953893.08   C639921569             0.0             0.0        1   \n",
       "3247297      1343002.08  C1147517658             0.0             0.0        1   \n",
       "3760288       536624.41  C1100697970             0.0             0.0        1   \n",
       "5563713      4892193.09   C891140444             0.0             0.0        1   \n",
       "5996407     19585040.37  C1392803603             0.0             0.0        1   \n",
       "5996409     19585040.37  C1109166882             0.0             0.0        1   \n",
       "6168499      3576297.10   C484597480             0.0             0.0        1   \n",
       "6205439       353874.22  C1770418982             0.0             0.0        1   \n",
       "6266413      2542664.27   C661958277             0.0             0.0        1   \n",
       "6281482     10399045.08  C1806199534             0.0             0.0        1   \n",
       "6281484     10399045.08  C1909486199             0.0             0.0        1   \n",
       "6296014      3441041.46  C1082139865             0.0             0.0        1   \n",
       "6351225      3171085.59  C1308068787             0.0             0.0        1   \n",
       "6362460     17316255.05  C1395467927             0.0             0.0        1   \n",
       "6362462     17316255.05  C1861208726             0.0             0.0        1   \n",
       "6362584      5674547.89  C1366804249             0.0             0.0        1   \n",
       "\n",
       "         isFlaggedFraud  \n",
       "2736446               1  \n",
       "3247297               1  \n",
       "3760288               1  \n",
       "5563713               1  \n",
       "5996407               1  \n",
       "5996409               1  \n",
       "6168499               1  \n",
       "6205439               1  \n",
       "6266413               1  \n",
       "6281482               1  \n",
       "6281484               1  \n",
       "6296014               1  \n",
       "6351225               1  \n",
       "6362460               1  \n",
       "6362462               1  \n",
       "6362584               1  "
      ]
     },
     "execution_count": 17,
     "metadata": {},
     "output_type": "execute_result"
    }
   ],
   "source": [
    "df[df['isFlaggedFraud']==1]"
   ]
  },
  {
   "cell_type": "markdown",
   "id": "b6e0ef5b",
   "metadata": {},
   "source": [
    "**checking transfer amount for isFlaggedFraud ==0**"
   ]
  },
  {
   "cell_type": "code",
   "execution_count": 18,
   "id": "285eb67f",
   "metadata": {},
   "outputs": [
    {
     "data": {
      "text/html": [
       "<div>\n",
       "<style scoped>\n",
       "    .dataframe tbody tr th:only-of-type {\n",
       "        vertical-align: middle;\n",
       "    }\n",
       "\n",
       "    .dataframe tbody tr th {\n",
       "        vertical-align: top;\n",
       "    }\n",
       "\n",
       "    .dataframe thead th {\n",
       "        text-align: right;\n",
       "    }\n",
       "</style>\n",
       "<table border=\"1\" class=\"dataframe\">\n",
       "  <thead>\n",
       "    <tr style=\"text-align: right;\">\n",
       "      <th></th>\n",
       "      <th>step</th>\n",
       "      <th>type</th>\n",
       "      <th>amount</th>\n",
       "      <th>nameOrig</th>\n",
       "      <th>oldbalanceOrg</th>\n",
       "      <th>newbalanceOrig</th>\n",
       "      <th>nameDest</th>\n",
       "      <th>oldbalanceDest</th>\n",
       "      <th>newbalanceDest</th>\n",
       "      <th>isFraud</th>\n",
       "      <th>isFlaggedFraud</th>\n",
       "    </tr>\n",
       "  </thead>\n",
       "  <tbody>\n",
       "    <tr>\n",
       "      <th>0</th>\n",
       "      <td>1</td>\n",
       "      <td>PAYMENT</td>\n",
       "      <td>9839.64</td>\n",
       "      <td>C1231006815</td>\n",
       "      <td>170136.00</td>\n",
       "      <td>160296.36</td>\n",
       "      <td>M1979787155</td>\n",
       "      <td>0.00</td>\n",
       "      <td>0.00</td>\n",
       "      <td>0</td>\n",
       "      <td>0</td>\n",
       "    </tr>\n",
       "    <tr>\n",
       "      <th>1</th>\n",
       "      <td>1</td>\n",
       "      <td>PAYMENT</td>\n",
       "      <td>1864.28</td>\n",
       "      <td>C1666544295</td>\n",
       "      <td>21249.00</td>\n",
       "      <td>19384.72</td>\n",
       "      <td>M2044282225</td>\n",
       "      <td>0.00</td>\n",
       "      <td>0.00</td>\n",
       "      <td>0</td>\n",
       "      <td>0</td>\n",
       "    </tr>\n",
       "    <tr>\n",
       "      <th>2</th>\n",
       "      <td>1</td>\n",
       "      <td>TRANSFER</td>\n",
       "      <td>181.00</td>\n",
       "      <td>C1305486145</td>\n",
       "      <td>181.00</td>\n",
       "      <td>0.00</td>\n",
       "      <td>C553264065</td>\n",
       "      <td>0.00</td>\n",
       "      <td>0.00</td>\n",
       "      <td>1</td>\n",
       "      <td>0</td>\n",
       "    </tr>\n",
       "    <tr>\n",
       "      <th>3</th>\n",
       "      <td>1</td>\n",
       "      <td>CASH_OUT</td>\n",
       "      <td>181.00</td>\n",
       "      <td>C840083671</td>\n",
       "      <td>181.00</td>\n",
       "      <td>0.00</td>\n",
       "      <td>C38997010</td>\n",
       "      <td>21182.00</td>\n",
       "      <td>0.00</td>\n",
       "      <td>1</td>\n",
       "      <td>0</td>\n",
       "    </tr>\n",
       "    <tr>\n",
       "      <th>4</th>\n",
       "      <td>1</td>\n",
       "      <td>PAYMENT</td>\n",
       "      <td>11668.14</td>\n",
       "      <td>C2048537720</td>\n",
       "      <td>41554.00</td>\n",
       "      <td>29885.86</td>\n",
       "      <td>M1230701703</td>\n",
       "      <td>0.00</td>\n",
       "      <td>0.00</td>\n",
       "      <td>0</td>\n",
       "      <td>0</td>\n",
       "    </tr>\n",
       "    <tr>\n",
       "      <th>...</th>\n",
       "      <td>...</td>\n",
       "      <td>...</td>\n",
       "      <td>...</td>\n",
       "      <td>...</td>\n",
       "      <td>...</td>\n",
       "      <td>...</td>\n",
       "      <td>...</td>\n",
       "      <td>...</td>\n",
       "      <td>...</td>\n",
       "      <td>...</td>\n",
       "      <td>...</td>\n",
       "    </tr>\n",
       "    <tr>\n",
       "      <th>6362615</th>\n",
       "      <td>743</td>\n",
       "      <td>CASH_OUT</td>\n",
       "      <td>339682.13</td>\n",
       "      <td>C786484425</td>\n",
       "      <td>339682.13</td>\n",
       "      <td>0.00</td>\n",
       "      <td>C776919290</td>\n",
       "      <td>0.00</td>\n",
       "      <td>339682.13</td>\n",
       "      <td>1</td>\n",
       "      <td>0</td>\n",
       "    </tr>\n",
       "    <tr>\n",
       "      <th>6362616</th>\n",
       "      <td>743</td>\n",
       "      <td>TRANSFER</td>\n",
       "      <td>6311409.28</td>\n",
       "      <td>C1529008245</td>\n",
       "      <td>6311409.28</td>\n",
       "      <td>0.00</td>\n",
       "      <td>C1881841831</td>\n",
       "      <td>0.00</td>\n",
       "      <td>0.00</td>\n",
       "      <td>1</td>\n",
       "      <td>0</td>\n",
       "    </tr>\n",
       "    <tr>\n",
       "      <th>6362617</th>\n",
       "      <td>743</td>\n",
       "      <td>CASH_OUT</td>\n",
       "      <td>6311409.28</td>\n",
       "      <td>C1162922333</td>\n",
       "      <td>6311409.28</td>\n",
       "      <td>0.00</td>\n",
       "      <td>C1365125890</td>\n",
       "      <td>68488.84</td>\n",
       "      <td>6379898.11</td>\n",
       "      <td>1</td>\n",
       "      <td>0</td>\n",
       "    </tr>\n",
       "    <tr>\n",
       "      <th>6362618</th>\n",
       "      <td>743</td>\n",
       "      <td>TRANSFER</td>\n",
       "      <td>850002.52</td>\n",
       "      <td>C1685995037</td>\n",
       "      <td>850002.52</td>\n",
       "      <td>0.00</td>\n",
       "      <td>C2080388513</td>\n",
       "      <td>0.00</td>\n",
       "      <td>0.00</td>\n",
       "      <td>1</td>\n",
       "      <td>0</td>\n",
       "    </tr>\n",
       "    <tr>\n",
       "      <th>6362619</th>\n",
       "      <td>743</td>\n",
       "      <td>CASH_OUT</td>\n",
       "      <td>850002.52</td>\n",
       "      <td>C1280323807</td>\n",
       "      <td>850002.52</td>\n",
       "      <td>0.00</td>\n",
       "      <td>C873221189</td>\n",
       "      <td>6510099.11</td>\n",
       "      <td>7360101.63</td>\n",
       "      <td>1</td>\n",
       "      <td>0</td>\n",
       "    </tr>\n",
       "  </tbody>\n",
       "</table>\n",
       "<p>6362604 rows × 11 columns</p>\n",
       "</div>"
      ],
      "text/plain": [
       "         step      type      amount     nameOrig  oldbalanceOrg  \\\n",
       "0           1   PAYMENT     9839.64  C1231006815      170136.00   \n",
       "1           1   PAYMENT     1864.28  C1666544295       21249.00   \n",
       "2           1  TRANSFER      181.00  C1305486145         181.00   \n",
       "3           1  CASH_OUT      181.00   C840083671         181.00   \n",
       "4           1   PAYMENT    11668.14  C2048537720       41554.00   \n",
       "...       ...       ...         ...          ...            ...   \n",
       "6362615   743  CASH_OUT   339682.13   C786484425      339682.13   \n",
       "6362616   743  TRANSFER  6311409.28  C1529008245     6311409.28   \n",
       "6362617   743  CASH_OUT  6311409.28  C1162922333     6311409.28   \n",
       "6362618   743  TRANSFER   850002.52  C1685995037      850002.52   \n",
       "6362619   743  CASH_OUT   850002.52  C1280323807      850002.52   \n",
       "\n",
       "         newbalanceOrig     nameDest  oldbalanceDest  newbalanceDest  isFraud  \\\n",
       "0             160296.36  M1979787155            0.00            0.00        0   \n",
       "1              19384.72  M2044282225            0.00            0.00        0   \n",
       "2                  0.00   C553264065            0.00            0.00        1   \n",
       "3                  0.00    C38997010        21182.00            0.00        1   \n",
       "4              29885.86  M1230701703            0.00            0.00        0   \n",
       "...                 ...          ...             ...             ...      ...   \n",
       "6362615            0.00   C776919290            0.00       339682.13        1   \n",
       "6362616            0.00  C1881841831            0.00            0.00        1   \n",
       "6362617            0.00  C1365125890        68488.84      6379898.11        1   \n",
       "6362618            0.00  C2080388513            0.00            0.00        1   \n",
       "6362619            0.00   C873221189      6510099.11      7360101.63        1   \n",
       "\n",
       "         isFlaggedFraud  \n",
       "0                     0  \n",
       "1                     0  \n",
       "2                     0  \n",
       "3                     0  \n",
       "4                     0  \n",
       "...                 ...  \n",
       "6362615               0  \n",
       "6362616               0  \n",
       "6362617               0  \n",
       "6362618               0  \n",
       "6362619               0  \n",
       "\n",
       "[6362604 rows x 11 columns]"
      ]
     },
     "execution_count": 18,
     "metadata": {},
     "output_type": "execute_result"
    }
   ],
   "source": [
    "df[df['isFlaggedFraud']==0]"
   ]
  },
  {
   "cell_type": "markdown",
   "id": "de19e01c",
   "metadata": {},
   "source": [
    "- A lot of transactions that are passing of 200.000 between accounts and isFlaggedFraud == 0 and isFraud==1\n",
    "- so we will not use this feature"
   ]
  },
  {
   "cell_type": "code",
   "execution_count": 19,
   "id": "de60ee36",
   "metadata": {},
   "outputs": [
    {
     "data": {
      "image/png": "[encoded data removed]",
      "text/plain": [
       "<Figure size 432x288 with 1 Axes>"
      ]
     },
     "metadata": {
      "needs_background": "light"
     },
     "output_type": "display_data"
    }
   ],
   "source": [
    "# target column\n",
    "sns.countplot(x=df[\"isFraud\"])\n",
    "plt.xlabel(\"isFraud\")\n",
    "plt.xticks(rotation=45)\n",
    "plt.tight_layout()"
   ]
  },
  {
   "cell_type": "code",
   "execution_count": 20,
   "id": "82ebdd14",
   "metadata": {},
   "outputs": [
    {
     "data": {
      "text/plain": [
       "0    6354407\n",
       "1       8213\n",
       "Name: isFraud, dtype: int64"
      ]
     },
     "execution_count": 20,
     "metadata": {},
     "output_type": "execute_result"
    }
   ],
   "source": [
    "df[\"isFraud\"].value_counts()"
   ]
  },
  {
   "cell_type": "markdown",
   "id": "2e7366c5",
   "metadata": {},
   "source": [
    "-  isFlaggedFraud have only 16 records   belong to class 1 , so this will  feature will not contribute much in our prediction\n",
    "- AS for our Target feature isFraud it is highly imbalance so we need use some sampling technique to balance it"
   ]
  },
  {
   "cell_type": "code",
   "execution_count": 21,
   "id": "95b228fb",
   "metadata": {},
   "outputs": [
    {
     "data": {
      "text/html": [
       "<div>\n",
       "<style scoped>\n",
       "    .dataframe tbody tr th:only-of-type {\n",
       "        vertical-align: middle;\n",
       "    }\n",
       "\n",
       "    .dataframe tbody tr th {\n",
       "        vertical-align: top;\n",
       "    }\n",
       "\n",
       "    .dataframe thead th {\n",
       "        text-align: right;\n",
       "    }\n",
       "</style>\n",
       "<table border=\"1\" class=\"dataframe\">\n",
       "  <thead>\n",
       "    <tr style=\"text-align: right;\">\n",
       "      <th></th>\n",
       "      <th>step</th>\n",
       "      <th>type</th>\n",
       "      <th>amount</th>\n",
       "      <th>nameOrig</th>\n",
       "      <th>oldbalanceOrg</th>\n",
       "      <th>newbalanceOrig</th>\n",
       "      <th>nameDest</th>\n",
       "      <th>oldbalanceDest</th>\n",
       "      <th>newbalanceDest</th>\n",
       "      <th>isFraud</th>\n",
       "      <th>isFlaggedFraud</th>\n",
       "    </tr>\n",
       "  </thead>\n",
       "  <tbody>\n",
       "    <tr>\n",
       "      <th>2</th>\n",
       "      <td>1</td>\n",
       "      <td>TRANSFER</td>\n",
       "      <td>181.0</td>\n",
       "      <td>C1305486145</td>\n",
       "      <td>181.0</td>\n",
       "      <td>0.0</td>\n",
       "      <td>C553264065</td>\n",
       "      <td>0.0</td>\n",
       "      <td>0.0</td>\n",
       "      <td>1</td>\n",
       "      <td>0</td>\n",
       "    </tr>\n",
       "    <tr>\n",
       "      <th>3</th>\n",
       "      <td>1</td>\n",
       "      <td>CASH_OUT</td>\n",
       "      <td>181.0</td>\n",
       "      <td>C840083671</td>\n",
       "      <td>181.0</td>\n",
       "      <td>0.0</td>\n",
       "      <td>C38997010</td>\n",
       "      <td>21182.0</td>\n",
       "      <td>0.0</td>\n",
       "      <td>1</td>\n",
       "      <td>0</td>\n",
       "    </tr>\n",
       "    <tr>\n",
       "      <th>251</th>\n",
       "      <td>1</td>\n",
       "      <td>TRANSFER</td>\n",
       "      <td>2806.0</td>\n",
       "      <td>C1420196421</td>\n",
       "      <td>2806.0</td>\n",
       "      <td>0.0</td>\n",
       "      <td>C972765878</td>\n",
       "      <td>0.0</td>\n",
       "      <td>0.0</td>\n",
       "      <td>1</td>\n",
       "      <td>0</td>\n",
       "    </tr>\n",
       "    <tr>\n",
       "      <th>252</th>\n",
       "      <td>1</td>\n",
       "      <td>CASH_OUT</td>\n",
       "      <td>2806.0</td>\n",
       "      <td>C2101527076</td>\n",
       "      <td>2806.0</td>\n",
       "      <td>0.0</td>\n",
       "      <td>C1007251739</td>\n",
       "      <td>26202.0</td>\n",
       "      <td>0.0</td>\n",
       "      <td>1</td>\n",
       "      <td>0</td>\n",
       "    </tr>\n",
       "    <tr>\n",
       "      <th>680</th>\n",
       "      <td>1</td>\n",
       "      <td>TRANSFER</td>\n",
       "      <td>20128.0</td>\n",
       "      <td>C137533655</td>\n",
       "      <td>20128.0</td>\n",
       "      <td>0.0</td>\n",
       "      <td>C1848415041</td>\n",
       "      <td>0.0</td>\n",
       "      <td>0.0</td>\n",
       "      <td>1</td>\n",
       "      <td>0</td>\n",
       "    </tr>\n",
       "  </tbody>\n",
       "</table>\n",
       "</div>"
      ],
      "text/plain": [
       "     step      type   amount     nameOrig  oldbalanceOrg  newbalanceOrig  \\\n",
       "2       1  TRANSFER    181.0  C1305486145          181.0             0.0   \n",
       "3       1  CASH_OUT    181.0   C840083671          181.0             0.0   \n",
       "251     1  TRANSFER   2806.0  C1420196421         2806.0             0.0   \n",
       "252     1  CASH_OUT   2806.0  C2101527076         2806.0             0.0   \n",
       "680     1  TRANSFER  20128.0   C137533655        20128.0             0.0   \n",
       "\n",
       "        nameDest  oldbalanceDest  newbalanceDest  isFraud  isFlaggedFraud  \n",
       "2     C553264065             0.0             0.0        1               0  \n",
       "3      C38997010         21182.0             0.0        1               0  \n",
       "251   C972765878             0.0             0.0        1               0  \n",
       "252  C1007251739         26202.0             0.0        1               0  \n",
       "680  C1848415041             0.0             0.0        1               0  "
      ]
     },
     "execution_count": 21,
     "metadata": {},
     "output_type": "execute_result"
    }
   ],
   "source": [
    "df[df[\"isFraud\"]==1].head()"
   ]
  },
  {
   "cell_type": "markdown",
   "id": "80a73c77",
   "metadata": {},
   "source": [
    "**When you look at the oldbalance and newbalance of both origin and destination, you can see some patterns during fraudulent transactions:**\n",
    "- In fraudulent transactions, the origin account is completely emptied out => so we should mark all the transactions where the newbalance becomes zero after cashout or transfer AS 1 (possible fraud)\n",
    "- On the other hand, in normal transactions, the newbalance in the destination account typically increases by the equivalent of the transaction amount. But in fraudulent transactions, they do not increase by that transaction amount => there is an anomaly => so we should mark all such anomalous transactions AS 1 (possible fraud)\n",
    "- Similarly, in fraudulent transactions, the newbalance in the destination account does not increase at all => means newbalance in Destination is zero whether the transaction is transfer or cashout => so we should mark all such transactions AS 1 (possible fraud)"
   ]
  },
  {
   "cell_type": "code",
   "execution_count": 22,
   "id": "9eae907e",
   "metadata": {},
   "outputs": [],
   "source": [
    "df=df.drop(columns=['isFlaggedFraud'],axis=1)"
   ]
  },
  {
   "cell_type": "markdown",
   "id": "04ab3b56",
   "metadata": {},
   "source": [
    "## Categorical Features"
   ]
  },
  {
   "cell_type": "code",
   "execution_count": 23,
   "id": "3bbf77ed",
   "metadata": {},
   "outputs": [
    {
     "data": {
      "image/png": "[encoded data removed]",
      "text/plain": [
       "<Figure size 1080x3600 with 1 Axes>"
      ]
     },
     "metadata": {
      "needs_background": "light"
     },
     "output_type": "display_data"
    }
   ],
   "source": [
    "# categorical columns\n",
    "plt.figure(figsize=(15,50))\n",
    "plt.suptitle('Univariate Analysis of Categorical Features', fontsize=20, fontweight='bold', alpha=0.8, y=1.)\n",
    "cat1 =['type']\n",
    "for i in range(0, len(cat1)):\n",
    "    plt.subplot(9, 1, i+1)\n",
    "    sns.countplot(x=df[cat1[i]])\n",
    "    plt.xlabel(cat1[i])\n",
    "    plt.xticks(rotation=45)\n",
    "    plt.tight_layout()"
   ]
  },
  {
   "cell_type": "code",
   "execution_count": 24,
   "id": "4181e16d",
   "metadata": {},
   "outputs": [
    {
     "data": {
      "text/plain": [
       "CASH_OUT    2237500\n",
       "PAYMENT     2151495\n",
       "CASH_IN     1399284\n",
       "TRANSFER     532909\n",
       "DEBIT         41432\n",
       "Name: type, dtype: int64"
      ]
     },
     "execution_count": 24,
     "metadata": {},
     "output_type": "execute_result"
    }
   ],
   "source": [
    "df['type'].value_counts()"
   ]
  },
  {
   "cell_type": "markdown",
   "id": "9e54363f",
   "metadata": {},
   "source": [
    "## Multivariate Analysis"
   ]
  },
  {
   "cell_type": "markdown",
   "id": "09577713",
   "metadata": {},
   "source": [
    "Multivariate analysis is the analysis of more than one variable."
   ]
  },
  {
   "cell_type": "code",
   "execution_count": 25,
   "id": "376be0b1",
   "metadata": {},
   "outputs": [
    {
     "data": {
      "text/html": [
       "<div>\n",
       "<style scoped>\n",
       "    .dataframe tbody tr th:only-of-type {\n",
       "        vertical-align: middle;\n",
       "    }\n",
       "\n",
       "    .dataframe tbody tr th {\n",
       "        vertical-align: top;\n",
       "    }\n",
       "\n",
       "    .dataframe thead th {\n",
       "        text-align: right;\n",
       "    }\n",
       "</style>\n",
       "<table border=\"1\" class=\"dataframe\">\n",
       "  <thead>\n",
       "    <tr style=\"text-align: right;\">\n",
       "      <th></th>\n",
       "      <th>amount</th>\n",
       "      <th>oldbalanceOrg</th>\n",
       "      <th>newbalanceOrig</th>\n",
       "      <th>oldbalanceDest</th>\n",
       "      <th>newbalanceDest</th>\n",
       "      <th>isFraud</th>\n",
       "    </tr>\n",
       "  </thead>\n",
       "  <tbody>\n",
       "    <tr>\n",
       "      <th>amount</th>\n",
       "      <td>1.000000</td>\n",
       "      <td>-0.002762</td>\n",
       "      <td>-0.007861</td>\n",
       "      <td>0.294137</td>\n",
       "      <td>0.459304</td>\n",
       "      <td>0.076688</td>\n",
       "    </tr>\n",
       "    <tr>\n",
       "      <th>oldbalanceOrg</th>\n",
       "      <td>-0.002762</td>\n",
       "      <td>1.000000</td>\n",
       "      <td>0.998803</td>\n",
       "      <td>0.066243</td>\n",
       "      <td>0.042029</td>\n",
       "      <td>0.010154</td>\n",
       "    </tr>\n",
       "    <tr>\n",
       "      <th>newbalanceOrig</th>\n",
       "      <td>-0.007861</td>\n",
       "      <td>0.998803</td>\n",
       "      <td>1.000000</td>\n",
       "      <td>0.067812</td>\n",
       "      <td>0.041837</td>\n",
       "      <td>-0.008148</td>\n",
       "    </tr>\n",
       "    <tr>\n",
       "      <th>oldbalanceDest</th>\n",
       "      <td>0.294137</td>\n",
       "      <td>0.066243</td>\n",
       "      <td>0.067812</td>\n",
       "      <td>1.000000</td>\n",
       "      <td>0.976569</td>\n",
       "      <td>-0.005885</td>\n",
       "    </tr>\n",
       "    <tr>\n",
       "      <th>newbalanceDest</th>\n",
       "      <td>0.459304</td>\n",
       "      <td>0.042029</td>\n",
       "      <td>0.041837</td>\n",
       "      <td>0.976569</td>\n",
       "      <td>1.000000</td>\n",
       "      <td>0.000535</td>\n",
       "    </tr>\n",
       "    <tr>\n",
       "      <th>isFraud</th>\n",
       "      <td>0.076688</td>\n",
       "      <td>0.010154</td>\n",
       "      <td>-0.008148</td>\n",
       "      <td>-0.005885</td>\n",
       "      <td>0.000535</td>\n",
       "      <td>1.000000</td>\n",
       "    </tr>\n",
       "  </tbody>\n",
       "</table>\n",
       "</div>"
      ],
      "text/plain": [
       "                  amount  oldbalanceOrg  newbalanceOrig  oldbalanceDest  \\\n",
       "amount          1.000000      -0.002762       -0.007861        0.294137   \n",
       "oldbalanceOrg  -0.002762       1.000000        0.998803        0.066243   \n",
       "newbalanceOrig -0.007861       0.998803        1.000000        0.067812   \n",
       "oldbalanceDest  0.294137       0.066243        0.067812        1.000000   \n",
       "newbalanceDest  0.459304       0.042029        0.041837        0.976569   \n",
       "isFraud         0.076688       0.010154       -0.008148       -0.005885   \n",
       "\n",
       "                newbalanceDest   isFraud  \n",
       "amount                0.459304  0.076688  \n",
       "oldbalanceOrg         0.042029  0.010154  \n",
       "newbalanceOrig        0.041837 -0.008148  \n",
       "oldbalanceDest        0.976569 -0.005885  \n",
       "newbalanceDest        1.000000  0.000535  \n",
       "isFraud               0.000535  1.000000  "
      ]
     },
     "execution_count": 25,
     "metadata": {},
     "output_type": "execute_result"
    }
   ],
   "source": [
    "df[(list(df.columns)[1:])].corr()"
   ]
  },
  {
   "cell_type": "code",
   "execution_count": 26,
   "id": "665f36f3",
   "metadata": {},
   "outputs": [
    {
     "data": {
      "image/png": "[encoded data removed]",
      "text/plain": [
       "<Figure size 1080x720 with 2 Axes>"
      ]
     },
     "metadata": {
      "needs_background": "light"
     },
     "output_type": "display_data"
    }
   ],
   "source": [
    "sns.heatmap(df.corr(),annot=True,cmap='icefire',linewidths=0.3)\n",
    "fig=plt.gcf()\n",
    "fig.set_size_inches(15,10)\n",
    "plt.title(\"corr between variable\",color='black',size=25)\n",
    "plt.show()"
   ]
  },
  {
   "cell_type": "markdown",
   "id": "c51d9568",
   "metadata": {},
   "source": [
    "- oldbalanceOrg and newbalanceOrig are highly collinear \n",
    "- oldbalanceDest and newbalanceDest are highly collinear \n",
    "- conclusion - so these fetures are multi collinear , and we have to remove Multicollinearity"
   ]
  },
  {
   "cell_type": "markdown",
   "id": "fb40140f",
   "metadata": {},
   "source": [
    "**continious fearures**"
   ]
  },
  {
   "cell_type": "code",
   "execution_count": 27,
   "id": "a7c921f6",
   "metadata": {},
   "outputs": [
    {
     "data": {
      "image/png": "[encoded data removed]",
      "text/plain": [
       "<Figure size 1500x600 with 1 Axes>"
      ]
     },
     "metadata": {
      "needs_background": "light"
     },
     "output_type": "display_data"
    }
   ],
   "source": [
    "plt.figure(figsize = (10,4), dpi =150)\n",
    "sns.countplot(data = df, x = 'type', hue = 'isFraud')\n",
    "plt.xticks(rotation = 90);"
   ]
  },
  {
   "cell_type": "markdown",
   "id": "8ae1b876",
   "metadata": {},
   "source": [
    "- not able to visulize it properly"
   ]
  },
  {
   "cell_type": "code",
   "execution_count": 28,
   "id": "d48da227",
   "metadata": {},
   "outputs": [
    {
     "data": {
      "text/plain": [
       "type      isFraud\n",
       "TRANSFER  1             4097\n",
       "CASH_OUT  1             4116\n",
       "DEBIT     0            41432\n",
       "TRANSFER  0           528812\n",
       "CASH_IN   0          1399284\n",
       "PAYMENT   0          2151495\n",
       "CASH_OUT  0          2233384\n",
       "Name: isFraud, dtype: int64"
      ]
     },
     "execution_count": 28,
     "metadata": {},
     "output_type": "execute_result"
    }
   ],
   "source": [
    "df.groupby(\"type\")[\"isFraud\"].value_counts().sort_values()"
   ]
  },
  {
   "cell_type": "code",
   "execution_count": 29,
   "id": "4b4f604c",
   "metadata": {},
   "outputs": [
    {
     "data": {
      "text/plain": [
       "CASH_OUT    0.501157\n",
       "TRANSFER    0.498843\n",
       "Name: type, dtype: float64"
      ]
     },
     "execution_count": 29,
     "metadata": {},
     "output_type": "execute_result"
    }
   ],
   "source": [
    "df[df[\"isFraud\"]==1][\"type\"].value_counts(normalize=True)"
   ]
  },
  {
   "cell_type": "markdown",
   "id": "96293057",
   "metadata": {},
   "source": [
    "Type: fraud transactions when looked in terms of unique values in column type (which is basically column for transaction type) is only given by two types of transaction CASH_OUT (50.11567) TRANSFER (49.88433), what that means is all fraud transactions are either cash_out or transfer of amount to different account which makes sense as fraud transaction will be done either taking fraud money out from someone's account or transferring it to diffferent account. I mapped 1 to both cash_out and transfer and 0 to other values , so basically I weighted them and give more preference for genuine reason."
   ]
  },
  {
   "cell_type": "markdown",
   "id": "85f573b8",
   "metadata": {},
   "source": [
    "**Step Vs isFraud**"
   ]
  },
  {
   "cell_type": "code",
   "execution_count": 30,
   "id": "67e9b35c",
   "metadata": {},
   "outputs": [
    {
     "data": {
      "image/png": "[encoded data removed]",
      "text/plain": [
       "<Figure size 576x432 with 1 Axes>"
      ]
     },
     "metadata": {
      "needs_background": "light"
     },
     "output_type": "display_data"
    }
   ],
   "source": [
    "step_group =df.groupby('step').sum().reset_index()\n",
    "plt.figure(figsize=(8,6))\n",
    "sns.scatterplot(data=step_group,x='step',y='isFraud')\n",
    "plt.title('Step Vs isFraud')\n",
    "plt.show()"
   ]
  },
  {
   "cell_type": "markdown",
   "id": "981e3388",
   "metadata": {},
   "source": [
    "no relationship exists between time and fraudulent transactions"
   ]
  },
  {
   "cell_type": "markdown",
   "id": "082b6783",
   "metadata": {},
   "source": [
    "## Data Preprocessing"
   ]
  },
  {
   "cell_type": "markdown",
   "id": "3710ba2a",
   "metadata": {},
   "source": [
    "- befor doing preprocessing we have to split our data"
   ]
  },
  {
   "cell_type": "code",
   "execution_count": 31,
   "id": "4627c0ce",
   "metadata": {},
   "outputs": [],
   "source": [
    "# Splitting features and target \n",
    "X = df.drop(['isFraud','nameOrig','nameDest'],axis=1)\n",
    "y = df['isFraud']"
   ]
  },
  {
   "cell_type": "code",
   "execution_count": 32,
   "id": "825dfec2",
   "metadata": {},
   "outputs": [
    {
     "data": {
      "text/html": [
       "<div>\n",
       "<style scoped>\n",
       "    .dataframe tbody tr th:only-of-type {\n",
       "        vertical-align: middle;\n",
       "    }\n",
       "\n",
       "    .dataframe tbody tr th {\n",
       "        vertical-align: top;\n",
       "    }\n",
       "\n",
       "    .dataframe thead th {\n",
       "        text-align: right;\n",
       "    }\n",
       "</style>\n",
       "<table border=\"1\" class=\"dataframe\">\n",
       "  <thead>\n",
       "    <tr style=\"text-align: right;\">\n",
       "      <th></th>\n",
       "      <th>step</th>\n",
       "      <th>type</th>\n",
       "      <th>amount</th>\n",
       "      <th>oldbalanceOrg</th>\n",
       "      <th>newbalanceOrig</th>\n",
       "      <th>oldbalanceDest</th>\n",
       "      <th>newbalanceDest</th>\n",
       "    </tr>\n",
       "  </thead>\n",
       "  <tbody>\n",
       "    <tr>\n",
       "      <th>0</th>\n",
       "      <td>1</td>\n",
       "      <td>PAYMENT</td>\n",
       "      <td>9839.64</td>\n",
       "      <td>170136.0</td>\n",
       "      <td>160296.36</td>\n",
       "      <td>0.0</td>\n",
       "      <td>0.0</td>\n",
       "    </tr>\n",
       "    <tr>\n",
       "      <th>1</th>\n",
       "      <td>1</td>\n",
       "      <td>PAYMENT</td>\n",
       "      <td>1864.28</td>\n",
       "      <td>21249.0</td>\n",
       "      <td>19384.72</td>\n",
       "      <td>0.0</td>\n",
       "      <td>0.0</td>\n",
       "    </tr>\n",
       "    <tr>\n",
       "      <th>2</th>\n",
       "      <td>1</td>\n",
       "      <td>TRANSFER</td>\n",
       "      <td>181.00</td>\n",
       "      <td>181.0</td>\n",
       "      <td>0.00</td>\n",
       "      <td>0.0</td>\n",
       "      <td>0.0</td>\n",
       "    </tr>\n",
       "    <tr>\n",
       "      <th>3</th>\n",
       "      <td>1</td>\n",
       "      <td>CASH_OUT</td>\n",
       "      <td>181.00</td>\n",
       "      <td>181.0</td>\n",
       "      <td>0.00</td>\n",
       "      <td>21182.0</td>\n",
       "      <td>0.0</td>\n",
       "    </tr>\n",
       "    <tr>\n",
       "      <th>4</th>\n",
       "      <td>1</td>\n",
       "      <td>PAYMENT</td>\n",
       "      <td>11668.14</td>\n",
       "      <td>41554.0</td>\n",
       "      <td>29885.86</td>\n",
       "      <td>0.0</td>\n",
       "      <td>0.0</td>\n",
       "    </tr>\n",
       "  </tbody>\n",
       "</table>\n",
       "</div>"
      ],
      "text/plain": [
       "   step      type    amount  oldbalanceOrg  newbalanceOrig  oldbalanceDest  \\\n",
       "0     1   PAYMENT   9839.64       170136.0       160296.36             0.0   \n",
       "1     1   PAYMENT   1864.28        21249.0        19384.72             0.0   \n",
       "2     1  TRANSFER    181.00          181.0            0.00             0.0   \n",
       "3     1  CASH_OUT    181.00          181.0            0.00         21182.0   \n",
       "4     1   PAYMENT  11668.14        41554.0        29885.86             0.0   \n",
       "\n",
       "   newbalanceDest  \n",
       "0             0.0  \n",
       "1             0.0  \n",
       "2             0.0  \n",
       "3             0.0  \n",
       "4             0.0  "
      ]
     },
     "execution_count": 32,
     "metadata": {},
     "output_type": "execute_result"
    }
   ],
   "source": [
    "X.head()"
   ]
  },
  {
   "cell_type": "code",
   "execution_count": 33,
   "id": "62147c00",
   "metadata": {},
   "outputs": [
    {
     "data": {
      "text/html": [
       "<style>#sk-container-id-1 {color: black;background-color: white;}#sk-container-id-1 pre{padding: 0;}#sk-container-id-1 div.sk-toggleable {background-color: white;}#sk-container-id-1 label.sk-toggleable__label {cursor: pointer;display: block;width: 100%;margin-bottom: 0;padding: 0.3em;box-sizing: border-box;text-align: center;}#sk-container-id-1 label.sk-toggleable__label-arrow:before {content: \"▸\";float: left;margin-right: 0.25em;color: #696969;}#sk-container-id-1 label.sk-toggleable__label-arrow:hover:before {color: black;}#sk-container-id-1 div.sk-estimator:hover label.sk-toggleable__label-arrow:before {color: black;}#sk-container-id-1 div.sk-toggleable__content {max-height: 0;max-width: 0;overflow: hidden;text-align: left;background-color: #f0f8ff;}#sk-container-id-1 div.sk-toggleable__content pre {margin: 0.2em;color: black;border-radius: 0.25em;background-color: #f0f8ff;}#sk-container-id-1 input.sk-toggleable__control:checked~div.sk-toggleable__content {max-height: 200px;max-width: 100%;overflow: auto;}#sk-container-id-1 input.sk-toggleable__control:checked~label.sk-toggleable__label-arrow:before {content: \"▾\";}#sk-container-id-1 div.sk-estimator input.sk-toggleable__control:checked~label.sk-toggleable__label {background-color: #d4ebff;}#sk-container-id-1 div.sk-label input.sk-toggleable__control:checked~label.sk-toggleable__label {background-color: #d4ebff;}#sk-container-id-1 input.sk-hidden--visually {border: 0;clip: rect(1px 1px 1px 1px);clip: rect(1px, 1px, 1px, 1px);height: 1px;margin: -1px;overflow: hidden;padding: 0;position: absolute;width: 1px;}#sk-container-id-1 div.sk-estimator {font-family: monospace;background-color: #f0f8ff;border: 1px dotted black;border-radius: 0.25em;box-sizing: border-box;margin-bottom: 0.5em;}#sk-container-id-1 div.sk-estimator:hover {background-color: #d4ebff;}#sk-container-id-1 div.sk-parallel-item::after {content: \"\";width: 100%;border-bottom: 1px solid gray;flex-grow: 1;}#sk-container-id-1 div.sk-label:hover label.sk-toggleable__label {background-color: #d4ebff;}#sk-container-id-1 div.sk-serial::before {content: \"\";position: absolute;border-left: 1px solid gray;box-sizing: border-box;top: 0;bottom: 0;left: 50%;z-index: 0;}#sk-container-id-1 div.sk-serial {display: flex;flex-direction: column;align-items: center;background-color: white;padding-right: 0.2em;padding-left: 0.2em;position: relative;}#sk-container-id-1 div.sk-item {position: relative;z-index: 1;}#sk-container-id-1 div.sk-parallel {display: flex;align-items: stretch;justify-content: center;background-color: white;position: relative;}#sk-container-id-1 div.sk-item::before, #sk-container-id-1 div.sk-parallel-item::before {content: \"\";position: absolute;border-left: 1px solid gray;box-sizing: border-box;top: 0;bottom: 0;left: 50%;z-index: -1;}#sk-container-id-1 div.sk-parallel-item {display: flex;flex-direction: column;z-index: 1;position: relative;background-color: white;}#sk-container-id-1 div.sk-parallel-item:first-child::after {align-self: flex-end;width: 50%;}#sk-container-id-1 div.sk-parallel-item:last-child::after {align-self: flex-start;width: 50%;}#sk-container-id-1 div.sk-parallel-item:only-child::after {width: 0;}#sk-container-id-1 div.sk-dashed-wrapped {border: 1px dashed gray;margin: 0 0.4em 0.5em 0.4em;box-sizing: border-box;padding-bottom: 0.4em;background-color: white;}#sk-container-id-1 div.sk-label label {font-family: monospace;font-weight: bold;display: inline-block;line-height: 1.2em;}#sk-container-id-1 div.sk-label-container {text-align: center;}#sk-container-id-1 div.sk-container {/* jupyter's `normalize.less` sets `[hidden] { display: none; }` but bootstrap.min.css set `[hidden] { display: none !important; }` so we also need the `!important` here to be able to override the default hidden behavior on the sphinx rendered scikit-learn.org. See: https://github.com/scikit-learn/scikit-learn/issues/21755 */display: inline-block !important;position: relative;}#sk-container-id-1 div.sk-text-repr-fallback {display: none;}</style><div id=\"sk-container-id-1\" class=\"sk-top-container\"><div class=\"sk-text-repr-fallback\"><pre>LabelEncoder()</pre><b>In a Jupyter environment, please rerun this cell to show the HTML representation or trust the notebook. <br />On GitHub, the HTML representation is unable to render, please try loading this page with nbviewer.org.</b></div><div class=\"sk-container\" hidden><div class=\"sk-item\"><div class=\"sk-estimator sk-toggleable\"><input class=\"sk-toggleable__control sk-hidden--visually\" id=\"sk-estimator-id-1\" type=\"checkbox\" checked><label for=\"sk-estimator-id-1\" class=\"sk-toggleable__label sk-toggleable__label-arrow\">LabelEncoder</label><div class=\"sk-toggleable__content\"><pre>LabelEncoder()</pre></div></div></div></div></div>"
      ],
      "text/plain": [
       "LabelEncoder()"
      ]
     },
     "execution_count": 33,
     "metadata": {},
     "output_type": "execute_result"
    }
   ],
   "source": [
    "label_encoder = LabelEncoder()\n",
    "label_encoder.fit(X[\"type\"])"
   ]
  },
  {
   "cell_type": "code",
   "execution_count": 34,
   "id": "f0222c6b",
   "metadata": {},
   "outputs": [
    {
     "data": {
      "text/plain": [
       "['CASH_IN', 'CASH_OUT', 'DEBIT', 'PAYMENT', 'TRANSFER']"
      ]
     },
     "execution_count": 34,
     "metadata": {},
     "output_type": "execute_result"
    }
   ],
   "source": [
    "list(label_encoder.classes_)"
   ]
  },
  {
   "cell_type": "code",
   "execution_count": 35,
   "id": "e8c6f6e2",
   "metadata": {},
   "outputs": [],
   "source": [
    "X[\"type\"]=label_encoder.transform(X[\"type\"])"
   ]
  },
  {
   "cell_type": "code",
   "execution_count": 36,
   "id": "feef3a6c",
   "metadata": {},
   "outputs": [
    {
     "data": {
      "text/html": [
       "<div>\n",
       "<style scoped>\n",
       "    .dataframe tbody tr th:only-of-type {\n",
       "        vertical-align: middle;\n",
       "    }\n",
       "\n",
       "    .dataframe tbody tr th {\n",
       "        vertical-align: top;\n",
       "    }\n",
       "\n",
       "    .dataframe thead th {\n",
       "        text-align: right;\n",
       "    }\n",
       "</style>\n",
       "<table border=\"1\" class=\"dataframe\">\n",
       "  <thead>\n",
       "    <tr style=\"text-align: right;\">\n",
       "      <th></th>\n",
       "      <th>step</th>\n",
       "      <th>type</th>\n",
       "      <th>amount</th>\n",
       "      <th>oldbalanceOrg</th>\n",
       "      <th>newbalanceOrig</th>\n",
       "      <th>oldbalanceDest</th>\n",
       "      <th>newbalanceDest</th>\n",
       "    </tr>\n",
       "  </thead>\n",
       "  <tbody>\n",
       "    <tr>\n",
       "      <th>0</th>\n",
       "      <td>1</td>\n",
       "      <td>3</td>\n",
       "      <td>9839.64</td>\n",
       "      <td>170136.0</td>\n",
       "      <td>160296.36</td>\n",
       "      <td>0.0</td>\n",
       "      <td>0.0</td>\n",
       "    </tr>\n",
       "    <tr>\n",
       "      <th>1</th>\n",
       "      <td>1</td>\n",
       "      <td>3</td>\n",
       "      <td>1864.28</td>\n",
       "      <td>21249.0</td>\n",
       "      <td>19384.72</td>\n",
       "      <td>0.0</td>\n",
       "      <td>0.0</td>\n",
       "    </tr>\n",
       "    <tr>\n",
       "      <th>2</th>\n",
       "      <td>1</td>\n",
       "      <td>4</td>\n",
       "      <td>181.00</td>\n",
       "      <td>181.0</td>\n",
       "      <td>0.00</td>\n",
       "      <td>0.0</td>\n",
       "      <td>0.0</td>\n",
       "    </tr>\n",
       "    <tr>\n",
       "      <th>3</th>\n",
       "      <td>1</td>\n",
       "      <td>1</td>\n",
       "      <td>181.00</td>\n",
       "      <td>181.0</td>\n",
       "      <td>0.00</td>\n",
       "      <td>21182.0</td>\n",
       "      <td>0.0</td>\n",
       "    </tr>\n",
       "    <tr>\n",
       "      <th>4</th>\n",
       "      <td>1</td>\n",
       "      <td>3</td>\n",
       "      <td>11668.14</td>\n",
       "      <td>41554.0</td>\n",
       "      <td>29885.86</td>\n",
       "      <td>0.0</td>\n",
       "      <td>0.0</td>\n",
       "    </tr>\n",
       "  </tbody>\n",
       "</table>\n",
       "</div>"
      ],
      "text/plain": [
       "   step  type    amount  oldbalanceOrg  newbalanceOrig  oldbalanceDest  \\\n",
       "0     1     3   9839.64       170136.0       160296.36             0.0   \n",
       "1     1     3   1864.28        21249.0        19384.72             0.0   \n",
       "2     1     4    181.00          181.0            0.00             0.0   \n",
       "3     1     1    181.00          181.0            0.00         21182.0   \n",
       "4     1     3  11668.14        41554.0        29885.86             0.0   \n",
       "\n",
       "   newbalanceDest  \n",
       "0             0.0  \n",
       "1             0.0  \n",
       "2             0.0  \n",
       "3             0.0  \n",
       "4             0.0  "
      ]
     },
     "execution_count": 36,
     "metadata": {},
     "output_type": "execute_result"
    }
   ],
   "source": [
    "X.head()"
   ]
  },
  {
   "cell_type": "code",
   "execution_count": 37,
   "id": "c512496d",
   "metadata": {},
   "outputs": [],
   "source": [
    "# Splitting train and test data\n",
    "X_train,X_test,y_train,y_test = train_test_split(X,y,test_size=0.3,stratify=y,random_state=42)"
   ]
  },
  {
   "cell_type": "code",
   "execution_count": 38,
   "id": "c6f1f03a",
   "metadata": {},
   "outputs": [],
   "source": [
    "# since there is no null values so we are moving forward with feature selection"
   ]
  },
  {
   "cell_type": "markdown",
   "id": "58298d7e",
   "metadata": {},
   "source": [
    "### Feature selection"
   ]
  },
  {
   "cell_type": "markdown",
   "id": "01c0cd33",
   "metadata": {},
   "source": [
    "- pearson correlation"
   ]
  },
  {
   "cell_type": "code",
   "execution_count": 39,
   "id": "4064dee6",
   "metadata": {},
   "outputs": [],
   "source": [
    "# if two  features are highly correlated ( not w.r.t target i m saying ) .then we can drop one of the feature as it is doing the same thing , for that we specify some threshold value\n",
    "# taking a threshold value --> given by domain expert\n",
    "# the time being we are taking threshold =0.95"
   ]
  },
  {
   "cell_type": "code",
   "execution_count": 40,
   "id": "e652f335",
   "metadata": {},
   "outputs": [],
   "source": [
    "# find and remove correlated features\n",
    "def correlation(dataset, threshold):\n",
    "    col_corr = set()  # Set of all the names of correlated columns\n",
    "    corr_matrix = dataset.corr()\n",
    "    for i in range(len(corr_matrix.columns)):\n",
    "        for j in range(i):\n",
    "            if abs(corr_matrix.iloc[i, j]) > threshold: # we are interested in absolute coeff value\n",
    "                colname = corr_matrix.columns[i]  # getting the name of column\n",
    "                col_corr.add(colname)\n",
    "    return col_corr"
   ]
  },
  {
   "cell_type": "code",
   "execution_count": 41,
   "id": "3722eee8",
   "metadata": {},
   "outputs": [],
   "source": [
    "# giving threshold 95 percent for the time \n",
    "threshold=0.95"
   ]
  },
  {
   "cell_type": "code",
   "execution_count": 42,
   "id": "840df9d0",
   "metadata": {},
   "outputs": [
    {
     "data": {
      "text/plain": [
       "{'newbalanceDest', 'newbalanceOrig'}"
      ]
     },
     "execution_count": 42,
     "metadata": {},
     "output_type": "execute_result"
    }
   ],
   "source": [
    "correlation(X_train,threshold)"
   ]
  },
  {
   "cell_type": "code",
   "execution_count": 43,
   "id": "79198d00",
   "metadata": {},
   "outputs": [],
   "source": [
    "X_train=X_train.drop(columns=['newbalanceDest','newbalanceOrig'],axis=1)"
   ]
  },
  {
   "cell_type": "code",
   "execution_count": 44,
   "id": "d348f6fc",
   "metadata": {},
   "outputs": [],
   "source": [
    "X_test=X_test.drop(columns=['newbalanceDest','newbalanceOrig'],axis=1)"
   ]
  },
  {
   "cell_type": "markdown",
   "id": "cebbac6d",
   "metadata": {},
   "source": [
    "**Drop Constant Features Using Variance Threshold**"
   ]
  },
  {
   "cell_type": "code",
   "execution_count": 45,
   "id": "bc521aa8",
   "metadata": {},
   "outputs": [
    {
     "data": {
      "text/html": [
       "<style>#sk-container-id-2 {color: black;background-color: white;}#sk-container-id-2 pre{padding: 0;}#sk-container-id-2 div.sk-toggleable {background-color: white;}#sk-container-id-2 label.sk-toggleable__label {cursor: pointer;display: block;width: 100%;margin-bottom: 0;padding: 0.3em;box-sizing: border-box;text-align: center;}#sk-container-id-2 label.sk-toggleable__label-arrow:before {content: \"▸\";float: left;margin-right: 0.25em;color: #696969;}#sk-container-id-2 label.sk-toggleable__label-arrow:hover:before {color: black;}#sk-container-id-2 div.sk-estimator:hover label.sk-toggleable__label-arrow:before {color: black;}#sk-container-id-2 div.sk-toggleable__content {max-height: 0;max-width: 0;overflow: hidden;text-align: left;background-color: #f0f8ff;}#sk-container-id-2 div.sk-toggleable__content pre {margin: 0.2em;color: black;border-radius: 0.25em;background-color: #f0f8ff;}#sk-container-id-2 input.sk-toggleable__control:checked~div.sk-toggleable__content {max-height: 200px;max-width: 100%;overflow: auto;}#sk-container-id-2 input.sk-toggleable__control:checked~label.sk-toggleable__label-arrow:before {content: \"▾\";}#sk-container-id-2 div.sk-estimator input.sk-toggleable__control:checked~label.sk-toggleable__label {background-color: #d4ebff;}#sk-container-id-2 div.sk-label input.sk-toggleable__control:checked~label.sk-toggleable__label {background-color: #d4ebff;}#sk-container-id-2 input.sk-hidden--visually {border: 0;clip: rect(1px 1px 1px 1px);clip: rect(1px, 1px, 1px, 1px);height: 1px;margin: -1px;overflow: hidden;padding: 0;position: absolute;width: 1px;}#sk-container-id-2 div.sk-estimator {font-family: monospace;background-color: #f0f8ff;border: 1px dotted black;border-radius: 0.25em;box-sizing: border-box;margin-bottom: 0.5em;}#sk-container-id-2 div.sk-estimator:hover {background-color: #d4ebff;}#sk-container-id-2 div.sk-parallel-item::after {content: \"\";width: 100%;border-bottom: 1px solid gray;flex-grow: 1;}#sk-container-id-2 div.sk-label:hover label.sk-toggleable__label {background-color: #d4ebff;}#sk-container-id-2 div.sk-serial::before {content: \"\";position: absolute;border-left: 1px solid gray;box-sizing: border-box;top: 0;bottom: 0;left: 50%;z-index: 0;}#sk-container-id-2 div.sk-serial {display: flex;flex-direction: column;align-items: center;background-color: white;padding-right: 0.2em;padding-left: 0.2em;position: relative;}#sk-container-id-2 div.sk-item {position: relative;z-index: 1;}#sk-container-id-2 div.sk-parallel {display: flex;align-items: stretch;justify-content: center;background-color: white;position: relative;}#sk-container-id-2 div.sk-item::before, #sk-container-id-2 div.sk-parallel-item::before {content: \"\";position: absolute;border-left: 1px solid gray;box-sizing: border-box;top: 0;bottom: 0;left: 50%;z-index: -1;}#sk-container-id-2 div.sk-parallel-item {display: flex;flex-direction: column;z-index: 1;position: relative;background-color: white;}#sk-container-id-2 div.sk-parallel-item:first-child::after {align-self: flex-end;width: 50%;}#sk-container-id-2 div.sk-parallel-item:last-child::after {align-self: flex-start;width: 50%;}#sk-container-id-2 div.sk-parallel-item:only-child::after {width: 0;}#sk-container-id-2 div.sk-dashed-wrapped {border: 1px dashed gray;margin: 0 0.4em 0.5em 0.4em;box-sizing: border-box;padding-bottom: 0.4em;background-color: white;}#sk-container-id-2 div.sk-label label {font-family: monospace;font-weight: bold;display: inline-block;line-height: 1.2em;}#sk-container-id-2 div.sk-label-container {text-align: center;}#sk-container-id-2 div.sk-container {/* jupyter's `normalize.less` sets `[hidden] { display: none; }` but bootstrap.min.css set `[hidden] { display: none !important; }` so we also need the `!important` here to be able to override the default hidden behavior on the sphinx rendered scikit-learn.org. See: https://github.com/scikit-learn/scikit-learn/issues/21755 */display: inline-block !important;position: relative;}#sk-container-id-2 div.sk-text-repr-fallback {display: none;}</style><div id=\"sk-container-id-2\" class=\"sk-top-container\"><div class=\"sk-text-repr-fallback\"><pre>VarianceThreshold(threshold=0)</pre><b>In a Jupyter environment, please rerun this cell to show the HTML representation or trust the notebook. <br />On GitHub, the HTML representation is unable to render, please try loading this page with nbviewer.org.</b></div><div class=\"sk-container\" hidden><div class=\"sk-item\"><div class=\"sk-estimator sk-toggleable\"><input class=\"sk-toggleable__control sk-hidden--visually\" id=\"sk-estimator-id-2\" type=\"checkbox\" checked><label for=\"sk-estimator-id-2\" class=\"sk-toggleable__label sk-toggleable__label-arrow\">VarianceThreshold</label><div class=\"sk-toggleable__content\"><pre>VarianceThreshold(threshold=0)</pre></div></div></div></div></div>"
      ],
      "text/plain": [
       "VarianceThreshold(threshold=0)"
      ]
     },
     "execution_count": 45,
     "metadata": {},
     "output_type": "execute_result"
    }
   ],
   "source": [
    "### It will remove  zero variance features\n",
    "from sklearn.feature_selection import VarianceThreshold\n",
    "var_thres=VarianceThreshold(threshold=0)\n",
    "var_thres.fit(X_train) # you ave to do fit on x_train"
   ]
  },
  {
   "cell_type": "code",
   "execution_count": 46,
   "id": "a22093c7",
   "metadata": {},
   "outputs": [
    {
     "data": {
      "text/plain": [
       "array([ True,  True,  True,  True,  True])"
      ]
     },
     "execution_count": 46,
     "metadata": {},
     "output_type": "execute_result"
    }
   ],
   "source": [
    "var_thres.get_support()"
   ]
  },
  {
   "cell_type": "markdown",
   "id": "f74f896a",
   "metadata": {},
   "source": [
    "- so there is no constant feature "
   ]
  },
  {
   "cell_type": "markdown",
   "id": "65f93de6",
   "metadata": {},
   "source": [
    "## feature Importance\n",
    "\n",
    "This technique gives you a score for each feature of your data,the higher the score mor relevant it is"
   ]
  },
  {
   "cell_type": "code",
   "execution_count": 47,
   "id": "59788ebb",
   "metadata": {},
   "outputs": [
    {
     "data": {
      "text/html": [
       "<style>#sk-container-id-3 {color: black;background-color: white;}#sk-container-id-3 pre{padding: 0;}#sk-container-id-3 div.sk-toggleable {background-color: white;}#sk-container-id-3 label.sk-toggleable__label {cursor: pointer;display: block;width: 100%;margin-bottom: 0;padding: 0.3em;box-sizing: border-box;text-align: center;}#sk-container-id-3 label.sk-toggleable__label-arrow:before {content: \"▸\";float: left;margin-right: 0.25em;color: #696969;}#sk-container-id-3 label.sk-toggleable__label-arrow:hover:before {color: black;}#sk-container-id-3 div.sk-estimator:hover label.sk-toggleable__label-arrow:before {color: black;}#sk-container-id-3 div.sk-toggleable__content {max-height: 0;max-width: 0;overflow: hidden;text-align: left;background-color: #f0f8ff;}#sk-container-id-3 div.sk-toggleable__content pre {margin: 0.2em;color: black;border-radius: 0.25em;background-color: #f0f8ff;}#sk-container-id-3 input.sk-toggleable__control:checked~div.sk-toggleable__content {max-height: 200px;max-width: 100%;overflow: auto;}#sk-container-id-3 input.sk-toggleable__control:checked~label.sk-toggleable__label-arrow:before {content: \"▾\";}#sk-container-id-3 div.sk-estimator input.sk-toggleable__control:checked~label.sk-toggleable__label {background-color: #d4ebff;}#sk-container-id-3 div.sk-label input.sk-toggleable__control:checked~label.sk-toggleable__label {background-color: #d4ebff;}#sk-container-id-3 input.sk-hidden--visually {border: 0;clip: rect(1px 1px 1px 1px);clip: rect(1px, 1px, 1px, 1px);height: 1px;margin: -1px;overflow: hidden;padding: 0;position: absolute;width: 1px;}#sk-container-id-3 div.sk-estimator {font-family: monospace;background-color: #f0f8ff;border: 1px dotted black;border-radius: 0.25em;box-sizing: border-box;margin-bottom: 0.5em;}#sk-container-id-3 div.sk-estimator:hover {background-color: #d4ebff;}#sk-container-id-3 div.sk-parallel-item::after {content: \"\";width: 100%;border-bottom: 1px solid gray;flex-grow: 1;}#sk-container-id-3 div.sk-label:hover label.sk-toggleable__label {background-color: #d4ebff;}#sk-container-id-3 div.sk-serial::before {content: \"\";position: absolute;border-left: 1px solid gray;box-sizing: border-box;top: 0;bottom: 0;left: 50%;z-index: 0;}#sk-container-id-3 div.sk-serial {display: flex;flex-direction: column;align-items: center;background-color: white;padding-right: 0.2em;padding-left: 0.2em;position: relative;}#sk-container-id-3 div.sk-item {position: relative;z-index: 1;}#sk-container-id-3 div.sk-parallel {display: flex;align-items: stretch;justify-content: center;background-color: white;position: relative;}#sk-container-id-3 div.sk-item::before, #sk-container-id-3 div.sk-parallel-item::before {content: \"\";position: absolute;border-left: 1px solid gray;box-sizing: border-box;top: 0;bottom: 0;left: 50%;z-index: -1;}#sk-container-id-3 div.sk-parallel-item {display: flex;flex-direction: column;z-index: 1;position: relative;background-color: white;}#sk-container-id-3 div.sk-parallel-item:first-child::after {align-self: flex-end;width: 50%;}#sk-container-id-3 div.sk-parallel-item:last-child::after {align-self: flex-start;width: 50%;}#sk-container-id-3 div.sk-parallel-item:only-child::after {width: 0;}#sk-container-id-3 div.sk-dashed-wrapped {border: 1px dashed gray;margin: 0 0.4em 0.5em 0.4em;box-sizing: border-box;padding-bottom: 0.4em;background-color: white;}#sk-container-id-3 div.sk-label label {font-family: monospace;font-weight: bold;display: inline-block;line-height: 1.2em;}#sk-container-id-3 div.sk-label-container {text-align: center;}#sk-container-id-3 div.sk-container {/* jupyter's `normalize.less` sets `[hidden] { display: none; }` but bootstrap.min.css set `[hidden] { display: none !important; }` so we also need the `!important` here to be able to override the default hidden behavior on the sphinx rendered scikit-learn.org. See: https://github.com/scikit-learn/scikit-learn/issues/21755 */display: inline-block !important;position: relative;}#sk-container-id-3 div.sk-text-repr-fallback {display: none;}</style><div id=\"sk-container-id-3\" class=\"sk-top-container\"><div class=\"sk-text-repr-fallback\"><pre>ExtraTreesClassifier()</pre><b>In a Jupyter environment, please rerun this cell to show the HTML representation or trust the notebook. <br />On GitHub, the HTML representation is unable to render, please try loading this page with nbviewer.org.</b></div><div class=\"sk-container\" hidden><div class=\"sk-item\"><div class=\"sk-estimator sk-toggleable\"><input class=\"sk-toggleable__control sk-hidden--visually\" id=\"sk-estimator-id-3\" type=\"checkbox\" checked><label for=\"sk-estimator-id-3\" class=\"sk-toggleable__label sk-toggleable__label-arrow\">ExtraTreesClassifier</label><div class=\"sk-toggleable__content\"><pre>ExtraTreesClassifier()</pre></div></div></div></div></div>"
      ],
      "text/plain": [
       "ExtraTreesClassifier()"
      ]
     },
     "execution_count": 47,
     "metadata": {},
     "output_type": "execute_result"
    }
   ],
   "source": [
    "from sklearn.ensemble import ExtraTreesClassifier\n",
    "import matplotlib.pyplot as plt\n",
    "model=ExtraTreesClassifier()\n",
    "model.fit(X_train,y_train)"
   ]
  },
  {
   "cell_type": "code",
   "execution_count": 48,
   "id": "9e6f2678",
   "metadata": {},
   "outputs": [
    {
     "name": "stdout",
     "output_type": "stream",
     "text": [
      "[0.23332801 0.03641084 0.28328195 0.34599715 0.10098206]\n"
     ]
    }
   ],
   "source": [
    "print(model.feature_importances_)"
   ]
  },
  {
   "cell_type": "code",
   "execution_count": 49,
   "id": "17fe6591",
   "metadata": {},
   "outputs": [
    {
     "data": {
      "image/png": "[encoded data removed]",
      "text/plain": [
       "<Figure size 432x288 with 1 Axes>"
      ]
     },
     "metadata": {
      "needs_background": "light"
     },
     "output_type": "display_data"
    }
   ],
   "source": [
    "ranked_features=pd.Series(model.feature_importances_,index=X_train.columns)\n",
    "ranked_features.nlargest(10).plot(kind=\"barh\")\n",
    "plt.show()"
   ]
  },
  {
   "cell_type": "markdown",
   "id": "d762ec33",
   "metadata": {},
   "source": [
    "imortant fearures are following in decreasing importance or information gain:\n",
    "- type\n",
    "- oldbalanceDest\n",
    "- step\n",
    "- amount\n",
    "- oldbalanceOrd"
   ]
  },
  {
   "cell_type": "markdown",
   "id": "d9a5f7b3",
   "metadata": {},
   "source": [
    "## Handeling Imbalanced data"
   ]
  },
  {
   "cell_type": "code",
   "execution_count": 98,
   "id": "e23ffe7a",
   "metadata": {},
   "outputs": [],
   "source": [
    "from imblearn.combine import SMOTETomek\n",
    "\n",
    "# Resampling the minority class. The strategy can be changed as required.\n",
    "smt = SMOTETomek(random_state=42,sampling_strategy='minority',n_jobs=-1)"
   ]
  },
  {
   "cell_type": "code",
   "execution_count": 99,
   "id": "430308f6",
   "metadata": {},
   "outputs": [],
   "source": [
    "# Fit the model to generate the data.\n",
    "X_train, y_train = smt.fit_resample(X_train, y_train)"
   ]
  },
  {
   "cell_type": "code",
   "execution_count": 105,
   "id": "171a836b",
   "metadata": {},
   "outputs": [
    {
     "data": {
      "text/plain": [
       "((8894168, 5), (8894168,))"
      ]
     },
     "execution_count": 105,
     "metadata": {},
     "output_type": "execute_result"
    }
   ],
   "source": [
    "X_train.shape ,y_train.shape"
   ]
  },
  {
   "cell_type": "markdown",
   "id": "654fa5d9",
   "metadata": {},
   "source": [
    "# standardize the datasets\n",
    "\n",
    "**Why Robust scaler and not Standard scaler?**\n",
    "\n",
    "- Scaling the data using Robust scaler\n",
    "- Since most of the independent variables are not normally distributed we cannot use Standardscaler\n",
    "\n",
    "**Why Robust Scaler and not Minmax?**\n",
    "\n",
    "- because most of the feature has outliers. So Minmax will scale data according to Max values which is outlier.\n",
    "- This Scaler removes the median and scales the data according to the quantile range (defaults to IQR: Interquartile Range). The IQR is the range between the 1st quartile (25th quantile) and the 3rd quartile (75th quantile)."
   ]
  },
  {
   "cell_type": "code",
   "execution_count": 106,
   "id": "940eafe1",
   "metadata": {},
   "outputs": [],
   "source": [
    "# Fit with robust scaler for KNN best K-selection experminet\n",
    "robustscaler = RobustScaler()\n",
    "s_x_train = robustscaler.fit_transform(X_train)\n",
    "s_x_test  = robustscaler.transform(X_test)"
   ]
  },
  {
   "cell_type": "markdown",
   "id": "b9454413",
   "metadata": {},
   "source": [
    "## model building"
   ]
  },
  {
   "cell_type": "code",
   "execution_count": 118,
   "id": "f6914205",
   "metadata": {},
   "outputs": [],
   "source": [
    "def evaluate_clf(true, predicted):\n",
    "    '''\n",
    "    This function takes in true values and predicted values\n",
    "    Returns: Accuracy, F1-Score, Precision, Recall, Roc-auc Score\n",
    "    '''\n",
    "    acc = accuracy_score(true, predicted) # Calculate Accuracy\n",
    "    f1 = f1_score(true, predicted) # Calculate F1-score\n",
    "    precision = precision_score(true, predicted) # Calculate Precision\n",
    "    recall = recall_score(true, predicted)  # Calculate Recall\n",
    "    roc_auc = roc_auc_score(true, predicted) #Calculate Roc\n",
    "    return acc, f1 , precision, recall, roc_auc"
   ]
  },
  {
   "cell_type": "code",
   "execution_count": 119,
   "id": "3b44e57b",
   "metadata": {},
   "outputs": [],
   "source": [
    "# Create a function which can evaluate models and return a report \n",
    "def evaluate_models(X_train, X_test, y_train, y_test, models):\n",
    "    '''\n",
    "    This function takes in X and y and models dictionary as input\n",
    "    It splits the data into Train Test split\n",
    "    Iterates through the given model dictionary and evaluates the metrics\n",
    "    Returns: Dataframe which contains report of all models metrics with cost\n",
    "    '''\n",
    "    # separate dataset into train and test\n",
    "    #X_train, X_test, y_train, y_test = train_test_split(X,y,test_size=0.2,random_state=42)\n",
    "    \n",
    "    models_list = []\n",
    "    accuracy_list = []\n",
    "    F1_score_list=[]\n",
    "    Precision_list=[]\n",
    "    Recall_list=[]\n",
    "    \n",
    "    \n",
    "    \n",
    "    for i in range(len(list(models))):\n",
    "        model = list(models.values())[i]\n",
    "        model.fit(X_train, y_train) # Train model\n",
    "\n",
    "        # Make predictions\n",
    "        y_train_pred = model.predict(X_train)\n",
    "        y_test_pred = model.predict(X_test)\n",
    "\n",
    "        # Training set performance\n",
    "        model_train_accuracy, model_train_f1,model_train_precision,\\\n",
    "        model_train_recall,model_train_rocauc_score=evaluate_clf(y_train ,y_train_pred)\n",
    "\n",
    "\n",
    "\n",
    "        # Test set performance\n",
    "        model_test_accuracy,model_test_f1,model_test_precision,\\\n",
    "        model_test_recall,model_test_rocauc_score=evaluate_clf(y_test, y_test_pred)\n",
    "\n",
    "\n",
    "        print(list(models.keys())[i])\n",
    "        models_list.append(list(models.keys())[i])\n",
    "\n",
    "        print('Model performance for Training set')\n",
    "        print(\"- Accuracy: {:.4f}\".format(model_train_accuracy))\n",
    "        print('- F1 score: {:.4f}'.format(model_train_f1)) \n",
    "        print('- Precision: {:.4f}'.format(model_train_precision))\n",
    "        print('- Recall: {:.4f}'.format(model_train_recall))\n",
    "        print('- Roc Auc Score: {:.4f}'.format(model_train_rocauc_score))\n",
    "\n",
    "\n",
    "        print('----------------------------------')\n",
    "\n",
    "        print('Model performance for Test set')\n",
    "        print('- Accuracy: {:.4f}'.format(model_test_accuracy))\n",
    "        print('- F1 score: {:.4f}'.format(model_test_f1))\n",
    "        print('- Precision: {:.4f}'.format(model_test_precision))\n",
    "        print('- Recall: {:.4f}'.format(model_test_recall))\n",
    "        print('- Roc Auc Score: {:.4f}'.format(model_test_rocauc_score))\n",
    "        \n",
    "        accuracy_list.append(model_test_accuracy)\n",
    "        F1_score_list.append(model_test_f1)\n",
    "        Recall_list.append(model_test_recall)\n",
    "        Precision_list.append(model_test_precision)\n",
    " \n",
    "        print('='*35)\n",
    "        print('\\n')\n",
    "        \n",
    "    report=pd.DataFrame(list(zip(models_list, accuracy_list, F1_score_list, Recall_list, Precision_list)), columns=['Model Name', 'accuracy','F1_score','Recall','Precision']).sort_values(by=[\"F1_score\"])\n",
    "        \n",
    "    return report"
   ]
  },
  {
   "cell_type": "code",
   "execution_count": 126,
   "id": "c085d685",
   "metadata": {},
   "outputs": [],
   "source": [
    "# Dictionary which contains models for experiment\n",
    "# Dictionary which contains models for experiment\n",
    "models = {\n",
    "    \"Random Forest\": RandomForestClassifier(n_jobs=-1),\n",
    "    \"Decision Tree\": DecisionTreeClassifier(),\n",
    "    \"Logistic Regression\": LogisticRegression(n_jobs=-1),\n",
    "     \"K-Neighbors Classifier\": KNeighborsClassifier(n_jobs=-1),\n",
    "    \"XGBClassifier\": XGBClassifier(n_jobs=-1), \n",
    "     \"CatBoosting Classifier\": CatBoostClassifier(verbose=False,),\n",
    "    \"AdaBoost Classifier\": AdaBoostClassifier()\n",
    "}"
   ]
  },
  {
   "cell_type": "markdown",
   "id": "c40a0959",
   "metadata": {},
   "source": [
    "**Fit data for models in dictionary**"
   ]
  },
  {
   "cell_type": "code",
   "execution_count": 127,
   "id": "630bb812",
   "metadata": {},
   "outputs": [
    {
     "name": "stdout",
     "output_type": "stream",
     "text": [
      "Random Forest\n",
      "Model performance for Training set\n",
      "- Accuracy: 1.0000\n",
      "- F1 score: 0.9999\n",
      "- Precision: 1.0000\n",
      "- Recall: 0.9998\n",
      "- Roc Auc Score: 0.9999\n",
      "----------------------------------\n",
      "Model performance for Test set\n",
      "- Accuracy: 0.9997\n",
      "- F1 score: 0.8817\n",
      "- Precision: 0.9811\n",
      "- Recall: 0.8006\n",
      "- Roc Auc Score: 0.9003\n",
      "===================================\n",
      "\n",
      "\n",
      "Decision Tree\n",
      "Model performance for Training set\n",
      "- Accuracy: 1.0000\n",
      "- F1 score: 1.0000\n",
      "- Precision: 1.0000\n",
      "- Recall: 1.0000\n",
      "- Roc Auc Score: 1.0000\n",
      "----------------------------------\n",
      "Model performance for Test set\n",
      "- Accuracy: 0.9997\n",
      "- F1 score: 0.8887\n",
      "- Precision: 0.9005\n",
      "- Recall: 0.8772\n",
      "- Roc Auc Score: 0.9385\n",
      "===================================\n",
      "\n",
      "\n",
      "Gradient Boosting\n",
      "Model performance for Training set\n",
      "- Accuracy: 0.9993\n",
      "- F1 score: 0.6476\n",
      "- Precision: 0.9632\n",
      "- Recall: 0.4878\n",
      "- Roc Auc Score: 0.7439\n",
      "----------------------------------\n",
      "Model performance for Test set\n",
      "- Accuracy: 0.9993\n",
      "- F1 score: 0.6487\n",
      "- Precision: 0.9612\n",
      "- Recall: 0.4895\n",
      "- Roc Auc Score: 0.7447\n",
      "===================================\n",
      "\n",
      "\n",
      "Logistic Regression\n",
      "Model performance for Training set\n",
      "- Accuracy: 0.9991\n",
      "- F1 score: 0.5278\n",
      "- Precision: 0.8071\n",
      "- Recall: 0.3921\n",
      "- Roc Auc Score: 0.6960\n",
      "----------------------------------\n",
      "Model performance for Test set\n",
      "- Accuracy: 0.9991\n",
      "- F1 score: 0.5126\n",
      "- Precision: 0.8056\n",
      "- Recall: 0.3759\n",
      "- Roc Auc Score: 0.6879\n",
      "===================================\n",
      "\n",
      "\n",
      "K-Neighbors Classifier\n",
      "Model performance for Training set\n",
      "- Accuracy: 0.9996\n",
      "- F1 score: 0.8105\n",
      "- Precision: 0.9192\n",
      "- Recall: 0.7249\n",
      "- Roc Auc Score: 0.8624\n",
      "----------------------------------\n",
      "Model performance for Test set\n",
      "- Accuracy: 0.9994\n",
      "- F1 score: 0.7608\n",
      "- Precision: 0.8522\n",
      "- Recall: 0.6870\n",
      "- Roc Auc Score: 0.8434\n",
      "===================================\n",
      "\n",
      "\n",
      "XGBClassifier\n",
      "Model performance for Training set\n",
      "- Accuracy: 0.9999\n",
      "- F1 score: 0.9533\n",
      "- Precision: 0.9928\n",
      "- Recall: 0.9169\n",
      "- Roc Auc Score: 0.9584\n",
      "----------------------------------\n",
      "Model performance for Test set\n",
      "- Accuracy: 0.9998\n",
      "- F1 score: 0.9282\n",
      "- Precision: 0.9794\n",
      "- Recall: 0.8821\n",
      "- Roc Auc Score: 0.9410\n",
      "===================================\n",
      "\n",
      "\n",
      "CatBoosting Classifier\n",
      "Model performance for Training set\n",
      "- Accuracy: 0.9999\n",
      "- F1 score: 0.9788\n",
      "- Precision: 0.9964\n",
      "- Recall: 0.9618\n",
      "- Roc Auc Score: 0.9809\n",
      "----------------------------------\n",
      "Model performance for Test set\n",
      "- Accuracy: 0.9998\n",
      "- F1 score: 0.9168\n",
      "- Precision: 0.9558\n",
      "- Recall: 0.8809\n",
      "- Roc Auc Score: 0.9404\n",
      "===================================\n",
      "\n",
      "\n",
      "AdaBoost Classifier\n",
      "Model performance for Training set\n",
      "- Accuracy: 0.9994\n",
      "- F1 score: 0.6838\n",
      "- Precision: 0.9526\n",
      "- Recall: 0.5333\n",
      "- Roc Auc Score: 0.7666\n",
      "----------------------------------\n",
      "Model performance for Test set\n",
      "- Accuracy: 0.9994\n",
      "- F1 score: 0.6887\n",
      "- Precision: 0.9297\n",
      "- Recall: 0.5469\n",
      "- Roc Auc Score: 0.7734\n",
      "===================================\n",
      "\n",
      "\n"
     ]
    },
    {
     "data": {
      "text/html": [
       "<div>\n",
       "<style scoped>\n",
       "    .dataframe tbody tr th:only-of-type {\n",
       "        vertical-align: middle;\n",
       "    }\n",
       "\n",
       "    .dataframe tbody tr th {\n",
       "        vertical-align: top;\n",
       "    }\n",
       "\n",
       "    .dataframe thead th {\n",
       "        text-align: right;\n",
       "    }\n",
       "</style>\n",
       "<table border=\"1\" class=\"dataframe\">\n",
       "  <thead>\n",
       "    <tr style=\"text-align: right;\">\n",
       "      <th></th>\n",
       "      <th>Model Name</th>\n",
       "      <th>accuracy</th>\n",
       "      <th>F1_score</th>\n",
       "      <th>Recall</th>\n",
       "      <th>Precision</th>\n",
       "    </tr>\n",
       "  </thead>\n",
       "  <tbody>\n",
       "    <tr>\n",
       "      <th>3</th>\n",
       "      <td>Logistic Regression</td>\n",
       "      <td>0.999090</td>\n",
       "      <td>0.512626</td>\n",
       "      <td>0.375926</td>\n",
       "      <td>0.805556</td>\n",
       "    </tr>\n",
       "    <tr>\n",
       "      <th>2</th>\n",
       "      <td>Gradient Boosting</td>\n",
       "      <td>0.999325</td>\n",
       "      <td>0.648671</td>\n",
       "      <td>0.489506</td>\n",
       "      <td>0.961212</td>\n",
       "    </tr>\n",
       "    <tr>\n",
       "      <th>7</th>\n",
       "      <td>AdaBoost Classifier</td>\n",
       "      <td>0.999371</td>\n",
       "      <td>0.688690</td>\n",
       "      <td>0.546914</td>\n",
       "      <td>0.929696</td>\n",
       "    </tr>\n",
       "    <tr>\n",
       "      <th>4</th>\n",
       "      <td>K-Neighbors Classifier</td>\n",
       "      <td>0.999450</td>\n",
       "      <td>0.760766</td>\n",
       "      <td>0.687037</td>\n",
       "      <td>0.852221</td>\n",
       "    </tr>\n",
       "    <tr>\n",
       "      <th>0</th>\n",
       "      <td>Random Forest</td>\n",
       "      <td>0.999727</td>\n",
       "      <td>0.881713</td>\n",
       "      <td>0.800617</td>\n",
       "      <td>0.981089</td>\n",
       "    </tr>\n",
       "    <tr>\n",
       "      <th>1</th>\n",
       "      <td>Decision Tree</td>\n",
       "      <td>0.999720</td>\n",
       "      <td>0.888680</td>\n",
       "      <td>0.877160</td>\n",
       "      <td>0.900507</td>\n",
       "    </tr>\n",
       "    <tr>\n",
       "      <th>6</th>\n",
       "      <td>CatBoosting Classifier</td>\n",
       "      <td>0.999796</td>\n",
       "      <td>0.916801</td>\n",
       "      <td>0.880864</td>\n",
       "      <td>0.955794</td>\n",
       "    </tr>\n",
       "    <tr>\n",
       "      <th>5</th>\n",
       "      <td>XGBClassifier</td>\n",
       "      <td>0.999826</td>\n",
       "      <td>0.928223</td>\n",
       "      <td>0.882099</td>\n",
       "      <td>0.979438</td>\n",
       "    </tr>\n",
       "  </tbody>\n",
       "</table>\n",
       "</div>"
      ],
      "text/plain": [
       "               Model Name  accuracy  F1_score    Recall  Precision\n",
       "3     Logistic Regression  0.999090  0.512626  0.375926   0.805556\n",
       "2       Gradient Boosting  0.999325  0.648671  0.489506   0.961212\n",
       "7     AdaBoost Classifier  0.999371  0.688690  0.546914   0.929696\n",
       "4  K-Neighbors Classifier  0.999450  0.760766  0.687037   0.852221\n",
       "0           Random Forest  0.999727  0.881713  0.800617   0.981089\n",
       "1           Decision Tree  0.999720  0.888680  0.877160   0.900507\n",
       "6  CatBoosting Classifier  0.999796  0.916801  0.880864   0.955794\n",
       "5           XGBClassifier  0.999826  0.928223  0.882099   0.979438"
      ]
     },
     "execution_count": 127,
     "metadata": {},
     "output_type": "execute_result"
    }
   ],
   "source": [
    "evaluate_models(s_x_train, s_x_test, y_train, y_test, models)"
   ]
  },
  {
   "cell_type": "markdown",
   "id": "556ce84c",
   "metadata": {},
   "source": [
    "**Report**\n",
    "\n",
    "From the final report we can see than XGBClassifier has performed the best out of other models , \n",
    "we not going to do grid search cv as the accuracy is good and to save computation resources \n"
   ]
  },
  {
   "cell_type": "markdown",
   "id": "d6306206",
   "metadata": {},
   "source": [
    "**1. Data cleaning including missing values, outliers and multi-collinearity.**\n",
    "\n",
    "   IN this dataset there is no null values ,most of the numerical Features are having outliers but in this case outliers are important ,so not going to remove any outliers and by using  pearson correlation we are handeling multi-collinearity that is if two  features are highly correlated ( not w.r.t target i m saying ) .then we can drop one of the feature as it is doing the same thing , for that we specify some threshold value\n",
    "   \n",
    "   taking a threshold value --> given by domain expert\n",
    "   \n",
    "   for the  time being we are taking threshold =0.95\n"
   ]
  },
  {
   "cell_type": "markdown",
   "id": "ffa185f7",
   "metadata": {},
   "source": [
    "**2. Describe your fraud detection model in elaboration.**\n",
    "\n",
    "A  model for predicting fraudulent transactions for a financial company where the column 'fraud' is simply our  target variable where transaction is indeed a fraudulent transaction .\n",
    "\n",
    "major steps to build our model\n",
    "\n",
    "1.  data collection - As the data is provided in the assignment , so it is not a difficult task in data ingestion\n",
    "\n",
    "2. EDA- Analyzing the data by doing univariate and multivariate analysis by ploting different graphs\n",
    "\n",
    "3. feature engineering - i.e Data Preprocessing  this includes handeling null values , Encoding categorical data , handeling imbalance data and scaling of the data\n",
    "\n",
    "4.  model building - building machine learning models on top of training data\n",
    "\n",
    "5. model evaluation - testing our model on testing data  and selecting the best model \n",
    "\n",
    "6. hyperparameter tuning - by using grid search cv we are tuning the parameters of that model which is giving good results previously in ore case  XGBClassifier has performed the best out of other models ,\n",
    "\n",
    " note :-\n",
    " \n",
    " in our case grid search cv is taking too much resorces so we not performing this step  and also we are getting good result we our default model ( XGBClassifier )"
   ]
  },
  {
   "cell_type": "markdown",
   "id": "6fa51075",
   "metadata": {},
   "source": [
    "**3. How did you select variables to be included in the model?**\n",
    "\n",
    "- while doing eda I found out that nameOrig , nameDest have too much classes , especially number of classes in nameOrig is same as tota record so these twp features will not contribute in our prediction \n",
    "\n",
    "- From the data explanation, anything transfer between accounts bigger then 200.000 would be ifFlaggedFraud == 1. But it is interesting when you take a look at the data that is not the reality. A lot of transactions that are passing of 200.000 between accounts and isFlaggedFraud == 0 and isFraud==1 , so we are no going to use this features \n",
    "\n",
    "- using  pearson correlation we are handeling multi-collinearity that is if two  features are highly correlated then we can drop one of the feature , in our case\n",
    "\n",
    "oldbalanceOrg and newbalanceOrig are highly collinear  , so we are going to drop one the feature\n",
    "\n",
    "oldbalanceDest and newbalanceDest are highly collinear , so we are going to drop one the feature\n",
    "\n",
    "- Drop Constant Features Using Variance Threshold  - in our case there is no feature which is constant we are not going to remove any feature\n"
   ]
  },
  {
   "cell_type": "markdown",
   "id": "869a46b7",
   "metadata": {},
   "source": [
    "**4. Demonstrate the performance of the model by using best set of tools.**\n",
    "\n",
    "-  check the performance of the model from \n",
    " Accuracy, F1 score,Precision ,Recall , Roc Auc Score\n",
    "    but more importantly i am focusing on F1 score because is the harmonic mean of Precision and Recall\n",
    "    \n",
    "- also in our case we have to reduce False neagtive "
   ]
  },
  {
   "cell_type": "markdown",
   "id": "e87af5dd",
   "metadata": {},
   "source": [
    "**5. What are the key factors that predict fraudulent customer?**\n",
    "\n",
    "- When we look at the oldbalance and newbalance of both origin and destination, we can see some patterns during fraudulent transactions\n",
    "- Type: fraud transactions when looked in terms of unique values in column type (which is basically column for transaction type) is only given by two types of transaction CASH_OUT (50.11567) TRANSFER (49.88433), what that means is all fraud transactions are either cash_out or transfer of amount to different account which makes sense as fraud transaction will be done either taking fraud money out from someone's account or transferring it to diffferent account. I mapped 1 to both cash_out and transfer and 0 to other values , so basically I weighted them and give more preference for genuine reason."
   ]
  },
  {
   "cell_type": "markdown",
   "id": "ea6631f0",
   "metadata": {},
   "source": [
    "**6. Do these factors make sense? If yes, How? If not, How not?**\n",
    "\n",
    "yes these factors make sense \n",
    "\n",
    "1. In fraudulent transactions, the origin account is completely emptied out => so we should mark all the transactions where the newbalance becomes zero after cashout or transfer AS 1 (possible fraud)\n",
    "\n",
    "2. On the other hand, in normal transactions, the newbalance in the destination account typically increases by the equivalent of the transaction amount. But in fraudulent transactions, they do not increase by that transaction amount => there is an anomaly => so we should mark all such anomalous transactions AS 1 (possible fraud)\n",
    "\n",
    "3. Similarly, in fraudulent transactions, the newbalance in the destination account does not increase at all => means newbalance in Destination is zero whether the transaction is transfer or cashout => so we should mark all such transactions AS 1 (possible fraud)"
   ]
  },
  {
   "cell_type": "markdown",
   "id": "ba289510",
   "metadata": {},
   "source": [
    "**7. What kind of prevention should be adopted while company update its infrastructure?**\n",
    "- The company should contact the account holder as soon as the transaction amount crosses some threshold value(specified by domain expert ) of their balance in account and should not let them totally empty their account, by that they can significantly decrease fraudlent transaction.\n",
    "\n"
   ]
  },
  {
   "cell_type": "markdown",
   "id": "01c86f78",
   "metadata": {},
   "source": [
    "**8. Assuming these actions have been implemented, how would you determine if they work?**\n",
    "\n",
    "To check the efficiency of step above actions, they should check data drift i.e is there is any change with new data nd  EDA to do analysis on top of that  new data  to check for the fraudlent transaction . If there is a decrease fraudlent transaction then it is great , but if fraudlent transaction are still same or increasing then we should take the advise from the domain expert "
   ]
  }
 ],
 "metadata": {
  "kernelspec": {
   "display_name": "Python 3 (ipykernel)",
   "language": "python",
   "name": "python3"
  },
  "language_info": {
   "codemirror_mode": {
    "name": "ipython",
    "version": 3
   },
   "file_extension": ".py",
   "mimetype": "text/x-python",
   "name": "python",
   "nbconvert_exporter": "python",
   "pygments_lexer": "ipython3",
   "version": "3.7.15"
  }
 },
 "nbformat": 4,
 "nbformat_minor": 5
}
