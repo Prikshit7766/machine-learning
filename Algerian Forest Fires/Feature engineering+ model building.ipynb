{
 "cells": [
  {
   "cell_type": "code",
   "execution_count": 1,
   "id": "2ac9981b",
   "metadata": {},
   "outputs": [],
   "source": [
    "import numpy as np\n",
    "import pandas as pd\n",
    "import matplotlib.pyplot as plt\n",
    "import seaborn as sns\n",
    "%matplotlib inline\n",
    "import warnings\n",
    "warnings.filterwarnings('ignore')"
   ]
  },
  {
   "cell_type": "code",
   "execution_count": 2,
   "id": "581561b2",
   "metadata": {},
   "outputs": [],
   "source": [
    "df=pd.read_csv(\"Algerian_forest_fires_dataset_UPDATE_clean.csv\")"
   ]
  },
  {
   "cell_type": "code",
   "execution_count": 3,
   "id": "6cc8864a",
   "metadata": {},
   "outputs": [
    {
     "data": {
      "text/html": [
       "<div>\n",
       "<style scoped>\n",
       "    .dataframe tbody tr th:only-of-type {\n",
       "        vertical-align: middle;\n",
       "    }\n",
       "\n",
       "    .dataframe tbody tr th {\n",
       "        vertical-align: top;\n",
       "    }\n",
       "\n",
       "    .dataframe thead th {\n",
       "        text-align: right;\n",
       "    }\n",
       "</style>\n",
       "<table border=\"1\" class=\"dataframe\">\n",
       "  <thead>\n",
       "    <tr style=\"text-align: right;\">\n",
       "      <th></th>\n",
       "      <th>day</th>\n",
       "      <th>month</th>\n",
       "      <th>year</th>\n",
       "      <th>Temperature</th>\n",
       "      <th>RH</th>\n",
       "      <th>Ws</th>\n",
       "      <th>Rain</th>\n",
       "      <th>FFMC</th>\n",
       "      <th>DMC</th>\n",
       "      <th>DC</th>\n",
       "      <th>ISI</th>\n",
       "      <th>BUI</th>\n",
       "      <th>FWI</th>\n",
       "      <th>Classes</th>\n",
       "      <th>Region</th>\n",
       "      <th>date</th>\n",
       "    </tr>\n",
       "  </thead>\n",
       "  <tbody>\n",
       "    <tr>\n",
       "      <th>0</th>\n",
       "      <td>1</td>\n",
       "      <td>6</td>\n",
       "      <td>2012</td>\n",
       "      <td>29</td>\n",
       "      <td>57</td>\n",
       "      <td>18</td>\n",
       "      <td>0.0</td>\n",
       "      <td>65.7</td>\n",
       "      <td>3.4</td>\n",
       "      <td>7.6</td>\n",
       "      <td>1.3</td>\n",
       "      <td>3.4</td>\n",
       "      <td>0.5</td>\n",
       "      <td>not fire</td>\n",
       "      <td>1</td>\n",
       "      <td>2012-06-01</td>\n",
       "    </tr>\n",
       "    <tr>\n",
       "      <th>1</th>\n",
       "      <td>2</td>\n",
       "      <td>6</td>\n",
       "      <td>2012</td>\n",
       "      <td>29</td>\n",
       "      <td>61</td>\n",
       "      <td>13</td>\n",
       "      <td>1.3</td>\n",
       "      <td>64.4</td>\n",
       "      <td>4.1</td>\n",
       "      <td>7.6</td>\n",
       "      <td>1.0</td>\n",
       "      <td>3.9</td>\n",
       "      <td>0.4</td>\n",
       "      <td>not fire</td>\n",
       "      <td>1</td>\n",
       "      <td>2012-06-02</td>\n",
       "    </tr>\n",
       "    <tr>\n",
       "      <th>2</th>\n",
       "      <td>3</td>\n",
       "      <td>6</td>\n",
       "      <td>2012</td>\n",
       "      <td>26</td>\n",
       "      <td>82</td>\n",
       "      <td>22</td>\n",
       "      <td>13.1</td>\n",
       "      <td>47.1</td>\n",
       "      <td>2.5</td>\n",
       "      <td>7.1</td>\n",
       "      <td>0.3</td>\n",
       "      <td>2.7</td>\n",
       "      <td>0.1</td>\n",
       "      <td>not fire</td>\n",
       "      <td>1</td>\n",
       "      <td>2012-06-03</td>\n",
       "    </tr>\n",
       "    <tr>\n",
       "      <th>3</th>\n",
       "      <td>4</td>\n",
       "      <td>6</td>\n",
       "      <td>2012</td>\n",
       "      <td>25</td>\n",
       "      <td>89</td>\n",
       "      <td>13</td>\n",
       "      <td>2.5</td>\n",
       "      <td>28.6</td>\n",
       "      <td>1.3</td>\n",
       "      <td>6.9</td>\n",
       "      <td>0.0</td>\n",
       "      <td>1.7</td>\n",
       "      <td>0.0</td>\n",
       "      <td>not fire</td>\n",
       "      <td>1</td>\n",
       "      <td>2012-06-04</td>\n",
       "    </tr>\n",
       "    <tr>\n",
       "      <th>4</th>\n",
       "      <td>5</td>\n",
       "      <td>6</td>\n",
       "      <td>2012</td>\n",
       "      <td>27</td>\n",
       "      <td>77</td>\n",
       "      <td>16</td>\n",
       "      <td>0.0</td>\n",
       "      <td>64.8</td>\n",
       "      <td>3.0</td>\n",
       "      <td>14.2</td>\n",
       "      <td>1.2</td>\n",
       "      <td>3.9</td>\n",
       "      <td>0.5</td>\n",
       "      <td>not fire</td>\n",
       "      <td>1</td>\n",
       "      <td>2012-06-05</td>\n",
       "    </tr>\n",
       "  </tbody>\n",
       "</table>\n",
       "</div>"
      ],
      "text/plain": [
       "   day  month  year  Temperature  RH  Ws  Rain  FFMC  DMC    DC  ISI  BUI  \\\n",
       "0    1      6  2012           29  57  18   0.0  65.7  3.4   7.6  1.3  3.4   \n",
       "1    2      6  2012           29  61  13   1.3  64.4  4.1   7.6  1.0  3.9   \n",
       "2    3      6  2012           26  82  22  13.1  47.1  2.5   7.1  0.3  2.7   \n",
       "3    4      6  2012           25  89  13   2.5  28.6  1.3   6.9  0.0  1.7   \n",
       "4    5      6  2012           27  77  16   0.0  64.8  3.0  14.2  1.2  3.9   \n",
       "\n",
       "   FWI   Classes  Region        date  \n",
       "0  0.5  not fire       1  2012-06-01  \n",
       "1  0.4  not fire       1  2012-06-02  \n",
       "2  0.1  not fire       1  2012-06-03  \n",
       "3  0.0  not fire       1  2012-06-04  \n",
       "4  0.5  not fire       1  2012-06-05  "
      ]
     },
     "execution_count": 3,
     "metadata": {},
     "output_type": "execute_result"
    }
   ],
   "source": [
    "df.head()"
   ]
  },
  {
   "cell_type": "code",
   "execution_count": 4,
   "id": "89a8d4fb",
   "metadata": {},
   "outputs": [],
   "source": [
    "df=df.drop(\"date\",True)"
   ]
  },
  {
   "cell_type": "code",
   "execution_count": 5,
   "id": "c46c518e",
   "metadata": {},
   "outputs": [
    {
     "data": {
      "text/html": [
       "<div>\n",
       "<style scoped>\n",
       "    .dataframe tbody tr th:only-of-type {\n",
       "        vertical-align: middle;\n",
       "    }\n",
       "\n",
       "    .dataframe tbody tr th {\n",
       "        vertical-align: top;\n",
       "    }\n",
       "\n",
       "    .dataframe thead th {\n",
       "        text-align: right;\n",
       "    }\n",
       "</style>\n",
       "<table border=\"1\" class=\"dataframe\">\n",
       "  <thead>\n",
       "    <tr style=\"text-align: right;\">\n",
       "      <th></th>\n",
       "      <th>day</th>\n",
       "      <th>month</th>\n",
       "      <th>year</th>\n",
       "      <th>Temperature</th>\n",
       "      <th>RH</th>\n",
       "      <th>Ws</th>\n",
       "      <th>Rain</th>\n",
       "      <th>FFMC</th>\n",
       "      <th>DMC</th>\n",
       "      <th>DC</th>\n",
       "      <th>ISI</th>\n",
       "      <th>BUI</th>\n",
       "      <th>FWI</th>\n",
       "      <th>Region</th>\n",
       "    </tr>\n",
       "  </thead>\n",
       "  <tbody>\n",
       "    <tr>\n",
       "      <th>count</th>\n",
       "      <td>244.000000</td>\n",
       "      <td>244.000000</td>\n",
       "      <td>244.0</td>\n",
       "      <td>244.000000</td>\n",
       "      <td>244.000000</td>\n",
       "      <td>244.000000</td>\n",
       "      <td>244.000000</td>\n",
       "      <td>244.000000</td>\n",
       "      <td>244.000000</td>\n",
       "      <td>244.000000</td>\n",
       "      <td>244.000000</td>\n",
       "      <td>244.000000</td>\n",
       "      <td>243.000000</td>\n",
       "      <td>244.000000</td>\n",
       "    </tr>\n",
       "    <tr>\n",
       "      <th>mean</th>\n",
       "      <td>15.754098</td>\n",
       "      <td>7.500000</td>\n",
       "      <td>2012.0</td>\n",
       "      <td>32.172131</td>\n",
       "      <td>61.938525</td>\n",
       "      <td>15.504098</td>\n",
       "      <td>0.760656</td>\n",
       "      <td>77.887705</td>\n",
       "      <td>14.673361</td>\n",
       "      <td>49.288484</td>\n",
       "      <td>4.774180</td>\n",
       "      <td>16.664754</td>\n",
       "      <td>7.035391</td>\n",
       "      <td>0.500000</td>\n",
       "    </tr>\n",
       "    <tr>\n",
       "      <th>std</th>\n",
       "      <td>8.825059</td>\n",
       "      <td>1.112961</td>\n",
       "      <td>0.0</td>\n",
       "      <td>3.633843</td>\n",
       "      <td>14.884200</td>\n",
       "      <td>2.810178</td>\n",
       "      <td>1.999406</td>\n",
       "      <td>14.337571</td>\n",
       "      <td>12.368039</td>\n",
       "      <td>47.619393</td>\n",
       "      <td>4.175318</td>\n",
       "      <td>14.204824</td>\n",
       "      <td>7.440568</td>\n",
       "      <td>0.501028</td>\n",
       "    </tr>\n",
       "    <tr>\n",
       "      <th>min</th>\n",
       "      <td>1.000000</td>\n",
       "      <td>6.000000</td>\n",
       "      <td>2012.0</td>\n",
       "      <td>22.000000</td>\n",
       "      <td>21.000000</td>\n",
       "      <td>6.000000</td>\n",
       "      <td>0.000000</td>\n",
       "      <td>28.600000</td>\n",
       "      <td>0.700000</td>\n",
       "      <td>6.900000</td>\n",
       "      <td>0.000000</td>\n",
       "      <td>1.100000</td>\n",
       "      <td>0.000000</td>\n",
       "      <td>0.000000</td>\n",
       "    </tr>\n",
       "    <tr>\n",
       "      <th>25%</th>\n",
       "      <td>8.000000</td>\n",
       "      <td>7.000000</td>\n",
       "      <td>2012.0</td>\n",
       "      <td>30.000000</td>\n",
       "      <td>52.000000</td>\n",
       "      <td>14.000000</td>\n",
       "      <td>0.000000</td>\n",
       "      <td>72.075000</td>\n",
       "      <td>5.800000</td>\n",
       "      <td>13.275000</td>\n",
       "      <td>1.400000</td>\n",
       "      <td>6.000000</td>\n",
       "      <td>0.700000</td>\n",
       "      <td>0.000000</td>\n",
       "    </tr>\n",
       "    <tr>\n",
       "      <th>50%</th>\n",
       "      <td>16.000000</td>\n",
       "      <td>7.500000</td>\n",
       "      <td>2012.0</td>\n",
       "      <td>32.000000</td>\n",
       "      <td>63.000000</td>\n",
       "      <td>15.000000</td>\n",
       "      <td>0.000000</td>\n",
       "      <td>83.500000</td>\n",
       "      <td>11.300000</td>\n",
       "      <td>33.100000</td>\n",
       "      <td>3.500000</td>\n",
       "      <td>12.250000</td>\n",
       "      <td>4.200000</td>\n",
       "      <td>0.500000</td>\n",
       "    </tr>\n",
       "    <tr>\n",
       "      <th>75%</th>\n",
       "      <td>23.000000</td>\n",
       "      <td>8.000000</td>\n",
       "      <td>2012.0</td>\n",
       "      <td>35.000000</td>\n",
       "      <td>73.250000</td>\n",
       "      <td>17.000000</td>\n",
       "      <td>0.500000</td>\n",
       "      <td>88.300000</td>\n",
       "      <td>20.750000</td>\n",
       "      <td>68.150000</td>\n",
       "      <td>7.300000</td>\n",
       "      <td>22.525000</td>\n",
       "      <td>11.450000</td>\n",
       "      <td>1.000000</td>\n",
       "    </tr>\n",
       "    <tr>\n",
       "      <th>max</th>\n",
       "      <td>31.000000</td>\n",
       "      <td>9.000000</td>\n",
       "      <td>2012.0</td>\n",
       "      <td>42.000000</td>\n",
       "      <td>90.000000</td>\n",
       "      <td>29.000000</td>\n",
       "      <td>16.800000</td>\n",
       "      <td>96.000000</td>\n",
       "      <td>65.900000</td>\n",
       "      <td>220.400000</td>\n",
       "      <td>19.000000</td>\n",
       "      <td>68.000000</td>\n",
       "      <td>31.100000</td>\n",
       "      <td>1.000000</td>\n",
       "    </tr>\n",
       "  </tbody>\n",
       "</table>\n",
       "</div>"
      ],
      "text/plain": [
       "              day       month    year  Temperature          RH          Ws  \\\n",
       "count  244.000000  244.000000   244.0   244.000000  244.000000  244.000000   \n",
       "mean    15.754098    7.500000  2012.0    32.172131   61.938525   15.504098   \n",
       "std      8.825059    1.112961     0.0     3.633843   14.884200    2.810178   \n",
       "min      1.000000    6.000000  2012.0    22.000000   21.000000    6.000000   \n",
       "25%      8.000000    7.000000  2012.0    30.000000   52.000000   14.000000   \n",
       "50%     16.000000    7.500000  2012.0    32.000000   63.000000   15.000000   \n",
       "75%     23.000000    8.000000  2012.0    35.000000   73.250000   17.000000   \n",
       "max     31.000000    9.000000  2012.0    42.000000   90.000000   29.000000   \n",
       "\n",
       "             Rain        FFMC         DMC          DC         ISI         BUI  \\\n",
       "count  244.000000  244.000000  244.000000  244.000000  244.000000  244.000000   \n",
       "mean     0.760656   77.887705   14.673361   49.288484    4.774180   16.664754   \n",
       "std      1.999406   14.337571   12.368039   47.619393    4.175318   14.204824   \n",
       "min      0.000000   28.600000    0.700000    6.900000    0.000000    1.100000   \n",
       "25%      0.000000   72.075000    5.800000   13.275000    1.400000    6.000000   \n",
       "50%      0.000000   83.500000   11.300000   33.100000    3.500000   12.250000   \n",
       "75%      0.500000   88.300000   20.750000   68.150000    7.300000   22.525000   \n",
       "max     16.800000   96.000000   65.900000  220.400000   19.000000   68.000000   \n",
       "\n",
       "              FWI      Region  \n",
       "count  243.000000  244.000000  \n",
       "mean     7.035391    0.500000  \n",
       "std      7.440568    0.501028  \n",
       "min      0.000000    0.000000  \n",
       "25%      0.700000    0.000000  \n",
       "50%      4.200000    0.500000  \n",
       "75%     11.450000    1.000000  \n",
       "max     31.100000    1.000000  "
      ]
     },
     "execution_count": 5,
     "metadata": {},
     "output_type": "execute_result"
    }
   ],
   "source": [
    "df.describe()"
   ]
  },
  {
   "cell_type": "markdown",
   "id": "47c55d73",
   "metadata": {},
   "source": [
    "- FFMC --> large difference between the min value and 25% to max value\n",
    "- DMC,DC,BUI,rain  --> large difference between the min value -75% and max value\n",
    "\n",
    " so there are major  outliers present in these features"
   ]
  },
  {
   "cell_type": "code",
   "execution_count": 6,
   "id": "c9af86bf",
   "metadata": {},
   "outputs": [],
   "source": [
    "def plot_dist(col,df):\n",
    "    fig, (ax1, ax2) = plt.subplots(1, 2,figsize=(15, 5))\n",
    "    ax1 =sns.distplot(df[col],ax=ax1) \n",
    "    ax1.set_title(f'{col}') \n",
    "    ax1.set_xlabel(f'{col}') \n",
    "    ax2 = sns.boxplot(data = df, x=col,ax=ax2);\n",
    "    ax2.set_title(f'{col}') \n",
    "    ax2.set_xlabel(f'{col}')\n",
    "    plt.figure(figsize=(30, 15))\n",
    "    plt.show()"
   ]
  },
  {
   "cell_type": "markdown",
   "id": "6ddaca0a",
   "metadata": {},
   "source": [
    "- **with respect to FFMC**"
   ]
  },
  {
   "cell_type": "code",
   "execution_count": 7,
   "id": "a737e239",
   "metadata": {},
   "outputs": [
    {
     "data": {
      "image/png": "[encoded data removed]",
      "text/plain": [
       "<Figure size 1080x360 with 2 Axes>"
      ]
     },
     "metadata": {
      "needs_background": "light"
     },
     "output_type": "display_data"
    },
    {
     "data": {
      "text/plain": [
       "<Figure size 2160x1080 with 0 Axes>"
      ]
     },
     "metadata": {},
     "output_type": "display_data"
    }
   ],
   "source": [
    "plot_dist(\"FFMC\",df)"
   ]
  },
  {
   "cell_type": "code",
   "execution_count": 8,
   "id": "9fa95049",
   "metadata": {},
   "outputs": [],
   "source": [
    "#handeling the outliers with respect to FFMC "
   ]
  },
  {
   "cell_type": "code",
   "execution_count": 9,
   "id": "b35df25e",
   "metadata": {},
   "outputs": [],
   "source": [
    "# as in FFMC distriution is skewed we are using IQR method"
   ]
  },
  {
   "cell_type": "code",
   "execution_count": 10,
   "id": "38c31f54",
   "metadata": {},
   "outputs": [],
   "source": [
    "q1=df[\"FFMC\"].quantile(0.25)\n",
    "q3=df[\"FFMC\"].quantile(0.75)\n",
    "IQR=q3-q1\n",
    "lower_fence=q1-1.5*IQR\n",
    "upper_fence=q3+1.5*IQR"
   ]
  },
  {
   "cell_type": "code",
   "execution_count": 11,
   "id": "1d2db9ff",
   "metadata": {},
   "outputs": [
    {
     "data": {
      "text/plain": [
       "(47.73750000000001, 112.63749999999999)"
      ]
     },
     "execution_count": 11,
     "metadata": {},
     "output_type": "execute_result"
    }
   ],
   "source": [
    "lower_fence,upper_fence"
   ]
  },
  {
   "cell_type": "code",
   "execution_count": 12,
   "id": "b0e12636",
   "metadata": {},
   "outputs": [],
   "source": [
    "lower_extreme=q1-3*IQR\n",
    "upper_extreme=q3+3*IQR"
   ]
  },
  {
   "cell_type": "code",
   "execution_count": 13,
   "id": "70ea6563",
   "metadata": {},
   "outputs": [
    {
     "data": {
      "text/plain": [
       "(23.40000000000002, 136.97499999999997)"
      ]
     },
     "execution_count": 13,
     "metadata": {},
     "output_type": "execute_result"
    }
   ],
   "source": [
    "lower_extreme,upper_extreme"
   ]
  },
  {
   "cell_type": "code",
   "execution_count": 14,
   "id": "a82d629a",
   "metadata": {},
   "outputs": [
    {
     "data": {
      "text/plain": [
       "count    244.000000\n",
       "mean      77.887705\n",
       "std       14.337571\n",
       "min       28.600000\n",
       "25%       72.075000\n",
       "50%       83.500000\n",
       "75%       88.300000\n",
       "max       96.000000\n",
       "Name: FFMC, dtype: float64"
      ]
     },
     "execution_count": 14,
     "metadata": {},
     "output_type": "execute_result"
    }
   ],
   "source": [
    "df[\"FFMC\"].describe()"
   ]
  },
  {
   "cell_type": "code",
   "execution_count": 15,
   "id": "15d8aed6",
   "metadata": {},
   "outputs": [],
   "source": [
    "# theh upper range is not maching the max value .. we just need to remove outliers from lower side as  FFMC is left skewed"
   ]
  },
  {
   "cell_type": "code",
   "execution_count": 16,
   "id": "850e2695",
   "metadata": {},
   "outputs": [],
   "source": [
    "data=df.copy()\n",
    "# making a copy of the data"
   ]
  },
  {
   "cell_type": "code",
   "execution_count": 17,
   "id": "85e9080c",
   "metadata": {},
   "outputs": [],
   "source": [
    "data.loc[data[\"FFMC\"]<=lower_fence,\"FFMC\"]=lower_fence"
   ]
  },
  {
   "cell_type": "code",
   "execution_count": 18,
   "id": "a82d205e",
   "metadata": {},
   "outputs": [
    {
     "data": {
      "image/png": "[encoded data removed]",
      "text/plain": [
       "<Figure size 1080x360 with 2 Axes>"
      ]
     },
     "metadata": {
      "needs_background": "light"
     },
     "output_type": "display_data"
    },
    {
     "data": {
      "text/plain": [
       "<Figure size 2160x1080 with 0 Axes>"
      ]
     },
     "metadata": {},
     "output_type": "display_data"
    }
   ],
   "source": [
    "plot_dist(\"FFMC\",data)"
   ]
  },
  {
   "cell_type": "markdown",
   "id": "f6ceae8e",
   "metadata": {},
   "source": [
    "- outliers are handeled in FFMC features"
   ]
  },
  {
   "cell_type": "markdown",
   "id": "09fa8540",
   "metadata": {},
   "source": [
    "- **with respect to DMC**"
   ]
  },
  {
   "cell_type": "code",
   "execution_count": 19,
   "id": "b5111d31",
   "metadata": {},
   "outputs": [
    {
     "data": {
      "image/png": "[encoded data removed]",
      "text/plain": [
       "<Figure size 1080x360 with 2 Axes>"
      ]
     },
     "metadata": {
      "needs_background": "light"
     },
     "output_type": "display_data"
    },
    {
     "data": {
      "text/plain": [
       "<Figure size 2160x1080 with 0 Axes>"
      ]
     },
     "metadata": {},
     "output_type": "display_data"
    }
   ],
   "source": [
    "plot_dist(\"DMC\",df)"
   ]
  },
  {
   "cell_type": "code",
   "execution_count": 20,
   "id": "91cac363",
   "metadata": {},
   "outputs": [],
   "source": [
    "q1=df[\"DMC\"].quantile(0.25)\n",
    "q3=df[\"DMC\"].quantile(0.75)\n",
    "IQR=q3-q1\n",
    "lower_fence=q1-1.5*IQR\n",
    "upper_fence=q3+1.5*IQR"
   ]
  },
  {
   "cell_type": "code",
   "execution_count": 21,
   "id": "32500cfd",
   "metadata": {},
   "outputs": [
    {
     "data": {
      "text/plain": [
       "(-16.624999999999996, 43.175)"
      ]
     },
     "execution_count": 21,
     "metadata": {},
     "output_type": "execute_result"
    }
   ],
   "source": [
    "lower_fence,upper_fence"
   ]
  },
  {
   "cell_type": "code",
   "execution_count": 22,
   "id": "cbd17649",
   "metadata": {},
   "outputs": [],
   "source": [
    "lower_extreme=q1-3*IQR\n",
    "upper_extreme=q3+3*IQR"
   ]
  },
  {
   "cell_type": "code",
   "execution_count": 23,
   "id": "20a93244",
   "metadata": {},
   "outputs": [
    {
     "data": {
      "text/plain": [
       "(-39.05, 65.6)"
      ]
     },
     "execution_count": 23,
     "metadata": {},
     "output_type": "execute_result"
    }
   ],
   "source": [
    "# extreme outliers\n",
    "lower_extreme,upper_extreme"
   ]
  },
  {
   "cell_type": "code",
   "execution_count": 24,
   "id": "8cbd946d",
   "metadata": {},
   "outputs": [
    {
     "data": {
      "text/plain": [
       "count    244.000000\n",
       "mean      14.673361\n",
       "std       12.368039\n",
       "min        0.700000\n",
       "25%        5.800000\n",
       "50%       11.300000\n",
       "75%       20.750000\n",
       "max       65.900000\n",
       "Name: DMC, dtype: float64"
      ]
     },
     "execution_count": 24,
     "metadata": {},
     "output_type": "execute_result"
    }
   ],
   "source": [
    "df[\"DMC\"].describe()"
   ]
  },
  {
   "cell_type": "code",
   "execution_count": 25,
   "id": "52fefdf6",
   "metadata": {},
   "outputs": [],
   "source": [
    "data.loc[data[\"DMC\"]>=upper_fence,\"DMC\"]=upper_fence"
   ]
  },
  {
   "cell_type": "code",
   "execution_count": 26,
   "id": "a648e904",
   "metadata": {},
   "outputs": [
    {
     "data": {
      "image/png": "[encoded data removed]",
      "text/plain": [
       "<Figure size 1080x360 with 2 Axes>"
      ]
     },
     "metadata": {
      "needs_background": "light"
     },
     "output_type": "display_data"
    },
    {
     "data": {
      "text/plain": [
       "<Figure size 2160x1080 with 0 Axes>"
      ]
     },
     "metadata": {},
     "output_type": "display_data"
    }
   ],
   "source": [
    "plot_dist(\"DMC\",data)"
   ]
  },
  {
   "cell_type": "markdown",
   "id": "1e674f83",
   "metadata": {},
   "source": [
    "- **with respect to DC**"
   ]
  },
  {
   "cell_type": "code",
   "execution_count": 27,
   "id": "22b43188",
   "metadata": {},
   "outputs": [
    {
     "data": {
      "image/png": "[encoded data removed]",
      "text/plain": [
       "<Figure size 1080x360 with 2 Axes>"
      ]
     },
     "metadata": {
      "needs_background": "light"
     },
     "output_type": "display_data"
    },
    {
     "data": {
      "text/plain": [
       "<Figure size 2160x1080 with 0 Axes>"
      ]
     },
     "metadata": {},
     "output_type": "display_data"
    }
   ],
   "source": [
    "plot_dist(\"DC\",df)"
   ]
  },
  {
   "cell_type": "code",
   "execution_count": 28,
   "id": "08f568a4",
   "metadata": {},
   "outputs": [],
   "source": [
    "q1=df[\"DC\"].quantile(0.25)\n",
    "q3=df[\"DC\"].quantile(0.75)\n",
    "IQR=q3-q1\n",
    "lower_fence=q1-1.5*IQR\n",
    "upper_fence=q3+1.5*IQR"
   ]
  },
  {
   "cell_type": "code",
   "execution_count": 29,
   "id": "8c509a07",
   "metadata": {},
   "outputs": [
    {
     "data": {
      "text/plain": [
       "(-69.03750000000002, 150.46250000000003)"
      ]
     },
     "execution_count": 29,
     "metadata": {},
     "output_type": "execute_result"
    }
   ],
   "source": [
    "lower_fence,upper_fence"
   ]
  },
  {
   "cell_type": "code",
   "execution_count": 30,
   "id": "d01d0210",
   "metadata": {},
   "outputs": [],
   "source": [
    "lower_extreme=q1-3*IQR\n",
    "upper_extreme=q3+3*IQR"
   ]
  },
  {
   "cell_type": "code",
   "execution_count": 31,
   "id": "83c618e8",
   "metadata": {},
   "outputs": [
    {
     "data": {
      "text/plain": [
       "(-151.35000000000002, 232.77500000000003)"
      ]
     },
     "execution_count": 31,
     "metadata": {},
     "output_type": "execute_result"
    }
   ],
   "source": [
    "# extreme values \n",
    "lower_extreme,upper_extreme"
   ]
  },
  {
   "cell_type": "code",
   "execution_count": 32,
   "id": "aa456193",
   "metadata": {},
   "outputs": [
    {
     "data": {
      "text/plain": [
       "count    244.000000\n",
       "mean      49.288484\n",
       "std       47.619393\n",
       "min        6.900000\n",
       "25%       13.275000\n",
       "50%       33.100000\n",
       "75%       68.150000\n",
       "max      220.400000\n",
       "Name: DC, dtype: float64"
      ]
     },
     "execution_count": 32,
     "metadata": {},
     "output_type": "execute_result"
    }
   ],
   "source": [
    "df[\"DC\"].describe()"
   ]
  },
  {
   "cell_type": "code",
   "execution_count": 33,
   "id": "bc79582f",
   "metadata": {},
   "outputs": [],
   "source": [
    "data.loc[data[\"DC\"]>=upper_fence,\"DC\"]=upper_fence"
   ]
  },
  {
   "cell_type": "code",
   "execution_count": 34,
   "id": "aa2e7513",
   "metadata": {},
   "outputs": [
    {
     "data": {
      "image/png": "[encoded data removed]",
      "text/plain": [
       "<Figure size 1080x360 with 2 Axes>"
      ]
     },
     "metadata": {
      "needs_background": "light"
     },
     "output_type": "display_data"
    },
    {
     "data": {
      "text/plain": [
       "<Figure size 2160x1080 with 0 Axes>"
      ]
     },
     "metadata": {},
     "output_type": "display_data"
    }
   ],
   "source": [
    "plot_dist(\"DC\",data)"
   ]
  },
  {
   "cell_type": "markdown",
   "id": "1e96d1fc",
   "metadata": {},
   "source": [
    "- **with respect to BUI**"
   ]
  },
  {
   "cell_type": "code",
   "execution_count": 35,
   "id": "27ff38c5",
   "metadata": {},
   "outputs": [
    {
     "data": {
      "image/png": "[encoded data removed]",
      "text/plain": [
       "<Figure size 1080x360 with 2 Axes>"
      ]
     },
     "metadata": {
      "needs_background": "light"
     },
     "output_type": "display_data"
    },
    {
     "data": {
      "text/plain": [
       "<Figure size 2160x1080 with 0 Axes>"
      ]
     },
     "metadata": {},
     "output_type": "display_data"
    }
   ],
   "source": [
    "plot_dist(\"BUI\",df)"
   ]
  },
  {
   "cell_type": "code",
   "execution_count": 36,
   "id": "c294a32d",
   "metadata": {},
   "outputs": [],
   "source": [
    "q1=df[\"BUI\"].quantile(0.25)\n",
    "q3=df[\"BUI\"].quantile(0.75)\n",
    "IQR=q3-q1\n",
    "lower_fence=q1-1.5*IQR\n",
    "upper_fence=q3+1.5*IQR"
   ]
  },
  {
   "cell_type": "code",
   "execution_count": 37,
   "id": "6755c1d4",
   "metadata": {},
   "outputs": [
    {
     "data": {
      "text/plain": [
       "(-18.787499999999998, 47.3125)"
      ]
     },
     "execution_count": 37,
     "metadata": {},
     "output_type": "execute_result"
    }
   ],
   "source": [
    "lower_fence,upper_fence"
   ]
  },
  {
   "cell_type": "code",
   "execution_count": 38,
   "id": "046d609b",
   "metadata": {},
   "outputs": [],
   "source": [
    "lower_extreme=q1-3*IQR\n",
    "upper_extreme=q3+3*IQR"
   ]
  },
  {
   "cell_type": "code",
   "execution_count": 39,
   "id": "8e94f7f0",
   "metadata": {},
   "outputs": [
    {
     "data": {
      "text/plain": [
       "(-43.574999999999996, 72.1)"
      ]
     },
     "execution_count": 39,
     "metadata": {},
     "output_type": "execute_result"
    }
   ],
   "source": [
    "# extreme values \n",
    "lower_extreme,upper_extreme"
   ]
  },
  {
   "cell_type": "code",
   "execution_count": 40,
   "id": "dfa36a9b",
   "metadata": {},
   "outputs": [
    {
     "data": {
      "text/plain": [
       "count    244.000000\n",
       "mean      16.664754\n",
       "std       14.204824\n",
       "min        1.100000\n",
       "25%        6.000000\n",
       "50%       12.250000\n",
       "75%       22.525000\n",
       "max       68.000000\n",
       "Name: BUI, dtype: float64"
      ]
     },
     "execution_count": 40,
     "metadata": {},
     "output_type": "execute_result"
    }
   ],
   "source": [
    "df[\"BUI\"].describe()"
   ]
  },
  {
   "cell_type": "code",
   "execution_count": 41,
   "id": "fd53cf1b",
   "metadata": {},
   "outputs": [],
   "source": [
    "data.loc[data[\"BUI\"]>=upper_fence,\"BUI\"]=upper_fence"
   ]
  },
  {
   "cell_type": "code",
   "execution_count": 42,
   "id": "bbe88507",
   "metadata": {},
   "outputs": [
    {
     "data": {
      "image/png": "[encoded data removed]",
      "text/plain": [
       "<Figure size 1080x360 with 2 Axes>"
      ]
     },
     "metadata": {
      "needs_background": "light"
     },
     "output_type": "display_data"
    },
    {
     "data": {
      "text/plain": [
       "<Figure size 2160x1080 with 0 Axes>"
      ]
     },
     "metadata": {},
     "output_type": "display_data"
    }
   ],
   "source": [
    "plot_dist(\"BUI\",data)"
   ]
  },
  {
   "cell_type": "markdown",
   "id": "638e6ca3",
   "metadata": {},
   "source": [
    "- **with respect to Rain**"
   ]
  },
  {
   "cell_type": "code",
   "execution_count": 43,
   "id": "58712748",
   "metadata": {},
   "outputs": [
    {
     "data": {
      "image/png": "[encoded data removed]",
      "text/plain": [
       "<Figure size 1080x360 with 2 Axes>"
      ]
     },
     "metadata": {
      "needs_background": "light"
     },
     "output_type": "display_data"
    },
    {
     "data": {
      "text/plain": [
       "<Figure size 2160x1080 with 0 Axes>"
      ]
     },
     "metadata": {},
     "output_type": "display_data"
    }
   ],
   "source": [
    "plot_dist(\"Rain\",df)"
   ]
  },
  {
   "cell_type": "code",
   "execution_count": 44,
   "id": "fc68b66b",
   "metadata": {},
   "outputs": [],
   "source": [
    "q1=df[\"Rain\"].quantile(0.25)\n",
    "q3=df[\"Rain\"].quantile(0.75)\n",
    "IQR=q3-q1\n",
    "lower_fence=q1-1.5*IQR\n",
    "upper_fence=q3+1.5*IQR"
   ]
  },
  {
   "cell_type": "code",
   "execution_count": 45,
   "id": "14a45ff9",
   "metadata": {},
   "outputs": [
    {
     "data": {
      "text/plain": [
       "(-0.75, 1.25)"
      ]
     },
     "execution_count": 45,
     "metadata": {},
     "output_type": "execute_result"
    }
   ],
   "source": [
    "lower_fence,upper_fence"
   ]
  },
  {
   "cell_type": "code",
   "execution_count": 46,
   "id": "3de985fa",
   "metadata": {},
   "outputs": [],
   "source": [
    "lower_extreme=q1-3*IQR\n",
    "upper_extreme=q3+3*IQR"
   ]
  },
  {
   "cell_type": "code",
   "execution_count": 47,
   "id": "4c3d043b",
   "metadata": {},
   "outputs": [
    {
     "data": {
      "text/plain": [
       "(-1.5, 2.0)"
      ]
     },
     "execution_count": 47,
     "metadata": {},
     "output_type": "execute_result"
    }
   ],
   "source": [
    "# extreme values \n",
    "lower_extreme,upper_extreme"
   ]
  },
  {
   "cell_type": "code",
   "execution_count": 48,
   "id": "fc019e6a",
   "metadata": {},
   "outputs": [
    {
     "data": {
      "text/plain": [
       "count    244.000000\n",
       "mean       0.760656\n",
       "std        1.999406\n",
       "min        0.000000\n",
       "25%        0.000000\n",
       "50%        0.000000\n",
       "75%        0.500000\n",
       "max       16.800000\n",
       "Name: Rain, dtype: float64"
      ]
     },
     "execution_count": 48,
     "metadata": {},
     "output_type": "execute_result"
    }
   ],
   "source": [
    "df[\"Rain\"].describe()"
   ]
  },
  {
   "cell_type": "code",
   "execution_count": 49,
   "id": "9af8e5eb",
   "metadata": {},
   "outputs": [],
   "source": [
    "data.loc[data[\"Rain\"]>=upper_extreme,\"Rain\"]=upper_extreme"
   ]
  },
  {
   "cell_type": "code",
   "execution_count": 50,
   "id": "50e99123",
   "metadata": {},
   "outputs": [
    {
     "data": {
      "image/png": "[encoded data removed]",
      "text/plain": [
       "<Figure size 1080x360 with 2 Axes>"
      ]
     },
     "metadata": {
      "needs_background": "light"
     },
     "output_type": "display_data"
    },
    {
     "data": {
      "text/plain": [
       "<Figure size 2160x1080 with 0 Axes>"
      ]
     },
     "metadata": {},
     "output_type": "display_data"
    }
   ],
   "source": [
    "plot_dist(\"Rain\",data)"
   ]
  },
  {
   "cell_type": "markdown",
   "id": "e7c7951e",
   "metadata": {},
   "source": [
    "- **handling null values**"
   ]
  },
  {
   "cell_type": "code",
   "execution_count": 51,
   "id": "73c01504",
   "metadata": {},
   "outputs": [
    {
     "data": {
      "text/plain": [
       "day            0\n",
       "month          0\n",
       "year           0\n",
       "Temperature    0\n",
       "RH             0\n",
       "Ws             0\n",
       "Rain           0\n",
       "FFMC           0\n",
       "DMC            0\n",
       "DC             0\n",
       "ISI            0\n",
       "BUI            0\n",
       "FWI            1\n",
       "Classes        1\n",
       "Region         0\n",
       "dtype: int64"
      ]
     },
     "execution_count": 51,
     "metadata": {},
     "output_type": "execute_result"
    }
   ],
   "source": [
    "df.isna().sum()"
   ]
  },
  {
   "cell_type": "markdown",
   "id": "8dc5e29c",
   "metadata": {},
   "source": [
    "# using data without handeling outliers"
   ]
  },
  {
   "cell_type": "markdown",
   "id": "dd778dc2",
   "metadata": {},
   "source": [
    "#### spliting the data before performing any operation"
   ]
  },
  {
   "cell_type": "code",
   "execution_count": 52,
   "id": "7126cfec",
   "metadata": {},
   "outputs": [],
   "source": [
    "from sklearn.model_selection import StratifiedShuffleSplit"
   ]
  },
  {
   "cell_type": "markdown",
   "id": "7b9e73fd",
   "metadata": {},
   "source": [
    "##### spliting the data based on the region"
   ]
  },
  {
   "cell_type": "code",
   "execution_count": 53,
   "id": "f3ae1ef9",
   "metadata": {},
   "outputs": [],
   "source": [
    "split=StratifiedShuffleSplit(n_splits=1,test_size=0.2,random_state=42)\n",
    "for train_index,test_index in split.split(df,df[\"Region\"]):\n",
    "    strat_train_set=df.loc[train_index]\n",
    "    strat_test_set=df.loc[test_index]"
   ]
  },
  {
   "cell_type": "code",
   "execution_count": 54,
   "id": "e818938d",
   "metadata": {},
   "outputs": [
    {
     "data": {
      "text/plain": [
       "1    98\n",
       "0    97\n",
       "Name: Region, dtype: int64"
      ]
     },
     "execution_count": 54,
     "metadata": {},
     "output_type": "execute_result"
    }
   ],
   "source": [
    "strat_train_set[\"Region\"].value_counts()"
   ]
  },
  {
   "cell_type": "code",
   "execution_count": 55,
   "id": "6b7facf0",
   "metadata": {},
   "outputs": [
    {
     "data": {
      "text/plain": [
       "0    25\n",
       "1    24\n",
       "Name: Region, dtype: int64"
      ]
     },
     "execution_count": 55,
     "metadata": {},
     "output_type": "execute_result"
    }
   ],
   "source": [
    "strat_test_set[\"Region\"].value_counts()"
   ]
  },
  {
   "cell_type": "code",
   "execution_count": 56,
   "id": "8e2be194",
   "metadata": {},
   "outputs": [],
   "source": [
    "x_train=strat_train_set.drop(\"Temperature\",axis=1)"
   ]
  },
  {
   "cell_type": "code",
   "execution_count": 57,
   "id": "c56de906",
   "metadata": {},
   "outputs": [],
   "source": [
    "y_train=strat_train_set[\"Temperature\"]"
   ]
  },
  {
   "cell_type": "code",
   "execution_count": 58,
   "id": "0caa9cbd",
   "metadata": {},
   "outputs": [],
   "source": [
    "x_test=strat_test_set.drop(\"Temperature\",axis=1)"
   ]
  },
  {
   "cell_type": "code",
   "execution_count": 59,
   "id": "984579f2",
   "metadata": {},
   "outputs": [],
   "source": [
    "y_test=strat_test_set[\"Temperature\"]"
   ]
  },
  {
   "cell_type": "markdown",
   "id": "b0322818",
   "metadata": {},
   "source": [
    "### handeling null values in FWI (continious) and  in Region (discrete)"
   ]
  },
  {
   "cell_type": "code",
   "execution_count": 60,
   "id": "4ec3aa61",
   "metadata": {},
   "outputs": [],
   "source": [
    "# for FWI   we are using median  to handel the null values\n",
    "# for Region  we are filling the null values with the mode\n",
    "median_FWI=x_train[\"FWI\"].median()\n",
    "mode_classes=str(x_train[\"Classes\"].mode().values[0])"
   ]
  },
  {
   "cell_type": "code",
   "execution_count": 61,
   "id": "9c68692f",
   "metadata": {},
   "outputs": [
    {
     "data": {
      "text/plain": [
       "(4.45, 'fire')"
      ]
     },
     "execution_count": 61,
     "metadata": {},
     "output_type": "execute_result"
    }
   ],
   "source": [
    "median_FWI,mode_classes"
   ]
  },
  {
   "cell_type": "code",
   "execution_count": 62,
   "id": "4b3fef63",
   "metadata": {},
   "outputs": [],
   "source": [
    "x_train[\"FWI\"].fillna(median_FWI,inplace=True)\n",
    "x_train[\"Classes\"].fillna(mode_classes,inplace=True)"
   ]
  },
  {
   "cell_type": "code",
   "execution_count": 63,
   "id": "40ce2d85",
   "metadata": {},
   "outputs": [],
   "source": [
    "x_test[\"FWI\"].fillna(median_FWI,inplace=True)\n",
    "x_test[\"Classes\"].fillna(mode_classes,inplace=True)"
   ]
  },
  {
   "cell_type": "markdown",
   "id": "0336a5b3",
   "metadata": {},
   "source": [
    "### encoding the categorical data"
   ]
  },
  {
   "cell_type": "markdown",
   "id": "44c7382e",
   "metadata": {},
   "source": [
    "##### with respect to classes we are dealing with nominal data with two categories .. so we are going to use one hot encoding"
   ]
  },
  {
   "cell_type": "code",
   "execution_count": 64,
   "id": "0f7238e0",
   "metadata": {},
   "outputs": [
    {
     "data": {
      "text/html": [
       "<div>\n",
       "<style scoped>\n",
       "    .dataframe tbody tr th:only-of-type {\n",
       "        vertical-align: middle;\n",
       "    }\n",
       "\n",
       "    .dataframe tbody tr th {\n",
       "        vertical-align: top;\n",
       "    }\n",
       "\n",
       "    .dataframe thead th {\n",
       "        text-align: right;\n",
       "    }\n",
       "</style>\n",
       "<table border=\"1\" class=\"dataframe\">\n",
       "  <thead>\n",
       "    <tr style=\"text-align: right;\">\n",
       "      <th></th>\n",
       "      <th>day</th>\n",
       "      <th>month</th>\n",
       "      <th>year</th>\n",
       "      <th>RH</th>\n",
       "      <th>Ws</th>\n",
       "      <th>Rain</th>\n",
       "      <th>FFMC</th>\n",
       "      <th>DMC</th>\n",
       "      <th>DC</th>\n",
       "      <th>ISI</th>\n",
       "      <th>BUI</th>\n",
       "      <th>FWI</th>\n",
       "      <th>Classes</th>\n",
       "      <th>Region</th>\n",
       "    </tr>\n",
       "  </thead>\n",
       "  <tbody>\n",
       "    <tr>\n",
       "      <th>115</th>\n",
       "      <td>24</td>\n",
       "      <td>9</td>\n",
       "      <td>2012</td>\n",
       "      <td>65</td>\n",
       "      <td>19</td>\n",
       "      <td>0.6</td>\n",
       "      <td>68.3</td>\n",
       "      <td>5.5</td>\n",
       "      <td>15.2</td>\n",
       "      <td>1.5</td>\n",
       "      <td>5.8</td>\n",
       "      <td>0.7</td>\n",
       "      <td>not fire</td>\n",
       "      <td>1</td>\n",
       "    </tr>\n",
       "    <tr>\n",
       "      <th>207</th>\n",
       "      <td>25</td>\n",
       "      <td>8</td>\n",
       "      <td>2012</td>\n",
       "      <td>40</td>\n",
       "      <td>18</td>\n",
       "      <td>0.0</td>\n",
       "      <td>92.1</td>\n",
       "      <td>56.3</td>\n",
       "      <td>157.5</td>\n",
       "      <td>14.3</td>\n",
       "      <td>59.5</td>\n",
       "      <td>31.1</td>\n",
       "      <td>fire</td>\n",
       "      <td>0</td>\n",
       "    </tr>\n",
       "    <tr>\n",
       "      <th>28</th>\n",
       "      <td>29</td>\n",
       "      <td>6</td>\n",
       "      <td>2012</td>\n",
       "      <td>47</td>\n",
       "      <td>13</td>\n",
       "      <td>0.3</td>\n",
       "      <td>79.9</td>\n",
       "      <td>18.4</td>\n",
       "      <td>84.4</td>\n",
       "      <td>2.2</td>\n",
       "      <td>23.8</td>\n",
       "      <td>3.9</td>\n",
       "      <td>not fire</td>\n",
       "      <td>1</td>\n",
       "    </tr>\n",
       "    <tr>\n",
       "      <th>134</th>\n",
       "      <td>13</td>\n",
       "      <td>6</td>\n",
       "      <td>2012</td>\n",
       "      <td>52</td>\n",
       "      <td>15</td>\n",
       "      <td>2.0</td>\n",
       "      <td>72.3</td>\n",
       "      <td>11.4</td>\n",
       "      <td>7.8</td>\n",
       "      <td>1.4</td>\n",
       "      <td>10.9</td>\n",
       "      <td>0.9</td>\n",
       "      <td>not fire</td>\n",
       "      <td>0</td>\n",
       "    </tr>\n",
       "    <tr>\n",
       "      <th>20</th>\n",
       "      <td>21</td>\n",
       "      <td>6</td>\n",
       "      <td>2012</td>\n",
       "      <td>78</td>\n",
       "      <td>14</td>\n",
       "      <td>0.0</td>\n",
       "      <td>81.0</td>\n",
       "      <td>6.3</td>\n",
       "      <td>31.6</td>\n",
       "      <td>2.6</td>\n",
       "      <td>8.4</td>\n",
       "      <td>2.2</td>\n",
       "      <td>fire</td>\n",
       "      <td>1</td>\n",
       "    </tr>\n",
       "  </tbody>\n",
       "</table>\n",
       "</div>"
      ],
      "text/plain": [
       "     day  month  year  RH  Ws  Rain  FFMC   DMC     DC   ISI   BUI   FWI  \\\n",
       "115   24      9  2012  65  19   0.6  68.3   5.5   15.2   1.5   5.8   0.7   \n",
       "207   25      8  2012  40  18   0.0  92.1  56.3  157.5  14.3  59.5  31.1   \n",
       "28    29      6  2012  47  13   0.3  79.9  18.4   84.4   2.2  23.8   3.9   \n",
       "134   13      6  2012  52  15   2.0  72.3  11.4    7.8   1.4  10.9   0.9   \n",
       "20    21      6  2012  78  14   0.0  81.0   6.3   31.6   2.6   8.4   2.2   \n",
       "\n",
       "      Classes  Region  \n",
       "115  not fire       1  \n",
       "207      fire       0  \n",
       "28   not fire       1  \n",
       "134  not fire       0  \n",
       "20       fire       1  "
      ]
     },
     "execution_count": 64,
     "metadata": {},
     "output_type": "execute_result"
    }
   ],
   "source": [
    "x_train.head()"
   ]
  },
  {
   "cell_type": "code",
   "execution_count": 65,
   "id": "4d6f1988",
   "metadata": {},
   "outputs": [],
   "source": [
    "x_train[\"Classes\"]=pd.get_dummies(x_train[\"Classes\"],drop_first=True)\n",
    "x_test[\"Classes\"]=pd.get_dummies(x_test[\"Classes\"],drop_first=True)"
   ]
  },
  {
   "cell_type": "code",
   "execution_count": 66,
   "id": "04d16fff",
   "metadata": {},
   "outputs": [
    {
     "data": {
      "text/html": [
       "<div>\n",
       "<style scoped>\n",
       "    .dataframe tbody tr th:only-of-type {\n",
       "        vertical-align: middle;\n",
       "    }\n",
       "\n",
       "    .dataframe tbody tr th {\n",
       "        vertical-align: top;\n",
       "    }\n",
       "\n",
       "    .dataframe thead th {\n",
       "        text-align: right;\n",
       "    }\n",
       "</style>\n",
       "<table border=\"1\" class=\"dataframe\">\n",
       "  <thead>\n",
       "    <tr style=\"text-align: right;\">\n",
       "      <th></th>\n",
       "      <th>day</th>\n",
       "      <th>month</th>\n",
       "      <th>year</th>\n",
       "      <th>RH</th>\n",
       "      <th>Ws</th>\n",
       "      <th>Rain</th>\n",
       "      <th>FFMC</th>\n",
       "      <th>DMC</th>\n",
       "      <th>DC</th>\n",
       "      <th>ISI</th>\n",
       "      <th>BUI</th>\n",
       "      <th>FWI</th>\n",
       "      <th>Classes</th>\n",
       "      <th>Region</th>\n",
       "    </tr>\n",
       "  </thead>\n",
       "  <tbody>\n",
       "    <tr>\n",
       "      <th>115</th>\n",
       "      <td>24</td>\n",
       "      <td>9</td>\n",
       "      <td>2012</td>\n",
       "      <td>65</td>\n",
       "      <td>19</td>\n",
       "      <td>0.6</td>\n",
       "      <td>68.3</td>\n",
       "      <td>5.5</td>\n",
       "      <td>15.2</td>\n",
       "      <td>1.5</td>\n",
       "      <td>5.8</td>\n",
       "      <td>0.7</td>\n",
       "      <td>1</td>\n",
       "      <td>1</td>\n",
       "    </tr>\n",
       "    <tr>\n",
       "      <th>207</th>\n",
       "      <td>25</td>\n",
       "      <td>8</td>\n",
       "      <td>2012</td>\n",
       "      <td>40</td>\n",
       "      <td>18</td>\n",
       "      <td>0.0</td>\n",
       "      <td>92.1</td>\n",
       "      <td>56.3</td>\n",
       "      <td>157.5</td>\n",
       "      <td>14.3</td>\n",
       "      <td>59.5</td>\n",
       "      <td>31.1</td>\n",
       "      <td>0</td>\n",
       "      <td>0</td>\n",
       "    </tr>\n",
       "    <tr>\n",
       "      <th>28</th>\n",
       "      <td>29</td>\n",
       "      <td>6</td>\n",
       "      <td>2012</td>\n",
       "      <td>47</td>\n",
       "      <td>13</td>\n",
       "      <td>0.3</td>\n",
       "      <td>79.9</td>\n",
       "      <td>18.4</td>\n",
       "      <td>84.4</td>\n",
       "      <td>2.2</td>\n",
       "      <td>23.8</td>\n",
       "      <td>3.9</td>\n",
       "      <td>1</td>\n",
       "      <td>1</td>\n",
       "    </tr>\n",
       "    <tr>\n",
       "      <th>134</th>\n",
       "      <td>13</td>\n",
       "      <td>6</td>\n",
       "      <td>2012</td>\n",
       "      <td>52</td>\n",
       "      <td>15</td>\n",
       "      <td>2.0</td>\n",
       "      <td>72.3</td>\n",
       "      <td>11.4</td>\n",
       "      <td>7.8</td>\n",
       "      <td>1.4</td>\n",
       "      <td>10.9</td>\n",
       "      <td>0.9</td>\n",
       "      <td>1</td>\n",
       "      <td>0</td>\n",
       "    </tr>\n",
       "    <tr>\n",
       "      <th>20</th>\n",
       "      <td>21</td>\n",
       "      <td>6</td>\n",
       "      <td>2012</td>\n",
       "      <td>78</td>\n",
       "      <td>14</td>\n",
       "      <td>0.0</td>\n",
       "      <td>81.0</td>\n",
       "      <td>6.3</td>\n",
       "      <td>31.6</td>\n",
       "      <td>2.6</td>\n",
       "      <td>8.4</td>\n",
       "      <td>2.2</td>\n",
       "      <td>0</td>\n",
       "      <td>1</td>\n",
       "    </tr>\n",
       "  </tbody>\n",
       "</table>\n",
       "</div>"
      ],
      "text/plain": [
       "     day  month  year  RH  Ws  Rain  FFMC   DMC     DC   ISI   BUI   FWI  \\\n",
       "115   24      9  2012  65  19   0.6  68.3   5.5   15.2   1.5   5.8   0.7   \n",
       "207   25      8  2012  40  18   0.0  92.1  56.3  157.5  14.3  59.5  31.1   \n",
       "28    29      6  2012  47  13   0.3  79.9  18.4   84.4   2.2  23.8   3.9   \n",
       "134   13      6  2012  52  15   2.0  72.3  11.4    7.8   1.4  10.9   0.9   \n",
       "20    21      6  2012  78  14   0.0  81.0   6.3   31.6   2.6   8.4   2.2   \n",
       "\n",
       "     Classes  Region  \n",
       "115        1       1  \n",
       "207        0       0  \n",
       "28         1       1  \n",
       "134        1       0  \n",
       "20         0       1  "
      ]
     },
     "execution_count": 66,
     "metadata": {},
     "output_type": "execute_result"
    }
   ],
   "source": [
    "x_train.head()"
   ]
  },
  {
   "cell_type": "markdown",
   "id": "d09bb8a8",
   "metadata": {},
   "source": [
    "### Feature selection"
   ]
  },
  {
   "cell_type": "markdown",
   "id": "d2214ba1",
   "metadata": {},
   "source": [
    "##### Drop Constant Features Using Variance Threshold"
   ]
  },
  {
   "cell_type": "code",
   "execution_count": 67,
   "id": "a7d80fdf",
   "metadata": {},
   "outputs": [
    {
     "data": {
      "text/html": [
       "<style>#sk-container-id-1 {color: black;background-color: white;}#sk-container-id-1 pre{padding: 0;}#sk-container-id-1 div.sk-toggleable {background-color: white;}#sk-container-id-1 label.sk-toggleable__label {cursor: pointer;display: block;width: 100%;margin-bottom: 0;padding: 0.3em;box-sizing: border-box;text-align: center;}#sk-container-id-1 label.sk-toggleable__label-arrow:before {content: \"▸\";float: left;margin-right: 0.25em;color: #696969;}#sk-container-id-1 label.sk-toggleable__label-arrow:hover:before {color: black;}#sk-container-id-1 div.sk-estimator:hover label.sk-toggleable__label-arrow:before {color: black;}#sk-container-id-1 div.sk-toggleable__content {max-height: 0;max-width: 0;overflow: hidden;text-align: left;background-color: #f0f8ff;}#sk-container-id-1 div.sk-toggleable__content pre {margin: 0.2em;color: black;border-radius: 0.25em;background-color: #f0f8ff;}#sk-container-id-1 input.sk-toggleable__control:checked~div.sk-toggleable__content {max-height: 200px;max-width: 100%;overflow: auto;}#sk-container-id-1 input.sk-toggleable__control:checked~label.sk-toggleable__label-arrow:before {content: \"▾\";}#sk-container-id-1 div.sk-estimator input.sk-toggleable__control:checked~label.sk-toggleable__label {background-color: #d4ebff;}#sk-container-id-1 div.sk-label input.sk-toggleable__control:checked~label.sk-toggleable__label {background-color: #d4ebff;}#sk-container-id-1 input.sk-hidden--visually {border: 0;clip: rect(1px 1px 1px 1px);clip: rect(1px, 1px, 1px, 1px);height: 1px;margin: -1px;overflow: hidden;padding: 0;position: absolute;width: 1px;}#sk-container-id-1 div.sk-estimator {font-family: monospace;background-color: #f0f8ff;border: 1px dotted black;border-radius: 0.25em;box-sizing: border-box;margin-bottom: 0.5em;}#sk-container-id-1 div.sk-estimator:hover {background-color: #d4ebff;}#sk-container-id-1 div.sk-parallel-item::after {content: \"\";width: 100%;border-bottom: 1px solid gray;flex-grow: 1;}#sk-container-id-1 div.sk-label:hover label.sk-toggleable__label {background-color: #d4ebff;}#sk-container-id-1 div.sk-serial::before {content: \"\";position: absolute;border-left: 1px solid gray;box-sizing: border-box;top: 0;bottom: 0;left: 50%;z-index: 0;}#sk-container-id-1 div.sk-serial {display: flex;flex-direction: column;align-items: center;background-color: white;padding-right: 0.2em;padding-left: 0.2em;position: relative;}#sk-container-id-1 div.sk-item {position: relative;z-index: 1;}#sk-container-id-1 div.sk-parallel {display: flex;align-items: stretch;justify-content: center;background-color: white;position: relative;}#sk-container-id-1 div.sk-item::before, #sk-container-id-1 div.sk-parallel-item::before {content: \"\";position: absolute;border-left: 1px solid gray;box-sizing: border-box;top: 0;bottom: 0;left: 50%;z-index: -1;}#sk-container-id-1 div.sk-parallel-item {display: flex;flex-direction: column;z-index: 1;position: relative;background-color: white;}#sk-container-id-1 div.sk-parallel-item:first-child::after {align-self: flex-end;width: 50%;}#sk-container-id-1 div.sk-parallel-item:last-child::after {align-self: flex-start;width: 50%;}#sk-container-id-1 div.sk-parallel-item:only-child::after {width: 0;}#sk-container-id-1 div.sk-dashed-wrapped {border: 1px dashed gray;margin: 0 0.4em 0.5em 0.4em;box-sizing: border-box;padding-bottom: 0.4em;background-color: white;}#sk-container-id-1 div.sk-label label {font-family: monospace;font-weight: bold;display: inline-block;line-height: 1.2em;}#sk-container-id-1 div.sk-label-container {text-align: center;}#sk-container-id-1 div.sk-container {/* jupyter's `normalize.less` sets `[hidden] { display: none; }` but bootstrap.min.css set `[hidden] { display: none !important; }` so we also need the `!important` here to be able to override the default hidden behavior on the sphinx rendered scikit-learn.org. See: https://github.com/scikit-learn/scikit-learn/issues/21755 */display: inline-block !important;position: relative;}#sk-container-id-1 div.sk-text-repr-fallback {display: none;}</style><div id=\"sk-container-id-1\" class=\"sk-top-container\"><div class=\"sk-text-repr-fallback\"><pre>VarianceThreshold(threshold=0)</pre><b>In a Jupyter environment, please rerun this cell to show the HTML representation or trust the notebook. <br />On GitHub, the HTML representation is unable to render, please try loading this page with nbviewer.org.</b></div><div class=\"sk-container\" hidden><div class=\"sk-item\"><div class=\"sk-estimator sk-toggleable\"><input class=\"sk-toggleable__control sk-hidden--visually\" id=\"sk-estimator-id-1\" type=\"checkbox\" checked><label for=\"sk-estimator-id-1\" class=\"sk-toggleable__label sk-toggleable__label-arrow\">VarianceThreshold</label><div class=\"sk-toggleable__content\"><pre>VarianceThreshold(threshold=0)</pre></div></div></div></div></div>"
      ],
      "text/plain": [
       "VarianceThreshold(threshold=0)"
      ]
     },
     "execution_count": 67,
     "metadata": {},
     "output_type": "execute_result"
    }
   ],
   "source": [
    "### It will remove  zero variance features\n",
    "from sklearn.feature_selection import VarianceThreshold\n",
    "var_thres=VarianceThreshold(threshold=0)\n",
    "var_thres.fit(x_train) # you ave to do fit on x_train"
   ]
  },
  {
   "cell_type": "code",
   "execution_count": 68,
   "id": "ba2c0d74",
   "metadata": {},
   "outputs": [
    {
     "data": {
      "text/plain": [
       "array([ True,  True, False,  True,  True,  True,  True,  True,  True,\n",
       "        True,  True,  True,  True,  True])"
      ]
     },
     "execution_count": 68,
     "metadata": {},
     "output_type": "execute_result"
    }
   ],
   "source": [
    "var_thres.get_support()"
   ]
  },
  {
   "cell_type": "code",
   "execution_count": 69,
   "id": "0aeed848",
   "metadata": {},
   "outputs": [
    {
     "data": {
      "text/plain": [
       "13"
      ]
     },
     "execution_count": 69,
     "metadata": {},
     "output_type": "execute_result"
    }
   ],
   "source": [
    "sum(var_thres.get_support())"
   ]
  },
  {
   "cell_type": "code",
   "execution_count": 70,
   "id": "a92a46f9",
   "metadata": {},
   "outputs": [
    {
     "name": "stdout",
     "output_type": "stream",
     "text": [
      "1\n"
     ]
    }
   ],
   "source": [
    "constant_columns = [column for column in x_train.columns\n",
    "                    if column not in x_train.columns[var_thres.get_support()]]\n",
    "\n",
    "print(len(constant_columns))"
   ]
  },
  {
   "cell_type": "code",
   "execution_count": 71,
   "id": "62a7b9ea",
   "metadata": {},
   "outputs": [
    {
     "name": "stdout",
     "output_type": "stream",
     "text": [
      "year\n"
     ]
    }
   ],
   "source": [
    "for column in constant_columns:\n",
    "    print(column)"
   ]
  },
  {
   "cell_type": "code",
   "execution_count": 72,
   "id": "dd005a4c",
   "metadata": {},
   "outputs": [],
   "source": [
    "x_train=x_train.drop(constant_columns,axis=1)"
   ]
  },
  {
   "cell_type": "code",
   "execution_count": 73,
   "id": "ed6df13f",
   "metadata": {},
   "outputs": [],
   "source": [
    "x_test=x_test.drop(constant_columns,axis=1)"
   ]
  },
  {
   "cell_type": "code",
   "execution_count": 74,
   "id": "9aed935f",
   "metadata": {},
   "outputs": [
    {
     "data": {
      "text/html": [
       "<div>\n",
       "<style scoped>\n",
       "    .dataframe tbody tr th:only-of-type {\n",
       "        vertical-align: middle;\n",
       "    }\n",
       "\n",
       "    .dataframe tbody tr th {\n",
       "        vertical-align: top;\n",
       "    }\n",
       "\n",
       "    .dataframe thead th {\n",
       "        text-align: right;\n",
       "    }\n",
       "</style>\n",
       "<table border=\"1\" class=\"dataframe\">\n",
       "  <thead>\n",
       "    <tr style=\"text-align: right;\">\n",
       "      <th></th>\n",
       "      <th>day</th>\n",
       "      <th>month</th>\n",
       "      <th>RH</th>\n",
       "      <th>Ws</th>\n",
       "      <th>Rain</th>\n",
       "      <th>FFMC</th>\n",
       "      <th>DMC</th>\n",
       "      <th>DC</th>\n",
       "      <th>ISI</th>\n",
       "      <th>BUI</th>\n",
       "      <th>FWI</th>\n",
       "      <th>Classes</th>\n",
       "      <th>Region</th>\n",
       "    </tr>\n",
       "  </thead>\n",
       "  <tbody>\n",
       "    <tr>\n",
       "      <th>115</th>\n",
       "      <td>24</td>\n",
       "      <td>9</td>\n",
       "      <td>65</td>\n",
       "      <td>19</td>\n",
       "      <td>0.6</td>\n",
       "      <td>68.3</td>\n",
       "      <td>5.5</td>\n",
       "      <td>15.2</td>\n",
       "      <td>1.5</td>\n",
       "      <td>5.8</td>\n",
       "      <td>0.7</td>\n",
       "      <td>1</td>\n",
       "      <td>1</td>\n",
       "    </tr>\n",
       "    <tr>\n",
       "      <th>207</th>\n",
       "      <td>25</td>\n",
       "      <td>8</td>\n",
       "      <td>40</td>\n",
       "      <td>18</td>\n",
       "      <td>0.0</td>\n",
       "      <td>92.1</td>\n",
       "      <td>56.3</td>\n",
       "      <td>157.5</td>\n",
       "      <td>14.3</td>\n",
       "      <td>59.5</td>\n",
       "      <td>31.1</td>\n",
       "      <td>0</td>\n",
       "      <td>0</td>\n",
       "    </tr>\n",
       "    <tr>\n",
       "      <th>28</th>\n",
       "      <td>29</td>\n",
       "      <td>6</td>\n",
       "      <td>47</td>\n",
       "      <td>13</td>\n",
       "      <td>0.3</td>\n",
       "      <td>79.9</td>\n",
       "      <td>18.4</td>\n",
       "      <td>84.4</td>\n",
       "      <td>2.2</td>\n",
       "      <td>23.8</td>\n",
       "      <td>3.9</td>\n",
       "      <td>1</td>\n",
       "      <td>1</td>\n",
       "    </tr>\n",
       "    <tr>\n",
       "      <th>134</th>\n",
       "      <td>13</td>\n",
       "      <td>6</td>\n",
       "      <td>52</td>\n",
       "      <td>15</td>\n",
       "      <td>2.0</td>\n",
       "      <td>72.3</td>\n",
       "      <td>11.4</td>\n",
       "      <td>7.8</td>\n",
       "      <td>1.4</td>\n",
       "      <td>10.9</td>\n",
       "      <td>0.9</td>\n",
       "      <td>1</td>\n",
       "      <td>0</td>\n",
       "    </tr>\n",
       "    <tr>\n",
       "      <th>20</th>\n",
       "      <td>21</td>\n",
       "      <td>6</td>\n",
       "      <td>78</td>\n",
       "      <td>14</td>\n",
       "      <td>0.0</td>\n",
       "      <td>81.0</td>\n",
       "      <td>6.3</td>\n",
       "      <td>31.6</td>\n",
       "      <td>2.6</td>\n",
       "      <td>8.4</td>\n",
       "      <td>2.2</td>\n",
       "      <td>0</td>\n",
       "      <td>1</td>\n",
       "    </tr>\n",
       "  </tbody>\n",
       "</table>\n",
       "</div>"
      ],
      "text/plain": [
       "     day  month  RH  Ws  Rain  FFMC   DMC     DC   ISI   BUI   FWI  Classes  \\\n",
       "115   24      9  65  19   0.6  68.3   5.5   15.2   1.5   5.8   0.7        1   \n",
       "207   25      8  40  18   0.0  92.1  56.3  157.5  14.3  59.5  31.1        0   \n",
       "28    29      6  47  13   0.3  79.9  18.4   84.4   2.2  23.8   3.9        1   \n",
       "134   13      6  52  15   2.0  72.3  11.4    7.8   1.4  10.9   0.9        1   \n",
       "20    21      6  78  14   0.0  81.0   6.3   31.6   2.6   8.4   2.2        0   \n",
       "\n",
       "     Region  \n",
       "115       1  \n",
       "207       0  \n",
       "28        1  \n",
       "134       0  \n",
       "20        1  "
      ]
     },
     "execution_count": 74,
     "metadata": {},
     "output_type": "execute_result"
    }
   ],
   "source": [
    "x_train.head()"
   ]
  },
  {
   "cell_type": "code",
   "execution_count": 75,
   "id": "8fcd041b",
   "metadata": {},
   "outputs": [
    {
     "data": {
      "text/html": [
       "<div>\n",
       "<style scoped>\n",
       "    .dataframe tbody tr th:only-of-type {\n",
       "        vertical-align: middle;\n",
       "    }\n",
       "\n",
       "    .dataframe tbody tr th {\n",
       "        vertical-align: top;\n",
       "    }\n",
       "\n",
       "    .dataframe thead th {\n",
       "        text-align: right;\n",
       "    }\n",
       "</style>\n",
       "<table border=\"1\" class=\"dataframe\">\n",
       "  <thead>\n",
       "    <tr style=\"text-align: right;\">\n",
       "      <th></th>\n",
       "      <th>day</th>\n",
       "      <th>month</th>\n",
       "      <th>RH</th>\n",
       "      <th>Ws</th>\n",
       "      <th>Rain</th>\n",
       "      <th>FFMC</th>\n",
       "      <th>DMC</th>\n",
       "      <th>DC</th>\n",
       "      <th>ISI</th>\n",
       "      <th>BUI</th>\n",
       "      <th>FWI</th>\n",
       "      <th>Classes</th>\n",
       "      <th>Region</th>\n",
       "    </tr>\n",
       "  </thead>\n",
       "  <tbody>\n",
       "    <tr>\n",
       "      <th>123</th>\n",
       "      <td>2</td>\n",
       "      <td>6</td>\n",
       "      <td>73</td>\n",
       "      <td>13</td>\n",
       "      <td>4.0</td>\n",
       "      <td>55.7</td>\n",
       "      <td>2.7</td>\n",
       "      <td>7.8</td>\n",
       "      <td>0.6</td>\n",
       "      <td>2.9</td>\n",
       "      <td>0.2</td>\n",
       "      <td>1</td>\n",
       "      <td>0</td>\n",
       "    </tr>\n",
       "    <tr>\n",
       "      <th>136</th>\n",
       "      <td>15</td>\n",
       "      <td>6</td>\n",
       "      <td>90</td>\n",
       "      <td>15</td>\n",
       "      <td>0.0</td>\n",
       "      <td>66.8</td>\n",
       "      <td>7.2</td>\n",
       "      <td>14.7</td>\n",
       "      <td>1.2</td>\n",
       "      <td>7.1</td>\n",
       "      <td>0.6</td>\n",
       "      <td>1</td>\n",
       "      <td>0</td>\n",
       "    </tr>\n",
       "    <tr>\n",
       "      <th>43</th>\n",
       "      <td>14</td>\n",
       "      <td>7</td>\n",
       "      <td>61</td>\n",
       "      <td>13</td>\n",
       "      <td>0.6</td>\n",
       "      <td>73.9</td>\n",
       "      <td>7.8</td>\n",
       "      <td>22.9</td>\n",
       "      <td>1.4</td>\n",
       "      <td>8.4</td>\n",
       "      <td>0.8</td>\n",
       "      <td>1</td>\n",
       "      <td>1</td>\n",
       "    </tr>\n",
       "    <tr>\n",
       "      <th>225</th>\n",
       "      <td>12</td>\n",
       "      <td>9</td>\n",
       "      <td>72</td>\n",
       "      <td>14</td>\n",
       "      <td>0.0</td>\n",
       "      <td>84.2</td>\n",
       "      <td>8.3</td>\n",
       "      <td>25.2</td>\n",
       "      <td>3.8</td>\n",
       "      <td>9.1</td>\n",
       "      <td>3.9</td>\n",
       "      <td>0</td>\n",
       "      <td>0</td>\n",
       "    </tr>\n",
       "    <tr>\n",
       "      <th>173</th>\n",
       "      <td>22</td>\n",
       "      <td>7</td>\n",
       "      <td>48</td>\n",
       "      <td>18</td>\n",
       "      <td>0.0</td>\n",
       "      <td>91.5</td>\n",
       "      <td>44.2</td>\n",
       "      <td>90.1</td>\n",
       "      <td>13.2</td>\n",
       "      <td>44.0</td>\n",
       "      <td>25.4</td>\n",
       "      <td>0</td>\n",
       "      <td>0</td>\n",
       "    </tr>\n",
       "  </tbody>\n",
       "</table>\n",
       "</div>"
      ],
      "text/plain": [
       "     day  month  RH  Ws  Rain  FFMC   DMC    DC   ISI   BUI   FWI  Classes  \\\n",
       "123    2      6  73  13   4.0  55.7   2.7   7.8   0.6   2.9   0.2        1   \n",
       "136   15      6  90  15   0.0  66.8   7.2  14.7   1.2   7.1   0.6        1   \n",
       "43    14      7  61  13   0.6  73.9   7.8  22.9   1.4   8.4   0.8        1   \n",
       "225   12      9  72  14   0.0  84.2   8.3  25.2   3.8   9.1   3.9        0   \n",
       "173   22      7  48  18   0.0  91.5  44.2  90.1  13.2  44.0  25.4        0   \n",
       "\n",
       "     Region  \n",
       "123       0  \n",
       "136       0  \n",
       "43        1  \n",
       "225       0  \n",
       "173       0  "
      ]
     },
     "execution_count": 75,
     "metadata": {},
     "output_type": "execute_result"
    }
   ],
   "source": [
    "x_test.head()"
   ]
  },
  {
   "cell_type": "markdown",
   "id": "2d27323b",
   "metadata": {},
   "source": [
    "##### pearson correlation"
   ]
  },
  {
   "cell_type": "code",
   "execution_count": 76,
   "id": "3c830d90",
   "metadata": {},
   "outputs": [],
   "source": [
    "# if two  features are highly correlated ( not w.r.t target i m saying ) .then we can drop one of the feature as it is doing the same thing , for that we specify some threshold value"
   ]
  },
  {
   "cell_type": "code",
   "execution_count": 77,
   "id": "4d47c61e",
   "metadata": {},
   "outputs": [],
   "source": [
    "# taking a threshold value --> given by domain expert\n",
    "# the time being we are taking threshold =0.95"
   ]
  },
  {
   "cell_type": "code",
   "execution_count": 78,
   "id": "cb336fea",
   "metadata": {},
   "outputs": [],
   "source": [
    "# find and remove correlated features\n",
    "def correlation(dataset, threshold):\n",
    "    col_corr = set()  # Set of all the names of correlated columns\n",
    "    corr_matrix = dataset.corr()\n",
    "    for i in range(len(corr_matrix.columns)):\n",
    "        for j in range(i):\n",
    "            if abs(corr_matrix.iloc[i, j]) > threshold: # we are interested in absolute coeff value\n",
    "                colname = corr_matrix.columns[i]  # getting the name of column\n",
    "                col_corr.add(colname)\n",
    "    return col_corr"
   ]
  },
  {
   "cell_type": "code",
   "execution_count": 79,
   "id": "070c4e0d",
   "metadata": {},
   "outputs": [],
   "source": [
    "# giving threshold 60 percent for the time \n",
    "threshold=0.95"
   ]
  },
  {
   "cell_type": "code",
   "execution_count": 80,
   "id": "1f4cc0e5",
   "metadata": {},
   "outputs": [
    {
     "data": {
      "text/plain": [
       "{'BUI'}"
      ]
     },
     "execution_count": 80,
     "metadata": {},
     "output_type": "execute_result"
    }
   ],
   "source": [
    "correlation(x_train.iloc[:,:-1],threshold)"
   ]
  },
  {
   "cell_type": "code",
   "execution_count": 81,
   "id": "358bd7a0",
   "metadata": {},
   "outputs": [],
   "source": [
    "# so we are going to drop it"
   ]
  },
  {
   "cell_type": "code",
   "execution_count": 82,
   "id": "ca605039",
   "metadata": {},
   "outputs": [],
   "source": [
    "x_train=x_train.drop('BUI',axis=1)\n",
    "x_test=x_test.drop('BUI',axis=1)"
   ]
  },
  {
   "cell_type": "markdown",
   "id": "05abca07",
   "metadata": {},
   "source": [
    "##### information gain"
   ]
  },
  {
   "cell_type": "code",
   "execution_count": 83,
   "id": "b8e69b33",
   "metadata": {},
   "outputs": [],
   "source": [
    "# from sklearn.feature_selection import mutual_info_classif # for classification\n",
    "from sklearn.feature_selection import mutual_info_regression # for regression problem\n"
   ]
  },
  {
   "cell_type": "code",
   "execution_count": 84,
   "id": "c41f0bbe",
   "metadata": {},
   "outputs": [],
   "source": [
    "mutual_info=mutual_info_regression(x_train,y_train)"
   ]
  },
  {
   "cell_type": "code",
   "execution_count": 85,
   "id": "cfbd0d7d",
   "metadata": {},
   "outputs": [],
   "source": [
    "mutual_data=pd.Series(mutual_info,index=x_train.columns)"
   ]
  },
  {
   "cell_type": "code",
   "execution_count": 86,
   "id": "4ffc9642",
   "metadata": {},
   "outputs": [
    {
     "data": {
      "text/plain": [
       "ISI        0.469878\n",
       "FFMC       0.379314\n",
       "FWI        0.305238\n",
       "RH         0.237493\n",
       "DC         0.228607\n",
       "DMC        0.221400\n",
       "month      0.215241\n",
       "Classes    0.202557\n",
       "Ws         0.148975\n",
       "Region     0.131616\n",
       "Rain       0.093796\n",
       "day        0.000000\n",
       "dtype: float64"
      ]
     },
     "execution_count": 86,
     "metadata": {},
     "output_type": "execute_result"
    }
   ],
   "source": [
    "mutual_data.sort_values(ascending=False)"
   ]
  },
  {
   "cell_type": "code",
   "execution_count": 87,
   "id": "1f4d65d3",
   "metadata": {},
   "outputs": [],
   "source": [
    "# we do feature  selection w.r.t our training data only then remove from train and test.. to avoid overfitting"
   ]
  },
  {
   "cell_type": "markdown",
   "id": "f96ffd28",
   "metadata": {},
   "source": [
    "##### feature Importance"
   ]
  },
  {
   "cell_type": "code",
   "execution_count": 88,
   "id": "808e54df",
   "metadata": {},
   "outputs": [],
   "source": [
    "# This technique gives you a score for each feature of your data,the higher the score mor relevant it is"
   ]
  },
  {
   "cell_type": "code",
   "execution_count": 89,
   "id": "05716f1f",
   "metadata": {},
   "outputs": [
    {
     "data": {
      "text/html": [
       "<style>#sk-container-id-2 {color: black;background-color: white;}#sk-container-id-2 pre{padding: 0;}#sk-container-id-2 div.sk-toggleable {background-color: white;}#sk-container-id-2 label.sk-toggleable__label {cursor: pointer;display: block;width: 100%;margin-bottom: 0;padding: 0.3em;box-sizing: border-box;text-align: center;}#sk-container-id-2 label.sk-toggleable__label-arrow:before {content: \"▸\";float: left;margin-right: 0.25em;color: #696969;}#sk-container-id-2 label.sk-toggleable__label-arrow:hover:before {color: black;}#sk-container-id-2 div.sk-estimator:hover label.sk-toggleable__label-arrow:before {color: black;}#sk-container-id-2 div.sk-toggleable__content {max-height: 0;max-width: 0;overflow: hidden;text-align: left;background-color: #f0f8ff;}#sk-container-id-2 div.sk-toggleable__content pre {margin: 0.2em;color: black;border-radius: 0.25em;background-color: #f0f8ff;}#sk-container-id-2 input.sk-toggleable__control:checked~div.sk-toggleable__content {max-height: 200px;max-width: 100%;overflow: auto;}#sk-container-id-2 input.sk-toggleable__control:checked~label.sk-toggleable__label-arrow:before {content: \"▾\";}#sk-container-id-2 div.sk-estimator input.sk-toggleable__control:checked~label.sk-toggleable__label {background-color: #d4ebff;}#sk-container-id-2 div.sk-label input.sk-toggleable__control:checked~label.sk-toggleable__label {background-color: #d4ebff;}#sk-container-id-2 input.sk-hidden--visually {border: 0;clip: rect(1px 1px 1px 1px);clip: rect(1px, 1px, 1px, 1px);height: 1px;margin: -1px;overflow: hidden;padding: 0;position: absolute;width: 1px;}#sk-container-id-2 div.sk-estimator {font-family: monospace;background-color: #f0f8ff;border: 1px dotted black;border-radius: 0.25em;box-sizing: border-box;margin-bottom: 0.5em;}#sk-container-id-2 div.sk-estimator:hover {background-color: #d4ebff;}#sk-container-id-2 div.sk-parallel-item::after {content: \"\";width: 100%;border-bottom: 1px solid gray;flex-grow: 1;}#sk-container-id-2 div.sk-label:hover label.sk-toggleable__label {background-color: #d4ebff;}#sk-container-id-2 div.sk-serial::before {content: \"\";position: absolute;border-left: 1px solid gray;box-sizing: border-box;top: 0;bottom: 0;left: 50%;z-index: 0;}#sk-container-id-2 div.sk-serial {display: flex;flex-direction: column;align-items: center;background-color: white;padding-right: 0.2em;padding-left: 0.2em;position: relative;}#sk-container-id-2 div.sk-item {position: relative;z-index: 1;}#sk-container-id-2 div.sk-parallel {display: flex;align-items: stretch;justify-content: center;background-color: white;position: relative;}#sk-container-id-2 div.sk-item::before, #sk-container-id-2 div.sk-parallel-item::before {content: \"\";position: absolute;border-left: 1px solid gray;box-sizing: border-box;top: 0;bottom: 0;left: 50%;z-index: -1;}#sk-container-id-2 div.sk-parallel-item {display: flex;flex-direction: column;z-index: 1;position: relative;background-color: white;}#sk-container-id-2 div.sk-parallel-item:first-child::after {align-self: flex-end;width: 50%;}#sk-container-id-2 div.sk-parallel-item:last-child::after {align-self: flex-start;width: 50%;}#sk-container-id-2 div.sk-parallel-item:only-child::after {width: 0;}#sk-container-id-2 div.sk-dashed-wrapped {border: 1px dashed gray;margin: 0 0.4em 0.5em 0.4em;box-sizing: border-box;padding-bottom: 0.4em;background-color: white;}#sk-container-id-2 div.sk-label label {font-family: monospace;font-weight: bold;display: inline-block;line-height: 1.2em;}#sk-container-id-2 div.sk-label-container {text-align: center;}#sk-container-id-2 div.sk-container {/* jupyter's `normalize.less` sets `[hidden] { display: none; }` but bootstrap.min.css set `[hidden] { display: none !important; }` so we also need the `!important` here to be able to override the default hidden behavior on the sphinx rendered scikit-learn.org. See: https://github.com/scikit-learn/scikit-learn/issues/21755 */display: inline-block !important;position: relative;}#sk-container-id-2 div.sk-text-repr-fallback {display: none;}</style><div id=\"sk-container-id-2\" class=\"sk-top-container\"><div class=\"sk-text-repr-fallback\"><pre>ExtraTreesClassifier()</pre><b>In a Jupyter environment, please rerun this cell to show the HTML representation or trust the notebook. <br />On GitHub, the HTML representation is unable to render, please try loading this page with nbviewer.org.</b></div><div class=\"sk-container\" hidden><div class=\"sk-item\"><div class=\"sk-estimator sk-toggleable\"><input class=\"sk-toggleable__control sk-hidden--visually\" id=\"sk-estimator-id-2\" type=\"checkbox\" checked><label for=\"sk-estimator-id-2\" class=\"sk-toggleable__label sk-toggleable__label-arrow\">ExtraTreesClassifier</label><div class=\"sk-toggleable__content\"><pre>ExtraTreesClassifier()</pre></div></div></div></div></div>"
      ],
      "text/plain": [
       "ExtraTreesClassifier()"
      ]
     },
     "execution_count": 89,
     "metadata": {},
     "output_type": "execute_result"
    }
   ],
   "source": [
    "from sklearn.ensemble import ExtraTreesClassifier\n",
    "import matplotlib.pyplot as plt\n",
    "model=ExtraTreesClassifier()\n",
    "model.fit(x_train,y_train)"
   ]
  },
  {
   "cell_type": "code",
   "execution_count": 90,
   "id": "5cd47fab",
   "metadata": {},
   "outputs": [
    {
     "name": "stdout",
     "output_type": "stream",
     "text": [
      "[0.10920915 0.07086668 0.10806854 0.08747271 0.07370821 0.10112285\n",
      " 0.09663355 0.09999222 0.10262378 0.09177071 0.0166258  0.04190579]\n"
     ]
    }
   ],
   "source": [
    "print(model.feature_importances_)"
   ]
  },
  {
   "cell_type": "code",
   "execution_count": 91,
   "id": "eb1ef4e4",
   "metadata": {},
   "outputs": [
    {
     "data": {
      "image/png": "[encoded data removed]",
      "text/plain": [
       "<Figure size 432x288 with 1 Axes>"
      ]
     },
     "metadata": {
      "needs_background": "light"
     },
     "output_type": "display_data"
    }
   ],
   "source": [
    "ranked_features=pd.Series(model.feature_importances_,index=x_train.columns)\n",
    "ranked_features.nlargest(10).plot(kind=\"barh\")\n",
    "plt.show()"
   ]
  },
  {
   "cell_type": "code",
   "execution_count": 92,
   "id": "083d21bf",
   "metadata": {},
   "outputs": [],
   "source": [
    "# these are the important features for our model so we are sticking to them "
   ]
  },
  {
   "cell_type": "code",
   "execution_count": 93,
   "id": "96187550",
   "metadata": {},
   "outputs": [
    {
     "data": {
      "text/html": [
       "<div>\n",
       "<style scoped>\n",
       "    .dataframe tbody tr th:only-of-type {\n",
       "        vertical-align: middle;\n",
       "    }\n",
       "\n",
       "    .dataframe tbody tr th {\n",
       "        vertical-align: top;\n",
       "    }\n",
       "\n",
       "    .dataframe thead th {\n",
       "        text-align: right;\n",
       "    }\n",
       "</style>\n",
       "<table border=\"1\" class=\"dataframe\">\n",
       "  <thead>\n",
       "    <tr style=\"text-align: right;\">\n",
       "      <th></th>\n",
       "      <th>day</th>\n",
       "      <th>month</th>\n",
       "      <th>RH</th>\n",
       "      <th>Ws</th>\n",
       "      <th>Rain</th>\n",
       "      <th>FFMC</th>\n",
       "      <th>DMC</th>\n",
       "      <th>DC</th>\n",
       "      <th>ISI</th>\n",
       "      <th>FWI</th>\n",
       "      <th>Classes</th>\n",
       "      <th>Region</th>\n",
       "    </tr>\n",
       "  </thead>\n",
       "  <tbody>\n",
       "    <tr>\n",
       "      <th>115</th>\n",
       "      <td>24</td>\n",
       "      <td>9</td>\n",
       "      <td>65</td>\n",
       "      <td>19</td>\n",
       "      <td>0.6</td>\n",
       "      <td>68.3</td>\n",
       "      <td>5.5</td>\n",
       "      <td>15.2</td>\n",
       "      <td>1.5</td>\n",
       "      <td>0.7</td>\n",
       "      <td>1</td>\n",
       "      <td>1</td>\n",
       "    </tr>\n",
       "    <tr>\n",
       "      <th>207</th>\n",
       "      <td>25</td>\n",
       "      <td>8</td>\n",
       "      <td>40</td>\n",
       "      <td>18</td>\n",
       "      <td>0.0</td>\n",
       "      <td>92.1</td>\n",
       "      <td>56.3</td>\n",
       "      <td>157.5</td>\n",
       "      <td>14.3</td>\n",
       "      <td>31.1</td>\n",
       "      <td>0</td>\n",
       "      <td>0</td>\n",
       "    </tr>\n",
       "    <tr>\n",
       "      <th>28</th>\n",
       "      <td>29</td>\n",
       "      <td>6</td>\n",
       "      <td>47</td>\n",
       "      <td>13</td>\n",
       "      <td>0.3</td>\n",
       "      <td>79.9</td>\n",
       "      <td>18.4</td>\n",
       "      <td>84.4</td>\n",
       "      <td>2.2</td>\n",
       "      <td>3.9</td>\n",
       "      <td>1</td>\n",
       "      <td>1</td>\n",
       "    </tr>\n",
       "    <tr>\n",
       "      <th>134</th>\n",
       "      <td>13</td>\n",
       "      <td>6</td>\n",
       "      <td>52</td>\n",
       "      <td>15</td>\n",
       "      <td>2.0</td>\n",
       "      <td>72.3</td>\n",
       "      <td>11.4</td>\n",
       "      <td>7.8</td>\n",
       "      <td>1.4</td>\n",
       "      <td>0.9</td>\n",
       "      <td>1</td>\n",
       "      <td>0</td>\n",
       "    </tr>\n",
       "    <tr>\n",
       "      <th>20</th>\n",
       "      <td>21</td>\n",
       "      <td>6</td>\n",
       "      <td>78</td>\n",
       "      <td>14</td>\n",
       "      <td>0.0</td>\n",
       "      <td>81.0</td>\n",
       "      <td>6.3</td>\n",
       "      <td>31.6</td>\n",
       "      <td>2.6</td>\n",
       "      <td>2.2</td>\n",
       "      <td>0</td>\n",
       "      <td>1</td>\n",
       "    </tr>\n",
       "  </tbody>\n",
       "</table>\n",
       "</div>"
      ],
      "text/plain": [
       "     day  month  RH  Ws  Rain  FFMC   DMC     DC   ISI   FWI  Classes  Region\n",
       "115   24      9  65  19   0.6  68.3   5.5   15.2   1.5   0.7        1       1\n",
       "207   25      8  40  18   0.0  92.1  56.3  157.5  14.3  31.1        0       0\n",
       "28    29      6  47  13   0.3  79.9  18.4   84.4   2.2   3.9        1       1\n",
       "134   13      6  52  15   2.0  72.3  11.4    7.8   1.4   0.9        1       0\n",
       "20    21      6  78  14   0.0  81.0   6.3   31.6   2.6   2.2        0       1"
      ]
     },
     "execution_count": 93,
     "metadata": {},
     "output_type": "execute_result"
    }
   ],
   "source": [
    "x_train.head()"
   ]
  },
  {
   "cell_type": "code",
   "execution_count": 94,
   "id": "06bca683",
   "metadata": {},
   "outputs": [
    {
     "data": {
      "text/plain": [
       "115    29\n",
       "207    34\n",
       "28     32\n",
       "134    30\n",
       "20     30\n",
       "Name: Temperature, dtype: int64"
      ]
     },
     "execution_count": 94,
     "metadata": {},
     "output_type": "execute_result"
    }
   ],
   "source": [
    "y_train.head()"
   ]
  },
  {
   "cell_type": "code",
   "execution_count": 95,
   "id": "61447986",
   "metadata": {},
   "outputs": [
    {
     "data": {
      "text/html": [
       "<div>\n",
       "<style scoped>\n",
       "    .dataframe tbody tr th:only-of-type {\n",
       "        vertical-align: middle;\n",
       "    }\n",
       "\n",
       "    .dataframe tbody tr th {\n",
       "        vertical-align: top;\n",
       "    }\n",
       "\n",
       "    .dataframe thead th {\n",
       "        text-align: right;\n",
       "    }\n",
       "</style>\n",
       "<table border=\"1\" class=\"dataframe\">\n",
       "  <thead>\n",
       "    <tr style=\"text-align: right;\">\n",
       "      <th></th>\n",
       "      <th>day</th>\n",
       "      <th>month</th>\n",
       "      <th>RH</th>\n",
       "      <th>Ws</th>\n",
       "      <th>Rain</th>\n",
       "      <th>FFMC</th>\n",
       "      <th>DMC</th>\n",
       "      <th>DC</th>\n",
       "      <th>ISI</th>\n",
       "      <th>FWI</th>\n",
       "      <th>Classes</th>\n",
       "      <th>Region</th>\n",
       "    </tr>\n",
       "  </thead>\n",
       "  <tbody>\n",
       "    <tr>\n",
       "      <th>123</th>\n",
       "      <td>2</td>\n",
       "      <td>6</td>\n",
       "      <td>73</td>\n",
       "      <td>13</td>\n",
       "      <td>4.0</td>\n",
       "      <td>55.7</td>\n",
       "      <td>2.7</td>\n",
       "      <td>7.8</td>\n",
       "      <td>0.6</td>\n",
       "      <td>0.2</td>\n",
       "      <td>1</td>\n",
       "      <td>0</td>\n",
       "    </tr>\n",
       "    <tr>\n",
       "      <th>136</th>\n",
       "      <td>15</td>\n",
       "      <td>6</td>\n",
       "      <td>90</td>\n",
       "      <td>15</td>\n",
       "      <td>0.0</td>\n",
       "      <td>66.8</td>\n",
       "      <td>7.2</td>\n",
       "      <td>14.7</td>\n",
       "      <td>1.2</td>\n",
       "      <td>0.6</td>\n",
       "      <td>1</td>\n",
       "      <td>0</td>\n",
       "    </tr>\n",
       "    <tr>\n",
       "      <th>43</th>\n",
       "      <td>14</td>\n",
       "      <td>7</td>\n",
       "      <td>61</td>\n",
       "      <td>13</td>\n",
       "      <td>0.6</td>\n",
       "      <td>73.9</td>\n",
       "      <td>7.8</td>\n",
       "      <td>22.9</td>\n",
       "      <td>1.4</td>\n",
       "      <td>0.8</td>\n",
       "      <td>1</td>\n",
       "      <td>1</td>\n",
       "    </tr>\n",
       "    <tr>\n",
       "      <th>225</th>\n",
       "      <td>12</td>\n",
       "      <td>9</td>\n",
       "      <td>72</td>\n",
       "      <td>14</td>\n",
       "      <td>0.0</td>\n",
       "      <td>84.2</td>\n",
       "      <td>8.3</td>\n",
       "      <td>25.2</td>\n",
       "      <td>3.8</td>\n",
       "      <td>3.9</td>\n",
       "      <td>0</td>\n",
       "      <td>0</td>\n",
       "    </tr>\n",
       "    <tr>\n",
       "      <th>173</th>\n",
       "      <td>22</td>\n",
       "      <td>7</td>\n",
       "      <td>48</td>\n",
       "      <td>18</td>\n",
       "      <td>0.0</td>\n",
       "      <td>91.5</td>\n",
       "      <td>44.2</td>\n",
       "      <td>90.1</td>\n",
       "      <td>13.2</td>\n",
       "      <td>25.4</td>\n",
       "      <td>0</td>\n",
       "      <td>0</td>\n",
       "    </tr>\n",
       "  </tbody>\n",
       "</table>\n",
       "</div>"
      ],
      "text/plain": [
       "     day  month  RH  Ws  Rain  FFMC   DMC    DC   ISI   FWI  Classes  Region\n",
       "123    2      6  73  13   4.0  55.7   2.7   7.8   0.6   0.2        1       0\n",
       "136   15      6  90  15   0.0  66.8   7.2  14.7   1.2   0.6        1       0\n",
       "43    14      7  61  13   0.6  73.9   7.8  22.9   1.4   0.8        1       1\n",
       "225   12      9  72  14   0.0  84.2   8.3  25.2   3.8   3.9        0       0\n",
       "173   22      7  48  18   0.0  91.5  44.2  90.1  13.2  25.4        0       0"
      ]
     },
     "execution_count": 95,
     "metadata": {},
     "output_type": "execute_result"
    }
   ],
   "source": [
    "x_test.head()"
   ]
  },
  {
   "cell_type": "code",
   "execution_count": 96,
   "id": "fc24fea0",
   "metadata": {},
   "outputs": [
    {
     "data": {
      "text/plain": [
       "123    30\n",
       "136    28\n",
       "43     34\n",
       "225    31\n",
       "173    32\n",
       "Name: Temperature, dtype: int64"
      ]
     },
     "execution_count": 96,
     "metadata": {},
     "output_type": "execute_result"
    }
   ],
   "source": [
    "y_test.head()"
   ]
  },
  {
   "cell_type": "markdown",
   "id": "559c81f4",
   "metadata": {},
   "source": [
    "## Temp vs independent feature"
   ]
  },
  {
   "cell_type": "markdown",
   "id": "d2aefd58",
   "metadata": {},
   "source": [
    "- ***Plot data and a linear regression model fit.***"
   ]
  },
  {
   "cell_type": "code",
   "execution_count": 97,
   "id": "b7f6a4b7",
   "metadata": {},
   "outputs": [
    {
     "name": "stdout",
     "output_type": "stream",
     "text": [
      "Num of continues features : ['day', 'RH', 'Ws', 'Rain', 'FFMC', 'DMC', 'DC', 'ISI', 'FWI']\n"
     ]
    }
   ],
   "source": [
    "continues_features=[feature for feature in x_train.columns if len(x_train[feature].unique())>=10]\n",
    "print('Num of continues features :',continues_features)"
   ]
  },
  {
   "cell_type": "code",
   "execution_count": 98,
   "id": "981dbffe",
   "metadata": {},
   "outputs": [
    {
     "data": {
      "image/png": "[encoded data removed]",
      "text/plain": [
       "<Figure size 1440x2880 with 9 Axes>"
      ]
     },
     "metadata": {
      "needs_background": "light"
     },
     "output_type": "display_data"
    }
   ],
   "source": [
    "count=1\n",
    "plt.subplots(figsize=(20, 40))\n",
    "for col in continues_features:\n",
    "    plt.subplot(6,2,count)\n",
    "    sns.regplot(data=x_train,x=col,y=y_train,color=\"red\")\n",
    "    count+=1\n",
    "\n",
    "plt.show()"
   ]
  },
  {
   "cell_type": "code",
   "execution_count": 99,
   "id": "4931c813",
   "metadata": {},
   "outputs": [],
   "source": [
    "# temp and days are not much correlated we are going to drop days"
   ]
  },
  {
   "cell_type": "code",
   "execution_count": 100,
   "id": "82798219",
   "metadata": {},
   "outputs": [],
   "source": [
    "x_train=x_train.drop(\"day\",axis=1)\n",
    "x_test=x_test.drop(\"day\",axis=1)"
   ]
  },
  {
   "cell_type": "markdown",
   "id": "b7b41659",
   "metadata": {},
   "source": [
    "## standardize the datasets"
   ]
  },
  {
   "cell_type": "markdown",
   "id": "c118dd76",
   "metadata": {},
   "source": [
    "We try to bring all the variables or features to a similar scale. standarisation means centering the variable at zero.\n",
    "\n",
    "z=(x-x_mean)/std"
   ]
  },
  {
   "cell_type": "code",
   "execution_count": 101,
   "id": "8921631b",
   "metadata": {},
   "outputs": [],
   "source": [
    "from sklearn.preprocessing import StandardScaler\n",
    "scaler=StandardScaler()\n",
    "s_x_train=scaler.fit_transform(x_train)\n",
    "s_x_test=scaler.transform(x_test)"
   ]
  },
  {
   "cell_type": "markdown",
   "id": "e05cd7c2",
   "metadata": {},
   "source": [
    "## model Training"
   ]
  },
  {
   "cell_type": "code",
   "execution_count": 103,
   "id": "b0eb3686",
   "metadata": {},
   "outputs": [
    {
     "data": {
      "text/html": [
       "<style>#sk-container-id-3 {color: black;background-color: white;}#sk-container-id-3 pre{padding: 0;}#sk-container-id-3 div.sk-toggleable {background-color: white;}#sk-container-id-3 label.sk-toggleable__label {cursor: pointer;display: block;width: 100%;margin-bottom: 0;padding: 0.3em;box-sizing: border-box;text-align: center;}#sk-container-id-3 label.sk-toggleable__label-arrow:before {content: \"▸\";float: left;margin-right: 0.25em;color: #696969;}#sk-container-id-3 label.sk-toggleable__label-arrow:hover:before {color: black;}#sk-container-id-3 div.sk-estimator:hover label.sk-toggleable__label-arrow:before {color: black;}#sk-container-id-3 div.sk-toggleable__content {max-height: 0;max-width: 0;overflow: hidden;text-align: left;background-color: #f0f8ff;}#sk-container-id-3 div.sk-toggleable__content pre {margin: 0.2em;color: black;border-radius: 0.25em;background-color: #f0f8ff;}#sk-container-id-3 input.sk-toggleable__control:checked~div.sk-toggleable__content {max-height: 200px;max-width: 100%;overflow: auto;}#sk-container-id-3 input.sk-toggleable__control:checked~label.sk-toggleable__label-arrow:before {content: \"▾\";}#sk-container-id-3 div.sk-estimator input.sk-toggleable__control:checked~label.sk-toggleable__label {background-color: #d4ebff;}#sk-container-id-3 div.sk-label input.sk-toggleable__control:checked~label.sk-toggleable__label {background-color: #d4ebff;}#sk-container-id-3 input.sk-hidden--visually {border: 0;clip: rect(1px 1px 1px 1px);clip: rect(1px, 1px, 1px, 1px);height: 1px;margin: -1px;overflow: hidden;padding: 0;position: absolute;width: 1px;}#sk-container-id-3 div.sk-estimator {font-family: monospace;background-color: #f0f8ff;border: 1px dotted black;border-radius: 0.25em;box-sizing: border-box;margin-bottom: 0.5em;}#sk-container-id-3 div.sk-estimator:hover {background-color: #d4ebff;}#sk-container-id-3 div.sk-parallel-item::after {content: \"\";width: 100%;border-bottom: 1px solid gray;flex-grow: 1;}#sk-container-id-3 div.sk-label:hover label.sk-toggleable__label {background-color: #d4ebff;}#sk-container-id-3 div.sk-serial::before {content: \"\";position: absolute;border-left: 1px solid gray;box-sizing: border-box;top: 0;bottom: 0;left: 50%;z-index: 0;}#sk-container-id-3 div.sk-serial {display: flex;flex-direction: column;align-items: center;background-color: white;padding-right: 0.2em;padding-left: 0.2em;position: relative;}#sk-container-id-3 div.sk-item {position: relative;z-index: 1;}#sk-container-id-3 div.sk-parallel {display: flex;align-items: stretch;justify-content: center;background-color: white;position: relative;}#sk-container-id-3 div.sk-item::before, #sk-container-id-3 div.sk-parallel-item::before {content: \"\";position: absolute;border-left: 1px solid gray;box-sizing: border-box;top: 0;bottom: 0;left: 50%;z-index: -1;}#sk-container-id-3 div.sk-parallel-item {display: flex;flex-direction: column;z-index: 1;position: relative;background-color: white;}#sk-container-id-3 div.sk-parallel-item:first-child::after {align-self: flex-end;width: 50%;}#sk-container-id-3 div.sk-parallel-item:last-child::after {align-self: flex-start;width: 50%;}#sk-container-id-3 div.sk-parallel-item:only-child::after {width: 0;}#sk-container-id-3 div.sk-dashed-wrapped {border: 1px dashed gray;margin: 0 0.4em 0.5em 0.4em;box-sizing: border-box;padding-bottom: 0.4em;background-color: white;}#sk-container-id-3 div.sk-label label {font-family: monospace;font-weight: bold;display: inline-block;line-height: 1.2em;}#sk-container-id-3 div.sk-label-container {text-align: center;}#sk-container-id-3 div.sk-container {/* jupyter's `normalize.less` sets `[hidden] { display: none; }` but bootstrap.min.css set `[hidden] { display: none !important; }` so we also need the `!important` here to be able to override the default hidden behavior on the sphinx rendered scikit-learn.org. See: https://github.com/scikit-learn/scikit-learn/issues/21755 */display: inline-block !important;position: relative;}#sk-container-id-3 div.sk-text-repr-fallback {display: none;}</style><div id=\"sk-container-id-3\" class=\"sk-top-container\"><div class=\"sk-text-repr-fallback\"><pre>LinearRegression()</pre><b>In a Jupyter environment, please rerun this cell to show the HTML representation or trust the notebook. <br />On GitHub, the HTML representation is unable to render, please try loading this page with nbviewer.org.</b></div><div class=\"sk-container\" hidden><div class=\"sk-item\"><div class=\"sk-estimator sk-toggleable\"><input class=\"sk-toggleable__control sk-hidden--visually\" id=\"sk-estimator-id-3\" type=\"checkbox\" checked><label for=\"sk-estimator-id-3\" class=\"sk-toggleable__label sk-toggleable__label-arrow\">LinearRegression</label><div class=\"sk-toggleable__content\"><pre>LinearRegression()</pre></div></div></div></div></div>"
      ],
      "text/plain": [
       "LinearRegression()"
      ]
     },
     "execution_count": 103,
     "metadata": {},
     "output_type": "execute_result"
    }
   ],
   "source": [
    "# this is multiple linear regression Problem\n",
    "from sklearn.linear_model import LinearRegression\n",
    "regression=LinearRegression()\n",
    "# training the training data\n",
    "regression.fit(s_x_train,y_train)"
   ]
  },
  {
   "cell_type": "code",
   "execution_count": 104,
   "id": "4620ee47",
   "metadata": {},
   "outputs": [
    {
     "name": "stdout",
     "output_type": "stream",
     "text": [
      "[-0.49726211 -1.00833708 -0.67408725  0.1409791   1.18328407  0.37270028\n",
      "  0.1365454   0.30372259 -0.05421019 -0.25081479 -0.10958313]\n"
     ]
    }
   ],
   "source": [
    "# print the cofficient and the intercept\n",
    "print(regression.coef_)\n",
    "# toal cofficient = number of features "
   ]
  },
  {
   "cell_type": "code",
   "execution_count": 105,
   "id": "0eb0bb1b",
   "metadata": {},
   "outputs": [
    {
     "name": "stdout",
     "output_type": "stream",
     "text": [
      "31.953846153846154\n"
     ]
    }
   ],
   "source": [
    "print(regression.intercept_)\n",
    "# intercept =1"
   ]
  },
  {
   "cell_type": "code",
   "execution_count": 108,
   "id": "3ea60a9b",
   "metadata": {},
   "outputs": [],
   "source": [
    "# prediction for test data\n",
    "x_pred=regression.predict(s_x_test)"
   ]
  },
  {
   "cell_type": "code",
   "execution_count": 109,
   "id": "b464b0e9",
   "metadata": {},
   "outputs": [
    {
     "data": {
      "text/plain": [
       "array([30.03671682, 29.25466187, 31.69278669, 31.50421046, 35.60792931,\n",
       "       35.95373174, 28.6013468 , 30.3431151 , 33.53971223, 25.34846088,\n",
       "       36.36168486, 30.04427946, 30.67521461, 34.2230339 , 35.25812544,\n",
       "       34.13112443, 31.27824522, 32.77268698, 32.84798657, 34.63339978,\n",
       "       31.05013171, 33.88003823, 33.64381377, 36.65329388, 32.22261862,\n",
       "       32.76688889, 32.20435537, 27.99653661, 28.48159971, 34.77023464,\n",
       "       34.5346089 , 28.7203994 , 32.22303211, 32.97001955, 27.57614995,\n",
       "       32.22896666, 31.18859924, 33.72444047, 31.00792237, 35.13323177,\n",
       "       33.4207606 , 30.17178049, 33.27235858, 33.02626633, 34.03725836,\n",
       "       35.94244268, 32.37180824, 37.17574649, 35.85941562])"
      ]
     },
     "execution_count": 109,
     "metadata": {},
     "output_type": "execute_result"
    }
   ],
   "source": [
    "x_pred"
   ]
  },
  {
   "cell_type": "code",
   "execution_count": 110,
   "id": "11b317db",
   "metadata": {},
   "outputs": [
    {
     "data": {
      "text/plain": [
       "Text(0, 0.5, 'Test pred data')"
      ]
     },
     "execution_count": 110,
     "metadata": {},
     "output_type": "execute_result"
    },
    {
     "data": {
      "image/png": "[encoded data removed]",
      "text/plain": [
       "<Figure size 432x288 with 1 Axes>"
      ]
     },
     "metadata": {
      "needs_background": "light"
     },
     "output_type": "display_data"
    }
   ],
   "source": [
    "plt.scatter(y_test,x_pred)\n",
    "plt.xlabel(\"Test Truth data\")\n",
    "plt.ylabel(\"Test pred data\")"
   ]
  },
  {
   "cell_type": "markdown",
   "id": "0a9a654b",
   "metadata": {},
   "source": [
    "- w.r.t your truth point and predicted point if you are getting some linear replationship then your model is good"
   ]
  },
  {
   "cell_type": "code",
   "execution_count": 111,
   "id": "73e8b165",
   "metadata": {},
   "outputs": [],
   "source": [
    "# residuals\n",
    "residuals=y_test-x_pred"
   ]
  },
  {
   "cell_type": "code",
   "execution_count": 112,
   "id": "7a315a83",
   "metadata": {},
   "outputs": [
    {
     "data": {
      "text/plain": [
       "<seaborn.axisgrid.FacetGrid at 0x1e4421df5b0>"
      ]
     },
     "execution_count": 112,
     "metadata": {},
     "output_type": "execute_result"
    },
    {
     "data": {
      "image/png": "[encoded data removed]",
      "text/plain": [
       "<Figure size 360x360 with 1 Axes>"
      ]
     },
     "metadata": {
      "needs_background": "light"
     },
     "output_type": "display_data"
    }
   ],
   "source": [
    "sns.displot(residuals,kind=\"kde\")"
   ]
  },
  {
   "cell_type": "markdown",
   "id": "3f2c8a78",
   "metadata": {},
   "source": [
    "- the residual (error) should follows a normal/gaussian distribution"
   ]
  },
  {
   "cell_type": "code",
   "execution_count": 113,
   "id": "c91b9651",
   "metadata": {},
   "outputs": [],
   "source": [
    "\n",
    "# scatter plot with prediction and residual\n",
    "#uniform distributiion"
   ]
  },
  {
   "cell_type": "code",
   "execution_count": 114,
   "id": "a21e86e3",
   "metadata": {},
   "outputs": [
    {
     "data": {
      "text/plain": [
       "<matplotlib.collections.PathCollection at 0x1e443d904f0>"
      ]
     },
     "execution_count": 114,
     "metadata": {},
     "output_type": "execute_result"
    },
    {
     "data": {
      "image/png": "[encoded data removed]",
      "text/plain": [
       "<Figure size 432x288 with 1 Axes>"
      ]
     },
     "metadata": {
      "needs_background": "light"
     },
     "output_type": "display_data"
    }
   ],
   "source": [
    "plt.scatter(x_pred,residuals)"
   ]
  },
  {
   "cell_type": "markdown",
   "id": "894d9ec0",
   "metadata": {},
   "source": [
    "## performance matrix"
   ]
  },
  {
   "cell_type": "code",
   "execution_count": 115,
   "id": "c07f3706",
   "metadata": {},
   "outputs": [
    {
     "name": "stdout",
     "output_type": "stream",
     "text": [
      "mean_absolute_error 1.9752423448340848\n",
      "(mean_squared_error 5.697176470385509\n",
      "root mean squared error 2.3868758808085326\n"
     ]
    }
   ],
   "source": [
    "from sklearn.metrics import mean_absolute_error,mean_squared_error\n",
    "print(\"mean_absolute_error\",mean_absolute_error(y_test,x_pred))\n",
    "print(\"(mean_squared_error\",mean_squared_error(y_test,x_pred))\n",
    "print(\"root mean squared error\",np.sqrt(mean_squared_error(y_test,x_pred)))"
   ]
  },
  {
   "cell_type": "markdown",
   "id": "90ce5f63",
   "metadata": {},
   "source": [
    "## r squared and adjusted R squared"
   ]
  },
  {
   "cell_type": "code",
   "execution_count": 116,
   "id": "2da4d67c",
   "metadata": {},
   "outputs": [
    {
     "name": "stdout",
     "output_type": "stream",
     "text": [
      "0.322288906787772\n"
     ]
    }
   ],
   "source": [
    "# r squared\n",
    "from sklearn.metrics import r2_score\n",
    "score=r2_score(y_test,x_pred)\n",
    "print(score)"
   ]
  },
  {
   "cell_type": "code",
   "execution_count": 118,
   "id": "1bf9606a",
   "metadata": {},
   "outputs": [
    {
     "data": {
      "text/plain": [
       "0.12080723042737995"
      ]
     },
     "execution_count": 118,
     "metadata": {},
     "output_type": "execute_result"
    }
   ],
   "source": [
    "## Adjusted R square\n",
    "#display adjusted R-squared\n",
    "1 - (1-score)*(len(y_test)-1)/(len(y_test)-x_test.shape[1]-1)"
   ]
  },
  {
   "cell_type": "code",
   "execution_count": null,
   "id": "e387c60c",
   "metadata": {},
   "outputs": [],
   "source": []
  }
 ],
 "metadata": {
  "kernelspec": {
   "display_name": "Python 3 (ipykernel)",
   "language": "python",
   "name": "python3"
  },
  "language_info": {
   "codemirror_mode": {
    "name": "ipython",
    "version": 3
   },
   "file_extension": ".py",
   "mimetype": "text/x-python",
   "name": "python",
   "nbconvert_exporter": "python",
   "pygments_lexer": "ipython3",
   "version": "3.9.12"
  }
 },
 "nbformat": 4,
 "nbformat_minor": 5
}
